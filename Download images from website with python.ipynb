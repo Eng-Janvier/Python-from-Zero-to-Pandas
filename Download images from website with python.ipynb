{
 "cells": [
  {
   "cell_type": "markdown",
   "id": "90e973f2",
   "metadata": {},
   "source": [
    "Read website content with python"
   ]
  },
  {
   "cell_type": "markdown",
   "id": "e5ee9ba5",
   "metadata": {},
   "source": [
    "# Download images from the website by using python"
   ]
  },
  {
   "cell_type": "code",
   "execution_count": 1,
   "id": "af3fea81",
   "metadata": {},
   "outputs": [],
   "source": [
    "import os"
   ]
  },
  {
   "cell_type": "code",
   "execution_count": 2,
   "id": "8a990686",
   "metadata": {},
   "outputs": [
    {
     "name": "stdout",
     "output_type": "stream",
     "text": [
      "C:\\Users\\HP\\Desktop\\AI & IoT ONLINE\n"
     ]
    }
   ],
   "source": [
    "print(os.getcwd())"
   ]
  },
  {
   "cell_type": "code",
   "execution_count": 3,
   "id": "f3413e0c",
   "metadata": {},
   "outputs": [
    {
     "name": "stdout",
     "output_type": "stream",
     "text": [
      "['.ipynb_checkpoints', 'Day-2-Web-Anti-Crawling.ipynb', 'download a picture.ipynb', 'Download images from website with python.ipynb', 'download_images', 'Untitled1.ipynb']\n"
     ]
    }
   ],
   "source": [
    "print(os.listdir())"
   ]
  },
  {
   "cell_type": "code",
   "execution_count": 4,
   "id": "b0018242",
   "metadata": {},
   "outputs": [],
   "source": [
    "#import libraries\n",
    "from bs4 import BeautifulSoup\n",
    "import requests"
   ]
  },
  {
   "cell_type": "code",
   "execution_count": 5,
   "id": "c31628ce",
   "metadata": {},
   "outputs": [
    {
     "name": "stdout",
     "output_type": "stream",
     "text": [
      "Requirement already satisfied: beautifulsoup4 in c:\\users\\hp\\anaconda3\\envs\\ai-fellowship\\lib\\site-packages (4.10.0)\n",
      "Requirement already satisfied: soupsieve>1.2 in c:\\users\\hp\\anaconda3\\envs\\ai-fellowship\\lib\\site-packages (from beautifulsoup4) (2.3.1)\n"
     ]
    }
   ],
   "source": [
    "!pip install beautifulsoup4"
   ]
  },
  {
   "cell_type": "code",
   "execution_count": 6,
   "id": "3651cc76",
   "metadata": {},
   "outputs": [
    {
     "name": "stdout",
     "output_type": "stream",
     "text": [
      "Requirement already satisfied: requests in c:\\users\\hp\\anaconda3\\envs\\ai-fellowship\\lib\\site-packages (2.27.1)\n",
      "Requirement already satisfied: charset-normalizer~=2.0.0 in c:\\users\\hp\\anaconda3\\envs\\ai-fellowship\\lib\\site-packages (from requests) (2.0.11)\n",
      "Requirement already satisfied: idna<4,>=2.5 in c:\\users\\hp\\anaconda3\\envs\\ai-fellowship\\lib\\site-packages (from requests) (3.3)\n",
      "Requirement already satisfied: urllib3<1.27,>=1.21.1 in c:\\users\\hp\\anaconda3\\envs\\ai-fellowship\\lib\\site-packages (from requests) (1.26.8)\n",
      "Requirement already satisfied: certifi>=2017.4.17 in c:\\users\\hp\\anaconda3\\envs\\ai-fellowship\\lib\\site-packages (from requests) (2021.10.8)\n"
     ]
    }
   ],
   "source": [
    "!pip install requests"
   ]
  },
  {
   "cell_type": "code",
   "execution_count": 7,
   "id": "eca00fbb",
   "metadata": {},
   "outputs": [],
   "source": [
    "url=\"https://www.google.com/search?q=ai+images&source=lnms&tbm=isch&sa=X&ved=2ahUKEwiKoNvhkt71AhVPzhoKHfHuCNgQ_AUoAXoECAEQAw&biw=1062&bih=744&dpr=1.25\""
   ]
  },
  {
   "cell_type": "code",
   "execution_count": 8,
   "id": "84f001a1",
   "metadata": {},
   "outputs": [],
   "source": [
    "page=requests.get(url)"
   ]
  },
  {
   "cell_type": "code",
   "execution_count": 9,
   "id": "486a9610",
   "metadata": {},
   "outputs": [],
   "source": [
    "#parse the html content\n",
    "sop=BeautifulSoup(page.text,'html.parser')"
   ]
  },
  {
   "cell_type": "code",
   "execution_count": 10,
   "id": "4800d734",
   "metadata": {},
   "outputs": [
    {
     "name": "stdout",
     "output_type": "stream",
     "text": [
      "<!DOCTYPE html PUBLIC \"-//WAPFORUM//DTD XHTML Mobile 1.0//EN\" \"http://www.wapforum.org/DTD/xhtml-mobile10.dtd\">\n",
      "<html lang=\"en-RW\" xmlns=\"http://www.w3.org/1999/xhtml\"><head><meta content=\"application/xhtml+xml; charset=utf-8\" http-equiv=\"Content-Type\"/><meta content=\"no-cache\" name=\"Cache-Control\"/><title>ai images - Google Search</title><style>a{text-decoration:none;color:inherit}a:hover{text-decoration:underline}a img{border:0}body{font-family:Roboto,Helvetica,Arial,sans-serif;padding:8px;margin:0 auto;max-width:700px;min-width:240px;}.FbhRzb{border-left:thin solid #dadce0;border-right:thin solid #dadce0;border-top:thin solid #dadce0;height:40px;overflow:hidden}.n692Zd{margin-bottom:10px}.cvifge{height:40px;border-spacing:0}.QvGUP{height:40px;padding:0 8px 0 8px;vertical-align:top}.O4cRJf{height:40px;width:100%;padding:0;padding-right:16px}.O1ePr{height:40px;padding:0;vertical-align:top}.kgJEQe{height:36px;width:98px;vertical-align:top;margin-top:4px}.lXLRf{vertical-align:top}.MhzMZd{border:0;vertical-align:middle;font-size:14px;height:40px;padding:0;width:100%;padding-left:16px}.xB0fq{height:40px;border:none;font-size:14px;background-color:#4285f4;color:#fff;padding:0 16px;margin:0;vertical-align:top;cursor:pointer}.xB0fq:focus{border:1px solid #000}.M7pB2{border:thin solid #dadce0;margin:0 0 3px 0;font-size:13px;font-weight:500;height:40px}.euZec{width:100%;height:40px;text-align:center;border-spacing:0}table.euZec td{padding:0;width:25%}.QIqI7{display:inline-block;padding-top:4px;font-weight:bold;color:#4285f4}.EY24We{border-bottom:2px solid #4285f4}.CsQyDc{display:inline-block;color:#70757a}.TuS8Ad{font-size:14px}.HddGcc{padding:8px;color:#70757a}.dzp8ae{font-weight:bold;color:#3c4043}.rEM8G{color:#70757a}.bookcf{table-layout:fixed;width:100%;border-spacing:0}.InWNIe{text-align:center}.uZgmoc{border:thin solid #dadce0;color:#70757a;font-size:14px;text-align:center;table-layout:fixed;width:100%}.frGj1b{display:block;padding:12px 0 12px 0;width:100%}.BnJWBc{text-align:center;padding:6px 0 13px 0;height:35px}.e3goi{vertical-align:top;padding:0;height:180px}.GpQGbf{margin:auto;border-collapse:collapse;border-spacing:0;width:100%}</style></head><body><style>.X6ZCif{color:#202124;font-size:11px;line-height:16px;display:inline-block;padding-top:2px;overflow:hidden;padding-bottom:4px;width:100%}.TwVfHd{border-radius:16px;border:thin solid #dadce0;display:inline-block;padding:8px 8px;margin-right:8px;margin-bottom:4px}.yekiAe{background-color:#dadce0}.mnTahd{width:100%}.ezO2md{border:thin solid #dadce0;padding:12px 16px 12px 16px;margin-bottom:10px;font-family:Roboto,Helvetica,Arial,sans-serif}.lIMUZd{font-family:Roboto,Helvetica,Arial,sans-serif}.IkMU6e{border-spacing:0}.SjCsie{width:100%}.EnarA{text-align:center}.NZWO1b{width:162px;height:140px;line-height:140px;overflow:'hidden';text-align:center}.yWs4tf{text-align:center;margin:auto;vertical-align:middle;max-width:162px;max-height:140px}.jB2rPd{padding-top:2px;padding-bottom:8px;}.fYyStc{word-break:break-word}.ynsChf{display:block;white-space:nowrap;overflow:hidden;text-overflow:ellipsis}.Fj3V3b{color:#1967d2;font-size:14px;line-height:20px}.FrIlee{color:#202124;font-size:11px;line-height:16px}.F9iS2e{color:#70757a;font-size:11px;line-height:16px}.WMQ2Le{color:#70757a;font-size:12px;line-height:16px}.x3G5ab{color:#202124;font-size:12px;line-height:16px}.fuLhoc{color:#1967d2;font-size:16px;line-height:20px}.epoveb{font-size:24px;line-height:28px;font-weight:400;color:#202124}.dXDvrc{color:#0d652d;font-size:14px;line-height:20px;word-wrap:break-word}.dloBPe{font-weight:bold}.YVIcad{color:#70757a}.JkVVdd{color:#ea4335}.oXZRFd{color:#ea4335}.MQHtg{color:#fbbc04}.pyMRrb{color:#1e8e3e}.EtTZid{color:#1e8e3e}.M3vVJe{color:#1967d2}.qXLe6d{display:block}.NHQNef{font-style:italic}.Cb8Z7c{white-space:pre}a.ZWRArf{text-decoration:none}a .CVA68e:hover{text-decoration:underline}</style><div class=\"n692Zd\"><div class=\"BnJWBc\"><a class=\"lXLRf\" href=\"/?sa=X&amp;biw=1062&amp;bih=744&amp;output=images&amp;ie=UTF-8&amp;tbm=isch&amp;ved=0ahUKEwihurj9kt71AhUK3IUKHZ1JAQ4QPAgC\"><img alt=\"Google\" class=\"kgJEQe\" src=\"/images/branding/searchlogo/1x/googlelogo_desk_heirloom_color_150x55dp.gif\"/></a></div><div class=\"FbhRzb\"><form action=\"/search\"><input name=\"biw\" type=\"hidden\" value=\"1062\"/><input name=\"bih\" type=\"hidden\" value=\"744\"/><input name=\"ie\" type=\"hidden\" value=\"ISO-8859-1\"/><input name=\"tbm\" type=\"hidden\" value=\"isch\"/><input name=\"oq\" type=\"hidden\"/><input name=\"aqs\" type=\"hidden\"/><table class=\"cvifge\"><tr><td class=\"O4cRJf\"><input class=\"MhzMZd\" name=\"q\" type=\"text\" value=\"ai images\"/></td><td class=\"O1ePr\"><input class=\"xB0fq\" type=\"submit\" value=\"Search\"/></td></tr></table></form></div><div class=\"M7pB2\"><table class=\"euZec\"><tbody><tr><td><a class=\"CsQyDc\" href=\"/search?q=ai+images&amp;biw=1062&amp;bih=744&amp;ie=UTF-8&amp;source=lnms&amp;sa=X&amp;ved=0ahUKEwihurj9kt71AhUK3IUKHZ1JAQ4Q_AUIBCgA\">ALL</a></td><td class=\"EY24We\"><span class=\"QIqI7\">IMAGES</span></td><td><a class=\"CsQyDc\" href=\"/search?q=ai+images&amp;biw=1062&amp;bih=744&amp;ie=UTF-8&amp;tbm=vid&amp;source=lnms&amp;sa=X&amp;ved=0ahUKEwihurj9kt71AhUK3IUKHZ1JAQ4Q_AUIBigC\">VIDEOS</a></td><td><a class=\"CsQyDc\" href=\"/search?q=ai+images&amp;biw=1062&amp;bih=744&amp;ie=UTF-8&amp;tbm=nws&amp;source=lnms&amp;sa=X&amp;ved=0ahUKEwihurj9kt71AhUK3IUKHZ1JAQ4Q_AUIBygD\">NEWS</a></td></tr></tbody></table></div></div><div class=\"X6ZCif\"><a class=\"TwVfHd\" href=\"/search?biw=1062&amp;bih=744&amp;ie=UTF-8&amp;tbm=isch&amp;q=ai+images&amp;chips=q:ai+images,g_1:future&amp;sa=X&amp;ved=0ahUKEwihurj9kt71AhUK3IUKHZ1JAQ4Q4lYICygA\">future</a><a class=\"TwVfHd\" href=\"/search?biw=1062&amp;bih=744&amp;ie=UTF-8&amp;tbm=isch&amp;q=ai+images&amp;chips=q:ai+images,g_1:icon&amp;sa=X&amp;ved=0ahUKEwihurj9kt71AhUK3IUKHZ1JAQ4Q4lYIDCgB\">icon</a><a class=\"TwVfHd\" href=\"/search?biw=1062&amp;bih=744&amp;ie=UTF-8&amp;tbm=isch&amp;q=ai+images&amp;chips=q:ai+images,g_1:background&amp;sa=X&amp;ved=0ahUKEwihurj9kt71AhUK3IUKHZ1JAQ4Q4lYIDSgC\">background</a><a class=\"TwVfHd\" href=\"/search?biw=1062&amp;bih=744&amp;ie=UTF-8&amp;tbm=isch&amp;q=ai+images&amp;chips=q:ai+images,g_1:artificial+intelligence&amp;sa=X&amp;ved=0ahUKEwihurj9kt71AhUK3IUKHZ1JAQ4Q4lYIDigD\">artificial intelligence</a><a class=\"TwVfHd\" href=\"/search?biw=1062&amp;bih=744&amp;ie=UTF-8&amp;tbm=isch&amp;q=ai+images&amp;chips=q:ai+images,g_1:dream&amp;sa=X&amp;ved=0ahUKEwihurj9kt71AhUK3IUKHZ1JAQ4Q4lYIDygE\">dream</a><a class=\"TwVfHd\" href=\"/search?biw=1062&amp;bih=744&amp;ie=UTF-8&amp;tbm=isch&amp;q=ai+images&amp;chips=q:ai+images,g_1:healthcare&amp;sa=X&amp;ved=0ahUKEwihurj9kt71AhUK3IUKHZ1JAQ4Q4lYIECgF\">healthcare</a><a class=\"TwVfHd\" href=\"/search?biw=1062&amp;bih=744&amp;ie=UTF-8&amp;tbm=isch&amp;q=ai+images&amp;chips=q:ai+images,g_1:brain&amp;sa=X&amp;ved=0ahUKEwihurj9kt71AhUK3IUKHZ1JAQ4Q4lYIESgG\">brain</a><a class=\"TwVfHd\" href=\"/search?biw=1062&amp;bih=744&amp;ie=UTF-8&amp;tbm=isch&amp;q=ai+images&amp;chips=q:ai+images,g_1:machine+learning&amp;sa=X&amp;ved=0ahUKEwihurj9kt71AhUK3IUKHZ1JAQ4Q4lYIEigH\">machine learning</a><a class=\"TwVfHd\" href=\"/search?biw=1062&amp;bih=744&amp;ie=UTF-8&amp;tbm=isch&amp;q=ai+images&amp;chips=q:ai+images,g_1:human&amp;sa=X&amp;ved=0ahUKEwihurj9kt71AhUK3IUKHZ1JAQ4Q4lYIEygI\">human</a><a class=\"TwVfHd\" href=\"/search?biw=1062&amp;bih=744&amp;ie=UTF-8&amp;tbm=isch&amp;q=ai+images&amp;chips=q:ai+images,g_1:technology&amp;sa=X&amp;ved=0ahUKEwihurj9kt71AhUK3IUKHZ1JAQ4Q4lYIFCgJ\">technology</a></div><div><table class=\"GpQGbf\"><tr><td align=\"center\" class=\"e3goi\"><div class=\"mnTahd\"> <div> <div class=\"lIMUZd\"><div><table class=\"IkMU6e\"><tr><td><a href=\"/url?q=https://bernardmarr.com/what-is-the-importance-of-artificial-intelligence-ai/&amp;sa=U&amp;ved=2ahUKEwihurj9kt71AhUK3IUKHZ1JAQ4QqoUBegQIBhAB&amp;usg=AOvVaw1lxxDWDlkA2DxZ0kKOS282\"><div class=\"NZWO1b\"><img alt=\"\" class=\"yWs4tf\" src=\"https://encrypted-tbn0.gstatic.com/images?q=tbn:ANd9GcT7kNzl39RmGU_sleE7M-jZ3jYqadaVhzq7yIGfveflGp3CZ9O7ZcrTbpUDquE&amp;s\"/></div></a></td></tr><tr><td><a href=\"/url?q=https://bernardmarr.com/what-is-the-importance-of-artificial-intelligence-ai/&amp;sa=U&amp;ved=2ahUKEwihurj9kt71AhUK3IUKHZ1JAQ4Qr4kDegQIBhAC&amp;usg=AOvVaw1rRTCo4C8icBk_mghaga9B\"><div class=\"jB2rPd\"> <span class=\"qXLe6d x3G5ab\"> <span class=\"fYyStc\">What Is The Importance Of...</span> </span> <span class=\"qXLe6d F9iS2e\"> <span class=\"fYyStc\">bernardmarr.com</span> </span> </div></a></td></tr></table></div></div> </div> </div></td><td align=\"center\" class=\"e3goi\"><div class=\"mnTahd\"> <div> <div class=\"lIMUZd\"><div><table class=\"IkMU6e\"><tr><td><a href=\"/url?q=https://semicolon-ltd.com/blog/article/evolution-of-ai%3Flang%3Den&amp;sa=U&amp;ved=2ahUKEwihurj9kt71AhUK3IUKHZ1JAQ4QqoUBegQIEhAB&amp;usg=AOvVaw3m3GmHx_pobNowR2LWTG6x\"><div class=\"NZWO1b\"><img alt=\"\" class=\"yWs4tf\" src=\"https://encrypted-tbn0.gstatic.com/images?q=tbn:ANd9GcQk4CmWlc0naNtWACZpkGRP5ja_pbfKXxavQxRic0duzyuzYeG8PiTenJz0FpI&amp;s\"/></div></a></td></tr><tr><td><a href=\"/url?q=https://semicolon-ltd.com/blog/article/evolution-of-ai%3Flang%3Den&amp;sa=U&amp;ved=2ahUKEwihurj9kt71AhUK3IUKHZ1JAQ4Qr4kDegQIEhAC&amp;usg=AOvVaw37oqLFaaxM1R9HH2e56U06\"><div class=\"jB2rPd\"> <span class=\"qXLe6d x3G5ab\"> <span class=\"fYyStc\">Semicolon || Evolution of...</span> </span> <span class=\"qXLe6d F9iS2e\"> <span class=\"fYyStc\">semicolon-ltd.com</span> </span> </div></a></td></tr></table></div></div> </div> </div></td><td align=\"center\" class=\"e3goi\"><div class=\"mnTahd\"> <div> <div class=\"lIMUZd\"><div><table class=\"IkMU6e\"><tr><td><a href=\"/url?q=https://knowledge4policy.ec.europa.eu/ai-watch_en&amp;sa=U&amp;ved=2ahUKEwihurj9kt71AhUK3IUKHZ1JAQ4QqoUBegQIExAB&amp;usg=AOvVaw23m9j3Vi64rvRamCzFeMXp\"><div class=\"NZWO1b\"><img alt=\"\" class=\"yWs4tf\" src=\"https://encrypted-tbn0.gstatic.com/images?q=tbn:ANd9GcSidKhPu0KQj_J3PU_Ha_v_8joJ0DLBg7jkD5xFtNEumQsAEfXhM7XtsPA7uYs&amp;s\"/></div></a></td></tr><tr><td><a href=\"/url?q=https://knowledge4policy.ec.europa.eu/ai-watch_en&amp;sa=U&amp;ved=2ahUKEwihurj9kt71AhUK3IUKHZ1JAQ4Qr4kDegQIExAC&amp;usg=AOvVaw0L56_Mcx9aXXgAu2eqHGc9\"><div class=\"jB2rPd\"> <span class=\"qXLe6d x3G5ab\"> <span class=\"fYyStc\">AI Watch</span> </span> <span class=\"qXLe6d F9iS2e\"> <span class=\"fYyStc\">knowledge4policy.ec.europa....</span> </span> </div></a></td></tr></table></div></div> </div> </div></td><td align=\"center\" class=\"e3goi\"><div class=\"mnTahd\"> <div> <div class=\"lIMUZd\"><div><table class=\"IkMU6e\"><tr><td><a href=\"/url?q=https://www.innereye.ai/&amp;sa=U&amp;ved=2ahUKEwihurj9kt71AhUK3IUKHZ1JAQ4QqoUBegQIERAB&amp;usg=AOvVaw0Og7A5KOIbWBOqSOvxclxS\"><div class=\"NZWO1b\"><img alt=\"\" class=\"yWs4tf\" src=\"https://encrypted-tbn0.gstatic.com/images?q=tbn:ANd9GcRjWaRjkpUtcsnLg9Huw43Xq3kA-oe9Nwg2i1vcbYOccOwxJ7MKFdi1APxKyg&amp;s\"/></div></a></td></tr><tr><td><a href=\"/url?q=https://www.innereye.ai/&amp;sa=U&amp;ved=2ahUKEwihurj9kt71AhUK3IUKHZ1JAQ4Qr4kDegQIERAC&amp;usg=AOvVaw2Iu8dAYzGJq-gfp6WU0HEE\"><div class=\"jB2rPd\"> <span class=\"qXLe6d x3G5ab\"> <span class=\"fYyStc\">InnerEye</span> </span> <span class=\"qXLe6d F9iS2e\"> <span class=\"fYyStc\">www.innereye.ai</span> </span> </div></a></td></tr></table></div></div> </div> </div></td></tr><tr><td align=\"center\" class=\"e3goi\"><div class=\"mnTahd\"> <div> <div class=\"lIMUZd\"><div><table class=\"IkMU6e\"><tr><td><a href=\"/url?q=https://itchronicles.com/artificial-intelligence/where-is-ai-used-today/&amp;sa=U&amp;ved=2ahUKEwihurj9kt71AhUK3IUKHZ1JAQ4QqoUBegQIEBAB&amp;usg=AOvVaw3WpQzEggH5SO8jHtmblV8J\"><div class=\"NZWO1b\"><img alt=\"\" class=\"yWs4tf\" src=\"https://encrypted-tbn0.gstatic.com/images?q=tbn:ANd9GcRXlKS2mZ0RgcbiqhDbnXGC_9b4LmUdbfl1Y8WURUSVo-vMV77pgJkIboiQIGw&amp;s\"/></div></a></td></tr><tr><td><a href=\"/url?q=https://itchronicles.com/artificial-intelligence/where-is-ai-used-today/&amp;sa=U&amp;ved=2ahUKEwihurj9kt71AhUK3IUKHZ1JAQ4Qr4kDegQIEBAC&amp;usg=AOvVaw31IzfkA9tAgWyQ6PBzZDSb\"><div class=\"jB2rPd\"> <span class=\"qXLe6d x3G5ab\"> <span class=\"fYyStc\">Where is Artificial...</span> </span> <span class=\"qXLe6d F9iS2e\"> <span class=\"fYyStc\">itchronicles.com</span> </span> </div></a></td></tr></table></div></div> </div> </div></td><td align=\"center\" class=\"e3goi\"><div class=\"mnTahd\"> <div> <div class=\"lIMUZd\"><div><table class=\"IkMU6e\"><tr><td><a href=\"/url?q=https://www.istockphoto.com/photos/ai&amp;sa=U&amp;ved=2ahUKEwihurj9kt71AhUK3IUKHZ1JAQ4QqoUBegQIDhAB&amp;usg=AOvVaw0xd5jTy3EEFhCDauUhu9au\"><div class=\"NZWO1b\"><img alt=\"\" class=\"yWs4tf\" src=\"https://encrypted-tbn0.gstatic.com/images?q=tbn:ANd9GcTS17bq4S2dsbxtQ7F7WWU0Btx9pzBGb0SkTeIa08zCyyAuqsPOASv_1ndKsw&amp;s\"/></div></a></td></tr><tr><td><a href=\"/url?q=https://www.istockphoto.com/photos/ai&amp;sa=U&amp;ved=2ahUKEwihurj9kt71AhUK3IUKHZ1JAQ4Qr4kDegQIDhAC&amp;usg=AOvVaw05eaFHwUNlCwU2SiWlqL-q\"><div class=\"jB2rPd\"> <span class=\"qXLe6d x3G5ab\"> <span class=\"fYyStc\">189,921 Ai Stock Photos,...</span> </span> <span class=\"qXLe6d F9iS2e\"> <span class=\"fYyStc\">www.istockphoto.com</span> </span> </div></a></td></tr></table></div></div> </div> </div></td><td align=\"center\" class=\"e3goi\"><div class=\"mnTahd\"> <div> <div class=\"lIMUZd\"><div><table class=\"IkMU6e\"><tr><td><a href=\"/url?q=https://www.weforum.org/agenda/2021/11/positive-artificial-intelligence-visions-for-the-future-of-work/&amp;sa=U&amp;ved=2ahUKEwihurj9kt71AhUK3IUKHZ1JAQ4QqoUBegQIDxAB&amp;usg=AOvVaw2Q8cxnMPelhBdBcDap79NV\"><div class=\"NZWO1b\"><img alt=\"\" class=\"yWs4tf\" src=\"https://encrypted-tbn0.gstatic.com/images?q=tbn:ANd9GcSTvE0Y3zP-qXTYG1cQRfIrrCdMSSHx9w-aDgrfzsll7A02Vgmf7i4peLJHKA&amp;s\"/></div></a></td></tr><tr><td><a href=\"/url?q=https://www.weforum.org/agenda/2021/11/positive-artificial-intelligence-visions-for-the-future-of-work/&amp;sa=U&amp;ved=2ahUKEwihurj9kt71AhUK3IUKHZ1JAQ4Qr4kDegQIDxAC&amp;usg=AOvVaw2nNrauOVURXSOJwEPNJ9pb\"><div class=\"jB2rPd\"> <span class=\"qXLe6d x3G5ab\"> <span class=\"fYyStc\">Experts share 6 positive AI...</span> </span> <span class=\"qXLe6d F9iS2e\"> <span class=\"fYyStc\">www.weforum.org</span> </span> </div></a></td></tr></table></div></div> </div> </div></td><td align=\"center\" class=\"e3goi\"><div class=\"mnTahd\"> <div> <div class=\"lIMUZd\"><div><table class=\"IkMU6e\"><tr><td><a href=\"/url?q=https://corporatefinanceinstitute.com/resources/knowledge/other/artificial-intelligence-ai/&amp;sa=U&amp;ved=2ahUKEwihurj9kt71AhUK3IUKHZ1JAQ4QqoUBegQIChAB&amp;usg=AOvVaw0Olw9RH6mUNkz67o_TuSoP\"><div class=\"NZWO1b\"><img alt=\"\" class=\"yWs4tf\" src=\"https://encrypted-tbn0.gstatic.com/images?q=tbn:ANd9GcTTxAKlFrNThZfo_42wKtPckuQUm-TBmFWL5EPJZbKN-CaDyDqLMkK_-_v9ZIo&amp;s\"/></div></a></td></tr><tr><td><a href=\"/url?q=https://corporatefinanceinstitute.com/resources/knowledge/other/artificial-intelligence-ai/&amp;sa=U&amp;ved=2ahUKEwihurj9kt71AhUK3IUKHZ1JAQ4Qr4kDegQIChAC&amp;usg=AOvVaw3-PHI2UuUDokEr-6LG3QVo\"><div class=\"jB2rPd\"> <span class=\"qXLe6d x3G5ab\"> <span class=\"fYyStc\">Artificial Intelligence...</span> </span> <span class=\"qXLe6d F9iS2e\"> <span class=\"fYyStc\">corporatefinanceinstitute.c...</span> </span> </div></a></td></tr></table></div></div> </div> </div></td></tr><tr><td align=\"center\" class=\"e3goi\"><div class=\"mnTahd\"> <div> <div class=\"lIMUZd\"><div><table class=\"IkMU6e\"><tr><td><a href=\"/url?q=https://www.mygreatlearning.com/blog/artificial-intelligence-tutorial/&amp;sa=U&amp;ved=2ahUKEwihurj9kt71AhUK3IUKHZ1JAQ4QqoUBegQICRAB&amp;usg=AOvVaw20fUum7zI9ujQJdudl5qOD\"><div class=\"NZWO1b\"><img alt=\"\" class=\"yWs4tf\" src=\"https://encrypted-tbn0.gstatic.com/images?q=tbn:ANd9GcRnkAjN6eNfpJg790HATCmpc3qBD-VCVwn-eU-fQttn3CgJjD1JUA-f7y3nig&amp;s\"/></div></a></td></tr><tr><td><a href=\"/url?q=https://www.mygreatlearning.com/blog/artificial-intelligence-tutorial/&amp;sa=U&amp;ved=2ahUKEwihurj9kt71AhUK3IUKHZ1JAQ4Qr4kDegQICRAC&amp;usg=AOvVaw0yTKM550NQJMebMJiWugIP\"><div class=\"jB2rPd\"> <span class=\"qXLe6d x3G5ab\"> <span class=\"fYyStc\">Artificial Intelligence...</span> </span> <span class=\"qXLe6d F9iS2e\"> <span class=\"fYyStc\">www.mygreatlearning.com</span> </span> </div></a></td></tr></table></div></div> </div> </div></td><td align=\"center\" class=\"e3goi\"><div class=\"mnTahd\"> <div> <div class=\"lIMUZd\"><div><table class=\"IkMU6e\"><tr><td><a href=\"/url?q=https://blogs.salleurl.edu/en/ai-data-centers&amp;sa=U&amp;ved=2ahUKEwihurj9kt71AhUK3IUKHZ1JAQ4QqoUBegQIBxAB&amp;usg=AOvVaw0wDsvcqob1c0w7TLEOdfQ7\"><div class=\"NZWO1b\"><img alt=\"\" class=\"yWs4tf\" src=\"https://encrypted-tbn0.gstatic.com/images?q=tbn:ANd9GcRyhK0mIc6FR1EpfwLQ9bqHrZ3BNlQoPd7MwiN1gbgf1wbTDrmGqfI4Mqq_Wqo&amp;s\"/></div></a></td></tr><tr><td><a href=\"/url?q=https://blogs.salleurl.edu/en/ai-data-centers&amp;sa=U&amp;ved=2ahUKEwihurj9kt71AhUK3IUKHZ1JAQ4Qr4kDegQIBxAC&amp;usg=AOvVaw25GqDqJycwM1ttvOMu_fma\"><div class=\"jB2rPd\"> <span class=\"qXLe6d x3G5ab\"> <span class=\"fYyStc\">AI in the data centers</span> </span> <span class=\"qXLe6d F9iS2e\"> <span class=\"fYyStc\">blogs.salleurl.edu</span> </span> </div></a></td></tr></table></div></div> </div> </div></td><td align=\"center\" class=\"e3goi\"><div class=\"mnTahd\"> <div> <div class=\"lIMUZd\"><div><table class=\"IkMU6e\"><tr><td><a href=\"/url?q=https://www.nibib.nih.gov/science-education/science-topics/artificial-intelligence-ai&amp;sa=U&amp;ved=2ahUKEwihurj9kt71AhUK3IUKHZ1JAQ4QqoUBegQICBAB&amp;usg=AOvVaw17gyBqgQZs9CkJlAwDK7hu\"><div class=\"NZWO1b\"><img alt=\"\" class=\"yWs4tf\" src=\"https://encrypted-tbn0.gstatic.com/images?q=tbn:ANd9GcSducT2MYDZdBl80ICFMRyY8nfctBzaZY5Eqct5ERzqXnDTp69RuJYgMS-WGQ&amp;s\"/></div></a></td></tr><tr><td><a href=\"/url?q=https://www.nibib.nih.gov/science-education/science-topics/artificial-intelligence-ai&amp;sa=U&amp;ved=2ahUKEwihurj9kt71AhUK3IUKHZ1JAQ4Qr4kDegQICBAC&amp;usg=AOvVaw3TyW-qiu28VAzuTyl1Uxz-\"><div class=\"jB2rPd\"> <span class=\"qXLe6d x3G5ab\"> <span class=\"fYyStc\">Artificial Intelligence...</span> </span> <span class=\"qXLe6d F9iS2e\"> <span class=\"fYyStc\">www.nibib.nih.gov</span> </span> </div></a></td></tr></table></div></div> </div> </div></td><td align=\"center\" class=\"e3goi\"><div class=\"mnTahd\"> <div> <div class=\"lIMUZd\"><div><table class=\"IkMU6e\"><tr><td><a href=\"/url?q=https://www.securityforward.com/how-ai-is-easing-our-daily-lives/&amp;sa=U&amp;ved=2ahUKEwihurj9kt71AhUK3IUKHZ1JAQ4QqoUBegQIDRAB&amp;usg=AOvVaw02yNo8S-la4qOVy5cKUPI7\"><div class=\"NZWO1b\"><img alt=\"\" class=\"yWs4tf\" src=\"https://encrypted-tbn0.gstatic.com/images?q=tbn:ANd9GcQ0pVCe1vlckaYA51PnlFohofzGde1NX18enm6QKtcVp6VILPstNP2R55aGKzc&amp;s\"/></div></a></td></tr><tr><td><a href=\"/url?q=https://www.securityforward.com/how-ai-is-easing-our-daily-lives/&amp;sa=U&amp;ved=2ahUKEwihurj9kt71AhUK3IUKHZ1JAQ4Qr4kDegQIDRAC&amp;usg=AOvVaw3YkGv61wt64RgtSkBhbkpQ\"><div class=\"jB2rPd\"> <span class=\"qXLe6d x3G5ab\"> <span class=\"fYyStc\">How AI Is Easing Our Daily...</span> </span> <span class=\"qXLe6d F9iS2e\"> <span class=\"fYyStc\">www.securityforward.com</span> </span> </div></a></td></tr></table></div></div> </div> </div></td></tr><tr><td align=\"center\" class=\"e3goi\"><div class=\"mnTahd\"> <div> <div class=\"lIMUZd\"><div><table class=\"IkMU6e\"><tr><td><a href=\"/url?q=https://www.state.gov/artificial-intelligence/&amp;sa=U&amp;ved=2ahUKEwihurj9kt71AhUK3IUKHZ1JAQ4QqoUBegQIDBAB&amp;usg=AOvVaw08sysIEtPQZTjdoBVZrSz1\"><div class=\"NZWO1b\"><img alt=\"\" class=\"yWs4tf\" src=\"https://encrypted-tbn0.gstatic.com/images?q=tbn:ANd9GcRGgeEQ_HTQti65Lp48RS_QWhvGIv_kwSFf8Dvs5zMYvYQPNQpuyTuvPbySKkM&amp;s\"/></div></a></td></tr><tr><td><a href=\"/url?q=https://www.state.gov/artificial-intelligence/&amp;sa=U&amp;ved=2ahUKEwihurj9kt71AhUK3IUKHZ1JAQ4Qr4kDegQIDBAC&amp;usg=AOvVaw13X3sP2rK-BUmAD4CPOU1Z\"><div class=\"jB2rPd\"> <span class=\"qXLe6d x3G5ab\"> <span class=\"fYyStc\">Artificial Intelligence...</span> </span> <span class=\"qXLe6d F9iS2e\"> <span class=\"fYyStc\">www.state.gov</span> </span> </div></a></td></tr></table></div></div> </div> </div></td><td align=\"center\" class=\"e3goi\"><div class=\"mnTahd\"> <div> <div class=\"lIMUZd\"><div><table class=\"IkMU6e\"><tr><td><a href=\"/url?q=https://www.istockphoto.com/photos/artificial-intelligence&amp;sa=U&amp;ved=2ahUKEwihurj9kt71AhUK3IUKHZ1JAQ4QqoUBegQICxAB&amp;usg=AOvVaw3R9yslbIBGaqzfvTPufo9z\"><div class=\"NZWO1b\"><img alt=\"\" class=\"yWs4tf\" src=\"https://encrypted-tbn0.gstatic.com/images?q=tbn:ANd9GcQ9u0JNBDFTsXSFolmP9RreluCBfN6KwMA4ZdaX-ncIRvu0SGRs7Jo2_k6GE9k&amp;s\"/></div></a></td></tr><tr><td><a href=\"/url?q=https://www.istockphoto.com/photos/artificial-intelligence&amp;sa=U&amp;ved=2ahUKEwihurj9kt71AhUK3IUKHZ1JAQ4Qr4kDegQICxAC&amp;usg=AOvVaw3PSaQcku4o1N9AgtN1Amw_\"><div class=\"jB2rPd\"> <span class=\"qXLe6d x3G5ab\"> <span class=\"fYyStc\">186,671 Artificial...</span> </span> <span class=\"qXLe6d F9iS2e\"> <span class=\"fYyStc\">www.istockphoto.com</span> </span> </div></a></td></tr></table></div></div> </div> </div></td><td align=\"center\" class=\"e3goi\"><div class=\"mnTahd\"> <div> <div class=\"lIMUZd\"><div><table class=\"IkMU6e\"><tr><td><a href=\"/url?q=https://emarsys.com/learn/blog/ai-marketing-optimizes-decicion-making/&amp;sa=U&amp;ved=2ahUKEwihurj9kt71AhUK3IUKHZ1JAQ4QqoUBegQIABAB&amp;usg=AOvVaw21jUr4MDhtLlqGU0RPRGyx\"><div class=\"NZWO1b\"><img alt=\"\" class=\"yWs4tf\" src=\"https://encrypted-tbn0.gstatic.com/images?q=tbn:ANd9GcTxa2gLDfWxl7kIdVGQsdzFkRdDXv3fV_d4xhWKoj6MM9luE1BqXVfoixG1QQ&amp;s\"/></div></a></td></tr><tr><td><a href=\"/url?q=https://emarsys.com/learn/blog/ai-marketing-optimizes-decicion-making/&amp;sa=U&amp;ved=2ahUKEwihurj9kt71AhUK3IUKHZ1JAQ4Qr4kDegQIABAC&amp;usg=AOvVaw3QsMyVmMxYHUEEqyH_Aqyh\"><div class=\"jB2rPd\"> <span class=\"qXLe6d x3G5ab\"> <span class=\"fYyStc\">Using AI for Marketing: How...</span> </span> <span class=\"qXLe6d F9iS2e\"> <span class=\"fYyStc\">emarsys.com</span> </span> </div></a></td></tr></table></div></div> </div> </div></td><td align=\"center\" class=\"e3goi\"><div class=\"mnTahd\"> <div> <div class=\"lIMUZd\"><div><table class=\"IkMU6e\"><tr><td><a href=\"/url?q=https://www.weforum.org/agenda/2021/03/scaling-up-with-responsible-ai-a-5-step-guide-for-companies/&amp;sa=U&amp;ved=2ahUKEwihurj9kt71AhUK3IUKHZ1JAQ4QqoUBegQIARAB&amp;usg=AOvVaw2AW2JsqXT-BRk1HQ2PZXS_\"><div class=\"NZWO1b\"><img alt=\"\" class=\"yWs4tf\" src=\"https://encrypted-tbn0.gstatic.com/images?q=tbn:ANd9GcSrWRcbdbMJiF_wCrh6Ql-qdqRp99GloIyv0XKrvhMwazv6eqc41xIzY4n91a4&amp;s\"/></div></a></td></tr><tr><td><a href=\"/url?q=https://www.weforum.org/agenda/2021/03/scaling-up-with-responsible-ai-a-5-step-guide-for-companies/&amp;sa=U&amp;ved=2ahUKEwihurj9kt71AhUK3IUKHZ1JAQ4Qr4kDegQIARAC&amp;usg=AOvVaw1husLl2dvUKAuvkD4A5S6j\"><div class=\"jB2rPd\"> <span class=\"qXLe6d x3G5ab\"> <span class=\"fYyStc\">A 5-step guide to scale...</span> </span> <span class=\"qXLe6d F9iS2e\"> <span class=\"fYyStc\">www.weforum.org</span> </span> </div></a></td></tr></table></div></div> </div> </div></td></tr><tr><td align=\"center\" class=\"e3goi\"><div class=\"mnTahd\"> <div> <div class=\"lIMUZd\"><div><table class=\"IkMU6e\"><tr><td><a href=\"/url?q=https://www.mygreatlearning.com/blog/what-is-artificial-intelligence/&amp;sa=U&amp;ved=2ahUKEwihurj9kt71AhUK3IUKHZ1JAQ4QqoUBegQIBBAB&amp;usg=AOvVaw0xrttl0yrrfW_8oOmsBT_y\"><div class=\"NZWO1b\"><img alt=\"\" class=\"yWs4tf\" src=\"https://encrypted-tbn0.gstatic.com/images?q=tbn:ANd9GcTs8J3QFYcM9510rI3mkU8rkz_wdRomhDn7siGYJUcE02v0pPmQOWyNEH0xgEI&amp;s\"/></div></a></td></tr><tr><td><a href=\"/url?q=https://www.mygreatlearning.com/blog/what-is-artificial-intelligence/&amp;sa=U&amp;ved=2ahUKEwihurj9kt71AhUK3IUKHZ1JAQ4Qr4kDegQIBBAC&amp;usg=AOvVaw0NRyablx7WyaXoctcdK5Aw\"><div class=\"jB2rPd\"> <span class=\"qXLe6d x3G5ab\"> <span class=\"fYyStc\">What is Artificial...</span> </span> <span class=\"qXLe6d F9iS2e\"> <span class=\"fYyStc\">www.mygreatlearning.com</span> </span> </div></a></td></tr></table></div></div> </div> </div></td><td align=\"center\" class=\"e3goi\"><div class=\"mnTahd\"> <div> <div class=\"lIMUZd\"><div><table class=\"IkMU6e\"><tr><td><a href=\"/url?q=https://omdia.tech.informa.com/topic-pages/artificial-intelligence&amp;sa=U&amp;ved=2ahUKEwihurj9kt71AhUK3IUKHZ1JAQ4QqoUBegQIAhAB&amp;usg=AOvVaw3B_VxW3UPWZGHCD87bVND-\"><div class=\"NZWO1b\"><img alt=\"\" class=\"yWs4tf\" src=\"https://encrypted-tbn0.gstatic.com/images?q=tbn:ANd9GcSK0TiwaDCGJ9yE6XkXUw9MLi3svb8LrY6GUjAtIG9-_KGb24XThjMiA-0X46o&amp;s\"/></div></a></td></tr><tr><td><a href=\"/url?q=https://omdia.tech.informa.com/topic-pages/artificial-intelligence&amp;sa=U&amp;ved=2ahUKEwihurj9kt71AhUK3IUKHZ1JAQ4Qr4kDegQIAhAC&amp;usg=AOvVaw1GN5vQ63fF9VMZ1m-7YCeG\"><div class=\"jB2rPd\"> <span class=\"qXLe6d x3G5ab\"> <span class=\"fYyStc\">Artificial Intelligence ::...</span> </span> <span class=\"qXLe6d F9iS2e\"> <span class=\"fYyStc\">omdia.tech.informa.com</span> </span> </div></a></td></tr></table></div></div> </div> </div></td><td align=\"center\" class=\"e3goi\"><div class=\"mnTahd\"> <div> <div class=\"lIMUZd\"><div><table class=\"IkMU6e\"><tr><td><a href=\"/url?q=https://www.analyticssteps.com/blogs/top-10-google-ai-projects&amp;sa=U&amp;ved=2ahUKEwihurj9kt71AhUK3IUKHZ1JAQ4QqoUBegQIBRAB&amp;usg=AOvVaw2XuR1YVcDspFFtnHaSdmmL\"><div class=\"NZWO1b\"><img alt=\"\" class=\"yWs4tf\" src=\"https://encrypted-tbn0.gstatic.com/images?q=tbn:ANd9GcQWonhhlFbBPl11j6H8hPX87ppKBuxNE0vTa6-gwcKiXWcQfXbv0jrynlxj3eg&amp;s\"/></div></a></td></tr><tr><td><a href=\"/url?q=https://www.analyticssteps.com/blogs/top-10-google-ai-projects&amp;sa=U&amp;ved=2ahUKEwihurj9kt71AhUK3IUKHZ1JAQ4Qr4kDegQIBRAC&amp;usg=AOvVaw3gnnUC5eRPghkC6H6JCZoJ\"><div class=\"jB2rPd\"> <span class=\"qXLe6d x3G5ab\"> <span class=\"fYyStc\">Top 10 Google AI Projects |...</span> </span> <span class=\"qXLe6d F9iS2e\"> <span class=\"fYyStc\">www.analyticssteps.com</span> </span> </div></a></td></tr></table></div></div> </div> </div></td><td align=\"center\" class=\"e3goi\"><div class=\"mnTahd\"> <div> <div class=\"lIMUZd\"><div><table class=\"IkMU6e\"><tr><td><a href=\"/url?q=https://bernardmarr.com/what-is-the-impact-of-artificial-intelligence-ai-on-society/&amp;sa=U&amp;ved=2ahUKEwihurj9kt71AhUK3IUKHZ1JAQ4QqoUBegQIAxAB&amp;usg=AOvVaw17pzyT72JPSOJrcmXkPRIW\"><div class=\"NZWO1b\"><img alt=\"\" class=\"yWs4tf\" src=\"https://encrypted-tbn0.gstatic.com/images?q=tbn:ANd9GcT_3F6rQWXekfXT0XkHy4GzK0gelWL59A0pmUGB1eyXQ3lyQjKA7hHdKT8Ydw&amp;s\"/></div></a></td></tr><tr><td><a href=\"/url?q=https://bernardmarr.com/what-is-the-impact-of-artificial-intelligence-ai-on-society/&amp;sa=U&amp;ved=2ahUKEwihurj9kt71AhUK3IUKHZ1JAQ4Qr4kDegQIAxAC&amp;usg=AOvVaw1McGrC6mCszEH9cwTm3c6P\"><div class=\"jB2rPd\"> <span class=\"qXLe6d x3G5ab\"> <span class=\"fYyStc\">What Is The Impact Of...</span> </span> <span class=\"qXLe6d F9iS2e\"> <span class=\"fYyStc\">bernardmarr.com</span> </span> </div></a></td></tr></table></div></div> </div> </div></td></tr></table></div><table class=\"uZgmoc\"><tbody><td><a class=\"frGj1b\" href=\"/search?q=ai+images&amp;biw=1062&amp;bih=744&amp;ie=UTF-8&amp;tbm=isch&amp;ei=kvf4YaGpOoq4lwSdk4Vw&amp;start=20&amp;sa=N\">Next &gt;</a></td></tbody></table><br/><div class=\"TuS8Ad\" data-ved=\"0ahUKEwihurj9kt71AhUK3IUKHZ1JAQ4QpyoIUg\"><style>.VYM29{font-weight:bold}</style><div align=\"center\" class=\"HddGcc\"><span class=\"VYM29\">Kicukiro, Kigali</span><span> - </span><span>From your IP address</span><span> - </span><a href=\"/url?q=https://support.google.com/websearch%3Fp%3Dws_settings_location%26hl%3Den-RW&amp;sa=U&amp;ved=0ahUKEwihurj9kt71AhUK3IUKHZ1JAQ4Qty4IUw&amp;usg=AOvVaw0djbf6GUNQlYafrO3MorKA\">Learn more</a></div><div align=\"center\"><a class=\"rEM8G\" href=\"/url?q=https://accounts.google.com/ServiceLogin%3Fcontinue%3Dhttps://www.google.com/search%253Fq%253Dai%252Bimages%2526source%253Dlnms%2526tbm%253Disch%2526sa%253DX%2526ved%253D2ahUKEwiKoNvhkt71AhVPzhoKHfHuCNgQ_AUoAXoECAEQAw%2526biw%253D1062%2526bih%253D744%2526dpr%253D1.25%26hl%3Den&amp;sa=U&amp;ved=0ahUKEwihurj9kt71AhUK3IUKHZ1JAQ4Qxs8CCFQ&amp;usg=AOvVaw1mhGCzJPdJRo5RALtSH1-8\">Sign in</a></div><div><table class=\"bookcf\"><tbody class=\"InWNIe\"><tr><td><a class=\"rEM8G\" href=\"https://www.google.com/preferences?hl=en&amp;sa=X&amp;ved=0ahUKEwihurj9kt71AhUK3IUKHZ1JAQ4Qv5YECFU\">Settings</a></td><td><a class=\"rEM8G\" href=\"https://www.google.com/intl/en_rw/policies/privacy/\">Privacy</a></td><td><a class=\"rEM8G\" href=\"https://www.google.com/intl/en_rw/policies/terms/\">Terms</a></td></tr></tbody></table></div></div><div> </div></body></html>\n"
     ]
    }
   ],
   "source": [
    "print(sop)"
   ]
  },
  {
   "cell_type": "code",
   "execution_count": 11,
   "id": "d1e37a15",
   "metadata": {},
   "outputs": [],
   "source": [
    "#Read images from this website\n",
    "images=sop.findAll('img')"
   ]
  },
  {
   "cell_type": "code",
   "execution_count": 12,
   "id": "c61de942",
   "metadata": {},
   "outputs": [
    {
     "name": "stdout",
     "output_type": "stream",
     "text": [
      "21\n"
     ]
    }
   ],
   "source": [
    "print(len(images))"
   ]
  },
  {
   "cell_type": "code",
   "execution_count": 13,
   "id": "b9a33b0c",
   "metadata": {},
   "outputs": [],
   "source": [
    "if not os.path.exists('New_images'):\n",
    "    os.makedirs('New_images')"
   ]
  },
  {
   "cell_type": "code",
   "execution_count": 14,
   "id": "131d7170",
   "metadata": {},
   "outputs": [
    {
     "data": {
      "text/plain": [
       "['.ipynb_checkpoints',\n",
       " 'Day-2-Web-Anti-Crawling.ipynb',\n",
       " 'download a picture.ipynb',\n",
       " 'Download images from website with python.ipynb',\n",
       " 'download_images',\n",
       " 'New_images',\n",
       " 'Untitled1.ipynb']"
      ]
     },
     "execution_count": 14,
     "metadata": {},
     "output_type": "execute_result"
    }
   ],
   "source": [
    "os.listdir()"
   ]
  },
  {
   "cell_type": "code",
   "execution_count": 15,
   "id": "bac83d78",
   "metadata": {},
   "outputs": [],
   "source": [
    "#let move into the new created folder\n",
    "os.chdir('New_images')"
   ]
  },
  {
   "cell_type": "code",
   "execution_count": 22,
   "id": "b0a9a649",
   "metadata": {},
   "outputs": [
    {
     "name": "stdout",
     "output_type": "stream",
     "text": [
      "C:\\Users\\HP\\Desktop\\AI & IoT ONLINE\\New_images\n"
     ]
    }
   ],
   "source": [
    "print(os.getcwd())"
   ]
  },
  {
   "cell_type": "code",
   "execution_count": 21,
   "id": "79464171",
   "metadata": {},
   "outputs": [],
   "source": [
    "#save images into New_images\n",
    "x=0\n",
    "for image in images:\n",
    "    try:\n",
    "        url=image['src']\n",
    "        response=requests.get(url)\n",
    "        if response.status_code==200:\n",
    "            with open('image'+str(x)+'.jpg','wb') as f:\n",
    "                f.write(response.content)\n",
    "                f.close()\n",
    "                x=x+1\n",
    "    except:\n",
    "        pass"
   ]
  },
  {
   "cell_type": "code",
   "execution_count": null,
   "id": "84e35bbc",
   "metadata": {},
   "outputs": [],
   "source": [
    "Thank you!!!!"
   ]
  }
 ],
 "metadata": {
  "kernelspec": {
   "display_name": "Python 3 (ipykernel)",
   "language": "python",
   "name": "python3"
  },
  "language_info": {
   "codemirror_mode": {
    "name": "ipython",
    "version": 3
   },
   "file_extension": ".py",
   "mimetype": "text/x-python",
   "name": "python",
   "nbconvert_exporter": "python",
   "pygments_lexer": "ipython3",
   "version": "3.9.7"
  }
 },
 "nbformat": 4,
 "nbformat_minor": 5
}
