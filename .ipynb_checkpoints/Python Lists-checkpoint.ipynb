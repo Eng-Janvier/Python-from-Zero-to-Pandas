{
 "cells": [
  {
   "cell_type": "markdown",
   "id": "e0a4860a",
   "metadata": {},
   "source": [
    "# LIST"
   ]
  },
  {
   "cell_type": "markdown",
   "id": "319c6890",
   "metadata": {},
   "source": [
    "In Python programming, a list is created by placing all the items (elements) inside square brackets [] , separated by commas. It can have any number of items and they may be of different types (integer, float, string etc.). A list can also have another list as an item. This is called a nested list."
   ]
  },
  {
   "cell_type": "markdown",
   "id": "cee0947c",
   "metadata": {},
   "source": [
    "https://www.programiz.com/python-programming/list#:~:text=In%20Python%20programming%2C%20a%20list,float%2C%20string%20etc.).&text=A%20list%20can%20also%20have,is%20called%20a%20nested%20list."
   ]
  },
  {
   "cell_type": "code",
   "execution_count": 22,
   "id": "cdbe4ff3",
   "metadata": {},
   "outputs": [],
   "source": [
    "fruits=['apple','orange','banana','anana',45]"
   ]
  },
  {
   "cell_type": "code",
   "execution_count": 24,
   "id": "85803e6a",
   "metadata": {},
   "outputs": [
    {
     "name": "stdout",
     "output_type": "stream",
     "text": [
      "['apple', 'orange', 'banana', 'anana', 45]\n"
     ]
    }
   ],
   "source": [
    "print(fruits)"
   ]
  },
  {
   "cell_type": "code",
   "execution_count": 25,
   "id": "153d24db",
   "metadata": {},
   "outputs": [
    {
     "data": {
      "text/plain": [
       "list"
      ]
     },
     "execution_count": 25,
     "metadata": {},
     "output_type": "execute_result"
    }
   ],
   "source": [
    "type(fruits)"
   ]
  },
  {
   "cell_type": "code",
   "execution_count": 29,
   "id": "7ceb08ae",
   "metadata": {},
   "outputs": [],
   "source": [
    "#replacing list elemets\n",
    "fruits[0]='car'"
   ]
  },
  {
   "cell_type": "code",
   "execution_count": 27,
   "id": "b397939d",
   "metadata": {},
   "outputs": [
    {
     "name": "stdout",
     "output_type": "stream",
     "text": [
      "['car', 'orange', 'banana', 'anana', 45]\n"
     ]
    }
   ],
   "source": [
    "print(fruits)"
   ]
  },
  {
   "cell_type": "code",
   "execution_count": 28,
   "id": "d08c1794",
   "metadata": {},
   "outputs": [],
   "source": [
    "#add new content to list"
   ]
  },
  {
   "cell_type": "code",
   "execution_count": 30,
   "id": "b5c64136",
   "metadata": {},
   "outputs": [],
   "source": [
    "fruits.append('Nelly')"
   ]
  },
  {
   "cell_type": "code",
   "execution_count": 31,
   "id": "4ce03043",
   "metadata": {},
   "outputs": [
    {
     "name": "stdout",
     "output_type": "stream",
     "text": [
      "['car', 'orange', 'banana', 'anana', 45, 'Nelly']\n"
     ]
    }
   ],
   "source": [
    "print(fruits)"
   ]
  },
  {
   "cell_type": "code",
   "execution_count": 32,
   "id": "17eb0fda",
   "metadata": {},
   "outputs": [],
   "source": [
    "fruits.insert(1,67)"
   ]
  },
  {
   "cell_type": "code",
   "execution_count": 33,
   "id": "0ecc0eaa",
   "metadata": {},
   "outputs": [
    {
     "name": "stdout",
     "output_type": "stream",
     "text": [
      "['car', 67, 'orange', 'banana', 'anana', 45, 'Nelly']\n"
     ]
    }
   ],
   "source": [
    "print(fruits)"
   ]
  },
  {
   "cell_type": "code",
   "execution_count": 34,
   "id": "08126ad2",
   "metadata": {},
   "outputs": [],
   "source": [
    "#deleting list elements"
   ]
  },
  {
   "cell_type": "code",
   "execution_count": 35,
   "id": "0d615820",
   "metadata": {},
   "outputs": [
    {
     "data": {
      "text/plain": [
       "'Nelly'"
      ]
     },
     "execution_count": 35,
     "metadata": {},
     "output_type": "execute_result"
    }
   ],
   "source": [
    "fruits.pop()"
   ]
  },
  {
   "cell_type": "code",
   "execution_count": 36,
   "id": "b0ae071a",
   "metadata": {},
   "outputs": [
    {
     "name": "stdout",
     "output_type": "stream",
     "text": [
      "['car', 67, 'orange', 'banana', 'anana', 45]\n"
     ]
    }
   ],
   "source": [
    "print(fruits)"
   ]
  },
  {
   "cell_type": "code",
   "execution_count": 37,
   "id": "d859ef04",
   "metadata": {},
   "outputs": [
    {
     "data": {
      "text/plain": [
       "'car'"
      ]
     },
     "execution_count": 37,
     "metadata": {},
     "output_type": "execute_result"
    }
   ],
   "source": [
    "fruits.pop(0)"
   ]
  },
  {
   "cell_type": "code",
   "execution_count": 38,
   "id": "160bd9e5",
   "metadata": {},
   "outputs": [
    {
     "name": "stdout",
     "output_type": "stream",
     "text": [
      "[67, 'orange', 'banana', 'anana', 45]\n"
     ]
    }
   ],
   "source": [
    "print(fruits)"
   ]
  },
  {
   "cell_type": "code",
   "execution_count": 39,
   "id": "741ddc37",
   "metadata": {},
   "outputs": [],
   "source": [
    "fruits.remove('anana')"
   ]
  },
  {
   "cell_type": "code",
   "execution_count": 40,
   "id": "b3cb421f",
   "metadata": {},
   "outputs": [
    {
     "name": "stdout",
     "output_type": "stream",
     "text": [
      "[67, 'orange', 'banana', 45]\n"
     ]
    }
   ],
   "source": [
    "print(fruits)"
   ]
  },
  {
   "cell_type": "code",
   "execution_count": 47,
   "id": "4f6e1096",
   "metadata": {},
   "outputs": [],
   "source": [
    "#sorting list elements"
   ]
  },
  {
   "cell_type": "code",
   "execution_count": 48,
   "id": "f316271d",
   "metadata": {},
   "outputs": [
    {
     "data": {
      "text/plain": [
       "[23, 78, 2, 88, 0, 58, 100]"
      ]
     },
     "execution_count": 48,
     "metadata": {},
     "output_type": "execute_result"
    }
   ],
   "source": [
    "list=[23,78,2,88,0,58,100]\n",
    "list"
   ]
  },
  {
   "cell_type": "code",
   "execution_count": 52,
   "id": "1db8c415",
   "metadata": {},
   "outputs": [],
   "source": [
    "list.sort()"
   ]
  },
  {
   "cell_type": "code",
   "execution_count": 53,
   "id": "b12c3fa3",
   "metadata": {},
   "outputs": [
    {
     "name": "stdout",
     "output_type": "stream",
     "text": [
      "[0, 2, 23, 58, 78, 88, 100]\n"
     ]
    }
   ],
   "source": [
    "print(list)"
   ]
  },
  {
   "cell_type": "code",
   "execution_count": 54,
   "id": "4615aabe",
   "metadata": {},
   "outputs": [],
   "source": [
    "#desc\n",
    "list.reverse()"
   ]
  },
  {
   "cell_type": "code",
   "execution_count": 55,
   "id": "ccb3f979",
   "metadata": {},
   "outputs": [
    {
     "name": "stdout",
     "output_type": "stream",
     "text": [
      "[100, 88, 78, 58, 23, 2, 0]\n"
     ]
    }
   ],
   "source": [
    "print(list)"
   ]
  },
  {
   "cell_type": "code",
   "execution_count": 56,
   "id": "22739e99",
   "metadata": {},
   "outputs": [],
   "source": [
    "#sorting words\n",
    "li=['Banana','apple','anana','car']"
   ]
  },
  {
   "cell_type": "code",
   "execution_count": 57,
   "id": "74e97518",
   "metadata": {},
   "outputs": [
    {
     "name": "stdout",
     "output_type": "stream",
     "text": [
      "['Banana', 'anana', 'apple', 'car']\n"
     ]
    }
   ],
   "source": [
    "li.sort()\n",
    "print(li)"
   ]
  },
  {
   "cell_type": "code",
   "execution_count": 59,
   "id": "2149d26e",
   "metadata": {},
   "outputs": [
    {
     "name": "stdout",
     "output_type": "stream",
     "text": [
      "['anana', 'apple', 'Banana', 'car']\n"
     ]
    }
   ],
   "source": [
    "li.sort(key=str.lower)\n",
    "print(li)"
   ]
  },
  {
   "cell_type": "code",
   "execution_count": 60,
   "id": "6dc03d64",
   "metadata": {},
   "outputs": [],
   "source": [
    "del li"
   ]
  },
  {
   "cell_type": "code",
   "execution_count": 61,
   "id": "8cbf30df",
   "metadata": {},
   "outputs": [
    {
     "ename": "NameError",
     "evalue": "name 'li' is not defined",
     "output_type": "error",
     "traceback": [
      "\u001b[1;31m---------------------------------------------------------------------------\u001b[0m",
      "\u001b[1;31mNameError\u001b[0m                                 Traceback (most recent call last)",
      "\u001b[1;32m~\\AppData\\Local\\Temp/ipykernel_4152/3367430741.py\u001b[0m in \u001b[0;36m<module>\u001b[1;34m\u001b[0m\n\u001b[1;32m----> 1\u001b[1;33m \u001b[0mprint\u001b[0m\u001b[1;33m(\u001b[0m\u001b[0mli\u001b[0m\u001b[1;33m)\u001b[0m\u001b[1;33m\u001b[0m\u001b[1;33m\u001b[0m\u001b[0m\n\u001b[0m",
      "\u001b[1;31mNameError\u001b[0m: name 'li' is not defined"
     ]
    }
   ],
   "source": [
    "print(li)"
   ]
  }
 ],
 "metadata": {
  "kernelspec": {
   "display_name": "Python 3 (ipykernel)",
   "language": "python",
   "name": "python3"
  },
  "language_info": {
   "codemirror_mode": {
    "name": "ipython",
    "version": 3
   },
   "file_extension": ".py",
   "mimetype": "text/x-python",
   "name": "python",
   "nbconvert_exporter": "python",
   "pygments_lexer": "ipython3",
   "version": "3.9.6"
  }
 },
 "nbformat": 4,
 "nbformat_minor": 5
}
