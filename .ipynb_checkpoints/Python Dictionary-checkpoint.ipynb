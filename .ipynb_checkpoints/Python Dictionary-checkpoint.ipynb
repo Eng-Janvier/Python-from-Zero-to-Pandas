{
 "cells": [
  {
   "cell_type": "markdown",
   "id": "c2d1f50c",
   "metadata": {},
   "source": [
    "STRING CON'T"
   ]
  },
  {
   "cell_type": "code",
   "execution_count": 16,
   "id": "a6f866b5",
   "metadata": {},
   "outputs": [],
   "source": [
    "# spliting a string\n",
    "s=\"hello my friend jan\""
   ]
  },
  {
   "cell_type": "code",
   "execution_count": 17,
   "id": "0583d650",
   "metadata": {},
   "outputs": [],
   "source": [
    "list=s.split(\" \")"
   ]
  },
  {
   "cell_type": "code",
   "execution_count": 18,
   "id": "fe912474",
   "metadata": {},
   "outputs": [
    {
     "name": "stdout",
     "output_type": "stream",
     "text": [
      "['hello', 'my', 'friend', 'jan']\n"
     ]
    }
   ],
   "source": [
    "print(list)"
   ]
  },
  {
   "cell_type": "code",
   "execution_count": 19,
   "id": "d7eae15a",
   "metadata": {},
   "outputs": [],
   "source": [
    "#join list elememts"
   ]
  },
  {
   "cell_type": "code",
   "execution_count": 20,
   "id": "4ab61724",
   "metadata": {},
   "outputs": [],
   "source": [
    "st=\" \".join(list)"
   ]
  },
  {
   "cell_type": "code",
   "execution_count": 21,
   "id": "6e215a00",
   "metadata": {},
   "outputs": [
    {
     "name": "stdout",
     "output_type": "stream",
     "text": [
      "hello my friend jan\n"
     ]
    }
   ],
   "source": [
    "print(st)"
   ]
  },
  {
   "cell_type": "markdown",
   "id": "e0a4860a",
   "metadata": {},
   "source": [
    "# LIST"
   ]
  },
  {
   "cell_type": "code",
   "execution_count": 22,
   "id": "cdbe4ff3",
   "metadata": {},
   "outputs": [],
   "source": [
    "fruits=['apple','orange','banana','anana',45]"
   ]
  },
  {
   "cell_type": "code",
   "execution_count": 24,
   "id": "85803e6a",
   "metadata": {},
   "outputs": [
    {
     "name": "stdout",
     "output_type": "stream",
     "text": [
      "['apple', 'orange', 'banana', 'anana', 45]\n"
     ]
    }
   ],
   "source": [
    "print(fruits)"
   ]
  },
  {
   "cell_type": "code",
   "execution_count": 25,
   "id": "153d24db",
   "metadata": {},
   "outputs": [
    {
     "data": {
      "text/plain": [
       "list"
      ]
     },
     "execution_count": 25,
     "metadata": {},
     "output_type": "execute_result"
    }
   ],
   "source": [
    "type(fruits)"
   ]
  },
  {
   "cell_type": "code",
   "execution_count": 29,
   "id": "7ceb08ae",
   "metadata": {},
   "outputs": [],
   "source": [
    "#replacing list elemets\n",
    "fruits[0]='car'"
   ]
  },
  {
   "cell_type": "code",
   "execution_count": 27,
   "id": "b397939d",
   "metadata": {},
   "outputs": [
    {
     "name": "stdout",
     "output_type": "stream",
     "text": [
      "['car', 'orange', 'banana', 'anana', 45]\n"
     ]
    }
   ],
   "source": [
    "print(fruits)"
   ]
  },
  {
   "cell_type": "code",
   "execution_count": 28,
   "id": "d08c1794",
   "metadata": {},
   "outputs": [],
   "source": [
    "#add new content to list"
   ]
  },
  {
   "cell_type": "code",
   "execution_count": 30,
   "id": "b5c64136",
   "metadata": {},
   "outputs": [],
   "source": [
    "fruits.append('Nelly')"
   ]
  },
  {
   "cell_type": "code",
   "execution_count": 31,
   "id": "4ce03043",
   "metadata": {},
   "outputs": [
    {
     "name": "stdout",
     "output_type": "stream",
     "text": [
      "['car', 'orange', 'banana', 'anana', 45, 'Nelly']\n"
     ]
    }
   ],
   "source": [
    "print(fruits)"
   ]
  },
  {
   "cell_type": "code",
   "execution_count": 32,
   "id": "17eb0fda",
   "metadata": {},
   "outputs": [],
   "source": [
    "fruits.insert(1,67)"
   ]
  },
  {
   "cell_type": "code",
   "execution_count": 33,
   "id": "0ecc0eaa",
   "metadata": {},
   "outputs": [
    {
     "name": "stdout",
     "output_type": "stream",
     "text": [
      "['car', 67, 'orange', 'banana', 'anana', 45, 'Nelly']\n"
     ]
    }
   ],
   "source": [
    "print(fruits)"
   ]
  },
  {
   "cell_type": "code",
   "execution_count": 34,
   "id": "08126ad2",
   "metadata": {},
   "outputs": [],
   "source": [
    "#deleting list elements"
   ]
  },
  {
   "cell_type": "code",
   "execution_count": 35,
   "id": "0d615820",
   "metadata": {},
   "outputs": [
    {
     "data": {
      "text/plain": [
       "'Nelly'"
      ]
     },
     "execution_count": 35,
     "metadata": {},
     "output_type": "execute_result"
    }
   ],
   "source": [
    "fruits.pop()"
   ]
  },
  {
   "cell_type": "code",
   "execution_count": 36,
   "id": "b0ae071a",
   "metadata": {},
   "outputs": [
    {
     "name": "stdout",
     "output_type": "stream",
     "text": [
      "['car', 67, 'orange', 'banana', 'anana', 45]\n"
     ]
    }
   ],
   "source": [
    "print(fruits)"
   ]
  },
  {
   "cell_type": "code",
   "execution_count": 37,
   "id": "d859ef04",
   "metadata": {},
   "outputs": [
    {
     "data": {
      "text/plain": [
       "'car'"
      ]
     },
     "execution_count": 37,
     "metadata": {},
     "output_type": "execute_result"
    }
   ],
   "source": [
    "fruits.pop(0)"
   ]
  },
  {
   "cell_type": "code",
   "execution_count": 38,
   "id": "160bd9e5",
   "metadata": {},
   "outputs": [
    {
     "name": "stdout",
     "output_type": "stream",
     "text": [
      "[67, 'orange', 'banana', 'anana', 45]\n"
     ]
    }
   ],
   "source": [
    "print(fruits)"
   ]
  },
  {
   "cell_type": "code",
   "execution_count": 39,
   "id": "741ddc37",
   "metadata": {},
   "outputs": [],
   "source": [
    "fruits.remove('anana')"
   ]
  },
  {
   "cell_type": "code",
   "execution_count": 40,
   "id": "b3cb421f",
   "metadata": {},
   "outputs": [
    {
     "name": "stdout",
     "output_type": "stream",
     "text": [
      "[67, 'orange', 'banana', 45]\n"
     ]
    }
   ],
   "source": [
    "print(fruits)"
   ]
  },
  {
   "cell_type": "code",
   "execution_count": 47,
   "id": "4f6e1096",
   "metadata": {},
   "outputs": [],
   "source": [
    "#sorting list elements"
   ]
  },
  {
   "cell_type": "code",
   "execution_count": 48,
   "id": "f316271d",
   "metadata": {},
   "outputs": [
    {
     "data": {
      "text/plain": [
       "[23, 78, 2, 88, 0, 58, 100]"
      ]
     },
     "execution_count": 48,
     "metadata": {},
     "output_type": "execute_result"
    }
   ],
   "source": [
    "list=[23,78,2,88,0,58,100]\n",
    "list"
   ]
  },
  {
   "cell_type": "code",
   "execution_count": 52,
   "id": "1db8c415",
   "metadata": {},
   "outputs": [],
   "source": [
    "list.sort()"
   ]
  },
  {
   "cell_type": "code",
   "execution_count": 53,
   "id": "b12c3fa3",
   "metadata": {},
   "outputs": [
    {
     "name": "stdout",
     "output_type": "stream",
     "text": [
      "[0, 2, 23, 58, 78, 88, 100]\n"
     ]
    }
   ],
   "source": [
    "print(list)"
   ]
  },
  {
   "cell_type": "code",
   "execution_count": 54,
   "id": "4615aabe",
   "metadata": {},
   "outputs": [],
   "source": [
    "#desc\n",
    "list.reverse()"
   ]
  },
  {
   "cell_type": "code",
   "execution_count": 55,
   "id": "ccb3f979",
   "metadata": {},
   "outputs": [
    {
     "name": "stdout",
     "output_type": "stream",
     "text": [
      "[100, 88, 78, 58, 23, 2, 0]\n"
     ]
    }
   ],
   "source": [
    "print(list)"
   ]
  },
  {
   "cell_type": "code",
   "execution_count": 56,
   "id": "22739e99",
   "metadata": {},
   "outputs": [],
   "source": [
    "#sorting words\n",
    "li=['Banana','apple','anana','car']"
   ]
  },
  {
   "cell_type": "code",
   "execution_count": 57,
   "id": "74e97518",
   "metadata": {},
   "outputs": [
    {
     "name": "stdout",
     "output_type": "stream",
     "text": [
      "['Banana', 'anana', 'apple', 'car']\n"
     ]
    }
   ],
   "source": [
    "li.sort()\n",
    "print(li)"
   ]
  },
  {
   "cell_type": "code",
   "execution_count": 59,
   "id": "2149d26e",
   "metadata": {},
   "outputs": [
    {
     "name": "stdout",
     "output_type": "stream",
     "text": [
      "['anana', 'apple', 'Banana', 'car']\n"
     ]
    }
   ],
   "source": [
    "li.sort(key=str.lower)\n",
    "print(li)"
   ]
  },
  {
   "cell_type": "code",
   "execution_count": 60,
   "id": "6dc03d64",
   "metadata": {},
   "outputs": [],
   "source": [
    "del li"
   ]
  },
  {
   "cell_type": "code",
   "execution_count": 61,
   "id": "8cbf30df",
   "metadata": {},
   "outputs": [
    {
     "ename": "NameError",
     "evalue": "name 'li' is not defined",
     "output_type": "error",
     "traceback": [
      "\u001b[1;31m---------------------------------------------------------------------------\u001b[0m",
      "\u001b[1;31mNameError\u001b[0m                                 Traceback (most recent call last)",
      "\u001b[1;32m~\\AppData\\Local\\Temp/ipykernel_4152/3367430741.py\u001b[0m in \u001b[0;36m<module>\u001b[1;34m\u001b[0m\n\u001b[1;32m----> 1\u001b[1;33m \u001b[0mprint\u001b[0m\u001b[1;33m(\u001b[0m\u001b[0mli\u001b[0m\u001b[1;33m)\u001b[0m\u001b[1;33m\u001b[0m\u001b[1;33m\u001b[0m\u001b[0m\n\u001b[0m",
      "\u001b[1;31mNameError\u001b[0m: name 'li' is not defined"
     ]
    }
   ],
   "source": [
    "print(li)"
   ]
  },
  {
   "cell_type": "markdown",
   "id": "44376dc5",
   "metadata": {},
   "source": [
    "# TUPLE"
   ]
  },
  {
   "cell_type": "code",
   "execution_count": 73,
   "id": "be9ef314",
   "metadata": {},
   "outputs": [],
   "source": [
    "t=(23,67,89,'jan')"
   ]
  },
  {
   "cell_type": "code",
   "execution_count": 74,
   "id": "32eadc31",
   "metadata": {},
   "outputs": [
    {
     "data": {
      "text/plain": [
       "tuple"
      ]
     },
     "execution_count": 74,
     "metadata": {},
     "output_type": "execute_result"
    }
   ],
   "source": [
    "type(t)"
   ]
  },
  {
   "cell_type": "code",
   "execution_count": 75,
   "id": "72552835",
   "metadata": {},
   "outputs": [
    {
     "data": {
      "text/plain": [
       "23"
      ]
     },
     "execution_count": 75,
     "metadata": {},
     "output_type": "execute_result"
    }
   ],
   "source": [
    "t[0]"
   ]
  },
  {
   "cell_type": "code",
   "execution_count": 76,
   "id": "c43fd088",
   "metadata": {},
   "outputs": [
    {
     "ename": "TypeError",
     "evalue": "'tuple' object does not support item assignment",
     "output_type": "error",
     "traceback": [
      "\u001b[1;31m---------------------------------------------------------------------------\u001b[0m",
      "\u001b[1;31mTypeError\u001b[0m                                 Traceback (most recent call last)",
      "\u001b[1;32m~\\AppData\\Local\\Temp/ipykernel_4152/4045683520.py\u001b[0m in \u001b[0;36m<module>\u001b[1;34m\u001b[0m\n\u001b[1;32m----> 1\u001b[1;33m \u001b[0mt\u001b[0m\u001b[1;33m[\u001b[0m\u001b[1;36m0\u001b[0m\u001b[1;33m]\u001b[0m\u001b[1;33m=\u001b[0m\u001b[1;36m90\u001b[0m\u001b[1;33m\u001b[0m\u001b[1;33m\u001b[0m\u001b[0m\n\u001b[0m",
      "\u001b[1;31mTypeError\u001b[0m: 'tuple' object does not support item assignment"
     ]
    }
   ],
   "source": [
    "t[0]=90"
   ]
  },
  {
   "cell_type": "code",
   "execution_count": 77,
   "id": "3078ef9a",
   "metadata": {},
   "outputs": [
    {
     "name": "stdout",
     "output_type": "stream",
     "text": [
      "jan\n"
     ]
    }
   ],
   "source": [
    "print(t[3])"
   ]
  },
  {
   "cell_type": "code",
   "execution_count": 83,
   "id": "d1515738",
   "metadata": {},
   "outputs": [],
   "source": [
    "(a,b,*sc)=t"
   ]
  },
  {
   "cell_type": "code",
   "execution_count": 85,
   "id": "b3157d2a",
   "metadata": {},
   "outputs": [
    {
     "data": {
      "text/plain": [
       "67"
      ]
     },
     "execution_count": 85,
     "metadata": {},
     "output_type": "execute_result"
    }
   ],
   "source": [
    "b"
   ]
  },
  {
   "cell_type": "code",
   "execution_count": 86,
   "id": "02bd1b57",
   "metadata": {},
   "outputs": [
    {
     "data": {
      "text/plain": [
       "[89, 'jan']"
      ]
     },
     "execution_count": 86,
     "metadata": {},
     "output_type": "execute_result"
    }
   ],
   "source": [
    "c"
   ]
  },
  {
   "cell_type": "code",
   "execution_count": 87,
   "id": "5852a33a",
   "metadata": {},
   "outputs": [],
   "source": [
    "l=[]\n",
    "l.append(t[0])"
   ]
  },
  {
   "cell_type": "code",
   "execution_count": 88,
   "id": "a2c1ec32",
   "metadata": {},
   "outputs": [
    {
     "data": {
      "text/plain": [
       "[23]"
      ]
     },
     "execution_count": 88,
     "metadata": {},
     "output_type": "execute_result"
    }
   ],
   "source": [
    "l"
   ]
  },
  {
   "cell_type": "code",
   "execution_count": 89,
   "id": "f292fd08",
   "metadata": {},
   "outputs": [],
   "source": [
    "l.append(t[1])"
   ]
  },
  {
   "cell_type": "code",
   "execution_count": 90,
   "id": "e0d48e67",
   "metadata": {},
   "outputs": [
    {
     "data": {
      "text/plain": [
       "[23, 67]"
      ]
     },
     "execution_count": 90,
     "metadata": {},
     "output_type": "execute_result"
    }
   ],
   "source": [
    "l"
   ]
  },
  {
   "cell_type": "markdown",
   "id": "7af5bdfa",
   "metadata": {},
   "source": [
    "# SET"
   ]
  },
  {
   "cell_type": "code",
   "execution_count": 97,
   "id": "bfe9ab8a",
   "metadata": {},
   "outputs": [],
   "source": [
    "s={67,1,6,1,1,56}"
   ]
  },
  {
   "cell_type": "code",
   "execution_count": 98,
   "id": "354d9ced",
   "metadata": {},
   "outputs": [
    {
     "name": "stdout",
     "output_type": "stream",
     "text": [
      "{56, 1, 67, 6}\n"
     ]
    }
   ],
   "source": [
    "print(s)"
   ]
  },
  {
   "cell_type": "code",
   "execution_count": 99,
   "id": "3100e693",
   "metadata": {},
   "outputs": [],
   "source": [
    "s.update(['car'])"
   ]
  },
  {
   "cell_type": "code",
   "execution_count": 100,
   "id": "d1cc1748",
   "metadata": {},
   "outputs": [
    {
     "name": "stdout",
     "output_type": "stream",
     "text": [
      "{1, 67, 6, 'car', 56}\n"
     ]
    }
   ],
   "source": [
    "print(s)"
   ]
  },
  {
   "cell_type": "code",
   "execution_count": 101,
   "id": "2903d46a",
   "metadata": {},
   "outputs": [],
   "source": [
    "s.add('car2')"
   ]
  },
  {
   "cell_type": "code",
   "execution_count": 102,
   "id": "5ee69122",
   "metadata": {},
   "outputs": [
    {
     "name": "stdout",
     "output_type": "stream",
     "text": [
      "{1, 67, 6, 'car', 56, 'car2'}\n"
     ]
    }
   ],
   "source": [
    "print(s)"
   ]
  },
  {
   "cell_type": "code",
   "execution_count": 103,
   "id": "2149e4d9",
   "metadata": {},
   "outputs": [
    {
     "ename": "TypeError",
     "evalue": "'set' object is not subscriptable",
     "output_type": "error",
     "traceback": [
      "\u001b[1;31m---------------------------------------------------------------------------\u001b[0m",
      "\u001b[1;31mTypeError\u001b[0m                                 Traceback (most recent call last)",
      "\u001b[1;32m~\\AppData\\Local\\Temp/ipykernel_4152/2862403068.py\u001b[0m in \u001b[0;36m<module>\u001b[1;34m\u001b[0m\n\u001b[0;32m      1\u001b[0m \u001b[1;31m#delete\u001b[0m\u001b[1;33m\u001b[0m\u001b[1;33m\u001b[0m\u001b[1;33m\u001b[0m\u001b[0m\n\u001b[1;32m----> 2\u001b[1;33m \u001b[0ms\u001b[0m\u001b[1;33m[\u001b[0m\u001b[1;36m0\u001b[0m\u001b[1;33m]\u001b[0m\u001b[1;33m\u001b[0m\u001b[1;33m\u001b[0m\u001b[0m\n\u001b[0m",
      "\u001b[1;31mTypeError\u001b[0m: 'set' object is not subscriptable"
     ]
    }
   ],
   "source": [
    "#delete\n",
    "s[0]"
   ]
  },
  {
   "cell_type": "code",
   "execution_count": 104,
   "id": "6180f5ab",
   "metadata": {},
   "outputs": [
    {
     "data": {
      "text/plain": [
       "1"
      ]
     },
     "execution_count": 104,
     "metadata": {},
     "output_type": "execute_result"
    }
   ],
   "source": [
    "s.pop()"
   ]
  },
  {
   "cell_type": "code",
   "execution_count": 105,
   "id": "9292311d",
   "metadata": {},
   "outputs": [
    {
     "data": {
      "text/plain": [
       "67"
      ]
     },
     "execution_count": 105,
     "metadata": {},
     "output_type": "execute_result"
    }
   ],
   "source": [
    "s.pop()"
   ]
  },
  {
   "cell_type": "code",
   "execution_count": 106,
   "id": "f076160d",
   "metadata": {},
   "outputs": [
    {
     "name": "stdout",
     "output_type": "stream",
     "text": [
      "{6, 'car', 56, 'car2'}\n"
     ]
    }
   ],
   "source": [
    "print(s)"
   ]
  },
  {
   "cell_type": "code",
   "execution_count": 107,
   "id": "a1cf3ca6",
   "metadata": {},
   "outputs": [],
   "source": [
    "s.remove('car')"
   ]
  },
  {
   "cell_type": "code",
   "execution_count": 108,
   "id": "347b6edb",
   "metadata": {},
   "outputs": [
    {
     "name": "stdout",
     "output_type": "stream",
     "text": [
      "{6, 56, 'car2'}\n"
     ]
    }
   ],
   "source": [
    "print(s)"
   ]
  },
  {
   "cell_type": "markdown",
   "id": "efc10ada",
   "metadata": {},
   "source": [
    "# DICTIONARY"
   ]
  },
  {
   "cell_type": "code",
   "execution_count": 114,
   "id": "467ac63f",
   "metadata": {},
   "outputs": [],
   "source": [
    "st_info={'21RP00':'NELLY UWIMMANA','21RP01':'RUKUNDO ERIC','21RP02':'UWAMAHORO CLAUDINE'}"
   ]
  },
  {
   "cell_type": "code",
   "execution_count": 115,
   "id": "7a3489f4",
   "metadata": {},
   "outputs": [
    {
     "name": "stdout",
     "output_type": "stream",
     "text": [
      "dict_keys(['21RP00', '21RP01', '21RP02'])\n"
     ]
    }
   ],
   "source": [
    "print(st_info.keys())"
   ]
  },
  {
   "cell_type": "code",
   "execution_count": 116,
   "id": "0326e2b2",
   "metadata": {},
   "outputs": [
    {
     "name": "stdout",
     "output_type": "stream",
     "text": [
      "dict_values(['NELLY UWIMMANA', 'RUKUNDO ERIC', 'UWAMAHORO CLAUDINE'])\n"
     ]
    }
   ],
   "source": [
    "print(st_info.values())"
   ]
  },
  {
   "cell_type": "code",
   "execution_count": 117,
   "id": "a5f3f82b",
   "metadata": {},
   "outputs": [
    {
     "data": {
      "text/plain": [
       "'RUKUNDO ERIC'"
      ]
     },
     "execution_count": 117,
     "metadata": {},
     "output_type": "execute_result"
    }
   ],
   "source": [
    "st_info['21RP01']"
   ]
  },
  {
   "cell_type": "code",
   "execution_count": 118,
   "id": "5592fd54",
   "metadata": {},
   "outputs": [],
   "source": [
    "st_info['21RP03']='NIYITEGEKA Janvier'"
   ]
  },
  {
   "cell_type": "code",
   "execution_count": 119,
   "id": "0b26d634",
   "metadata": {},
   "outputs": [
    {
     "name": "stdout",
     "output_type": "stream",
     "text": [
      "{'21RP00': 'NELLY UWIMMANA', '21RP01': 'RUKUNDO ERIC', '21RP02': 'UWAMAHORO CLAUDINE', '21RP03': 'NIYITEGEKA Janvier'}\n"
     ]
    }
   ],
   "source": [
    "print(st_info)"
   ]
  },
  {
   "cell_type": "code",
   "execution_count": 120,
   "id": "370e2e38",
   "metadata": {},
   "outputs": [],
   "source": [
    "#DELETE\n",
    "del st_info['21RP00']"
   ]
  },
  {
   "cell_type": "code",
   "execution_count": 121,
   "id": "96394095",
   "metadata": {},
   "outputs": [
    {
     "name": "stdout",
     "output_type": "stream",
     "text": [
      "{'21RP01': 'RUKUNDO ERIC', '21RP02': 'UWAMAHORO CLAUDINE', '21RP03': 'NIYITEGEKA Janvier'}\n"
     ]
    }
   ],
   "source": [
    "print(st_info)"
   ]
  },
  {
   "cell_type": "code",
   "execution_count": 122,
   "id": "40c6ab10",
   "metadata": {},
   "outputs": [],
   "source": [
    "del st_info"
   ]
  },
  {
   "cell_type": "code",
   "execution_count": 123,
   "id": "9ae78031",
   "metadata": {},
   "outputs": [
    {
     "ename": "NameError",
     "evalue": "name 'st_info' is not defined",
     "output_type": "error",
     "traceback": [
      "\u001b[1;31m---------------------------------------------------------------------------\u001b[0m",
      "\u001b[1;31mNameError\u001b[0m                                 Traceback (most recent call last)",
      "\u001b[1;32m~\\AppData\\Local\\Temp/ipykernel_4152/1316810906.py\u001b[0m in \u001b[0;36m<module>\u001b[1;34m\u001b[0m\n\u001b[1;32m----> 1\u001b[1;33m \u001b[0mprint\u001b[0m\u001b[1;33m(\u001b[0m\u001b[0mst_info\u001b[0m\u001b[1;33m)\u001b[0m\u001b[1;33m\u001b[0m\u001b[1;33m\u001b[0m\u001b[0m\n\u001b[0m",
      "\u001b[1;31mNameError\u001b[0m: name 'st_info' is not defined"
     ]
    }
   ],
   "source": [
    "print(st_info)"
   ]
  },
  {
   "cell_type": "code",
   "execution_count": 126,
   "id": "3ea85eb7",
   "metadata": {},
   "outputs": [],
   "source": [
    "d={'21RP1':{'MATH':78,'ENGLISH':90,'C PROGRAMMING':76},'21RP2':{'MATH':58,'ENGLISH':60,'C PROGRAMMING':46}}"
   ]
  },
  {
   "cell_type": "code",
   "execution_count": 127,
   "id": "e591a13d",
   "metadata": {},
   "outputs": [
    {
     "name": "stdout",
     "output_type": "stream",
     "text": [
      "dict_keys(['21RP1', '21RP2'])\n"
     ]
    }
   ],
   "source": [
    "print(d.keys())"
   ]
  },
  {
   "cell_type": "code",
   "execution_count": 128,
   "id": "b0fcd2d6",
   "metadata": {},
   "outputs": [
    {
     "data": {
      "text/plain": [
       "{'MATH': 78, 'ENGLISH': 90, 'C PROGRAMMING': 76}"
      ]
     },
     "execution_count": 128,
     "metadata": {},
     "output_type": "execute_result"
    }
   ],
   "source": [
    "d['21RP1']"
   ]
  },
  {
   "cell_type": "code",
   "execution_count": 129,
   "id": "acae38fc",
   "metadata": {},
   "outputs": [
    {
     "data": {
      "text/plain": [
       "90"
      ]
     },
     "execution_count": 129,
     "metadata": {},
     "output_type": "execute_result"
    }
   ],
   "source": [
    "d['21RP1']['ENGLISH']"
   ]
  },
  {
   "cell_type": "code",
   "execution_count": 131,
   "id": "6fb69057",
   "metadata": {},
   "outputs": [
    {
     "data": {
      "text/plain": [
       "58"
      ]
     },
     "execution_count": 131,
     "metadata": {},
     "output_type": "execute_result"
    }
   ],
   "source": [
    "d['21RP2']['MATH']"
   ]
  },
  {
   "cell_type": "code",
   "execution_count": 1,
   "id": "044ed9e2",
   "metadata": {},
   "outputs": [
    {
     "name": "stdout",
     "output_type": "stream",
     "text": [
      "Collecting pyserial\n",
      "  Downloading pyserial-3.5-py2.py3-none-any.whl (90 kB)\n",
      "Installing collected packages: pyserial\n",
      "Successfully installed pyserial-3.5\n"
     ]
    }
   ],
   "source": [
    "!pip install pyserial"
   ]
  },
  {
   "cell_type": "code",
   "execution_count": null,
   "id": "f6316733",
   "metadata": {},
   "outputs": [],
   "source": []
  }
 ],
 "metadata": {
  "kernelspec": {
   "display_name": "Python 3 (ipykernel)",
   "language": "python",
   "name": "python3"
  },
  "language_info": {
   "codemirror_mode": {
    "name": "ipython",
    "version": 3
   },
   "file_extension": ".py",
   "mimetype": "text/x-python",
   "name": "python",
   "nbconvert_exporter": "python",
   "pygments_lexer": "ipython3",
   "version": "3.9.6"
  }
 },
 "nbformat": 4,
 "nbformat_minor": 5
}
