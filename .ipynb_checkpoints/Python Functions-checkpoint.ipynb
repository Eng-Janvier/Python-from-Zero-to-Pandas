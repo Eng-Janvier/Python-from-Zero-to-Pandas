{
 "cells": [
  {
   "cell_type": "markdown",
   "id": "e72b7538",
   "metadata": {},
   "source": [
    "# FUNCTIONS"
   ]
  },
  {
   "cell_type": "code",
   "execution_count": 67,
   "id": "794e58a0",
   "metadata": {},
   "outputs": [],
   "source": [
    "#block of codes aim to perform a given operation"
   ]
  },
  {
   "cell_type": "code",
   "execution_count": 68,
   "id": "9ce6dbca",
   "metadata": {},
   "outputs": [],
   "source": [
    "def add_numbers(v1,v2):\n",
    "    return v1+v2"
   ]
  },
  {
   "cell_type": "code",
   "execution_count": 70,
   "id": "ee07b38f",
   "metadata": {},
   "outputs": [
    {
     "data": {
      "text/plain": [
       "364"
      ]
     },
     "execution_count": 70,
     "metadata": {},
     "output_type": "execute_result"
    }
   ],
   "source": [
    "add_numbers(344,20)"
   ]
  },
  {
   "cell_type": "code",
   "execution_count": 71,
   "id": "51eeb29f",
   "metadata": {},
   "outputs": [],
   "source": [
    "def mult_numbers(v1,v2):\n",
    "    return v1*v2"
   ]
  },
  {
   "cell_type": "code",
   "execution_count": 72,
   "id": "a3c73e54",
   "metadata": {},
   "outputs": [
    {
     "data": {
      "text/plain": [
       "138"
      ]
     },
     "execution_count": 72,
     "metadata": {},
     "output_type": "execute_result"
    }
   ],
   "source": [
    "mult_numbers(23,6)"
   ]
  },
  {
   "cell_type": "code",
   "execution_count": 73,
   "id": "a0dfe595",
   "metadata": {},
   "outputs": [],
   "source": [
    "def mult_numbers(v1,v2):\n",
    "    rsult=v1*v2\n",
    "    return rsult"
   ]
  },
  {
   "cell_type": "code",
   "execution_count": 75,
   "id": "63f0f840",
   "metadata": {},
   "outputs": [],
   "source": [
    "def print_stars():\n",
    "    pass\n",
    "    "
   ]
  },
  {
   "cell_type": "code",
   "execution_count": 80,
   "id": "89c3318b",
   "metadata": {},
   "outputs": [],
   "source": [
    "def print_num(val):\n",
    "    for i in range(val):\n",
    "        j=i\n",
    "        while j>=1:\n",
    "            print(j,end=\" \")\n",
    "            j=j-1\n",
    "        print() "
   ]
  },
  {
   "cell_type": "code",
   "execution_count": 82,
   "id": "58eaf411",
   "metadata": {},
   "outputs": [
    {
     "name": "stdout",
     "output_type": "stream",
     "text": [
      "\n",
      "1 \n",
      "2 1 \n",
      "3 2 1 \n",
      "4 3 2 1 \n",
      "5 4 3 2 1 \n",
      "6 5 4 3 2 1 \n",
      "7 6 5 4 3 2 1 \n",
      "8 7 6 5 4 3 2 1 \n",
      "9 8 7 6 5 4 3 2 1 \n",
      "10 9 8 7 6 5 4 3 2 1 \n",
      "11 10 9 8 7 6 5 4 3 2 1 \n",
      "12 11 10 9 8 7 6 5 4 3 2 1 \n",
      "13 12 11 10 9 8 7 6 5 4 3 2 1 \n",
      "14 13 12 11 10 9 8 7 6 5 4 3 2 1 \n"
     ]
    }
   ],
   "source": [
    "print_num(15)"
   ]
  },
  {
   "cell_type": "code",
   "execution_count": 83,
   "id": "f070401f",
   "metadata": {},
   "outputs": [],
   "source": [
    "a=lambda x:x**2"
   ]
  },
  {
   "cell_type": "code",
   "execution_count": 84,
   "id": "ebaa997a",
   "metadata": {},
   "outputs": [
    {
     "data": {
      "text/plain": [
       "144"
      ]
     },
     "execution_count": 84,
     "metadata": {},
     "output_type": "execute_result"
    }
   ],
   "source": [
    "a(12)"
   ]
  },
  {
   "cell_type": "code",
   "execution_count": 85,
   "id": "ec993723",
   "metadata": {},
   "outputs": [],
   "source": [
    "a=lambda x,y:x*y"
   ]
  },
  {
   "cell_type": "code",
   "execution_count": 88,
   "id": "394eba76",
   "metadata": {},
   "outputs": [
    {
     "data": {
      "text/plain": [
       "115"
      ]
     },
     "execution_count": 88,
     "metadata": {},
     "output_type": "execute_result"
    }
   ],
   "source": [
    "a(23,5)"
   ]
  },
  {
   "cell_type": "code",
   "execution_count": 89,
   "id": "7d9f41dd",
   "metadata": {},
   "outputs": [],
   "source": [
    "def func(A,B):\n",
    "    if A>B:\n",
    "        print(\"A is greater than B\")\n",
    "    else:\n",
    "        print(\"B is greater than A\")"
   ]
  },
  {
   "cell_type": "code",
   "execution_count": 90,
   "id": "f1ac889b",
   "metadata": {},
   "outputs": [
    {
     "name": "stdout",
     "output_type": "stream",
     "text": [
      "B is greater than A\n"
     ]
    }
   ],
   "source": [
    "func(34,67)"
   ]
  },
  {
   "cell_type": "markdown",
   "id": "913265ad",
   "metadata": {},
   "source": [
    "LIST COMPREHENSION"
   ]
  },
  {
   "cell_type": "code",
   "execution_count": 91,
   "id": "7dcdee26",
   "metadata": {},
   "outputs": [
    {
     "name": "stdout",
     "output_type": "stream",
     "text": [
      "1 3 5 7 9 11 13 15 17 19 21 23 25 27 29 31 33 35 37 39 41 43 45 47 49 "
     ]
    }
   ],
   "source": [
    "for i in range(50):\n",
    "    if i%2==1:\n",
    "        print(i,end=' ')"
   ]
  },
  {
   "cell_type": "code",
   "execution_count": 93,
   "id": "0d29c369",
   "metadata": {},
   "outputs": [],
   "source": [
    "odd=[i for i in range(50) if i%2!=0]"
   ]
  },
  {
   "cell_type": "code",
   "execution_count": 94,
   "id": "9bd2693a",
   "metadata": {},
   "outputs": [
    {
     "data": {
      "text/plain": [
       "[1,\n",
       " 3,\n",
       " 5,\n",
       " 7,\n",
       " 9,\n",
       " 11,\n",
       " 13,\n",
       " 15,\n",
       " 17,\n",
       " 19,\n",
       " 21,\n",
       " 23,\n",
       " 25,\n",
       " 27,\n",
       " 29,\n",
       " 31,\n",
       " 33,\n",
       " 35,\n",
       " 37,\n",
       " 39,\n",
       " 41,\n",
       " 43,\n",
       " 45,\n",
       " 47,\n",
       " 49]"
      ]
     },
     "execution_count": 94,
     "metadata": {},
     "output_type": "execute_result"
    }
   ],
   "source": [
    "odd"
   ]
  },
  {
   "cell_type": "code",
   "execution_count": 96,
   "id": "d047dd4c",
   "metadata": {},
   "outputs": [
    {
     "data": {
      "text/plain": [
       "False"
      ]
     },
     "execution_count": 96,
     "metadata": {},
     "output_type": "execute_result"
    }
   ],
   "source": [
    "1 not in odd"
   ]
  },
  {
   "cell_type": "markdown",
   "id": "45fd7e32",
   "metadata": {},
   "source": [
    "# Python module"
   ]
  },
  {
   "cell_type": "code",
   "execution_count": 113,
   "id": "8de860e1",
   "metadata": {},
   "outputs": [],
   "source": [
    "from math import pi"
   ]
  },
  {
   "cell_type": "code",
   "execution_count": 114,
   "id": "66b56ecf",
   "metadata": {},
   "outputs": [
    {
     "name": "stdout",
     "output_type": "stream",
     "text": [
      "3.141592653589793\n"
     ]
    }
   ],
   "source": [
    "print(pi)"
   ]
  },
  {
   "cell_type": "code",
   "execution_count": 118,
   "id": "025ee462",
   "metadata": {},
   "outputs": [],
   "source": [
    "from math import sin,cos,log"
   ]
  },
  {
   "cell_type": "code",
   "execution_count": 116,
   "id": "a6c9c5b9",
   "metadata": {},
   "outputs": [
    {
     "data": {
      "text/plain": [
       "0.8509035245341184"
      ]
     },
     "execution_count": 116,
     "metadata": {},
     "output_type": "execute_result"
    }
   ],
   "source": [
    "sin(45)"
   ]
  },
  {
   "cell_type": "code",
   "execution_count": 120,
   "id": "086828c5",
   "metadata": {},
   "outputs": [],
   "source": [
    "from math import *"
   ]
  },
  {
   "cell_type": "code",
   "execution_count": 121,
   "id": "27a090bf",
   "metadata": {},
   "outputs": [
    {
     "data": {
      "text/plain": [
       "3.258096538021482"
      ]
     },
     "execution_count": 121,
     "metadata": {},
     "output_type": "execute_result"
    }
   ],
   "source": [
    "log(26)"
   ]
  },
  {
   "cell_type": "code",
   "execution_count": 1,
   "id": "ac28bb48",
   "metadata": {},
   "outputs": [],
   "source": [
    "import tensorflow"
   ]
  },
  {
   "cell_type": "markdown",
   "id": "faa18156",
   "metadata": {},
   "source": [
    "# THANK YOU!!!!!"
   ]
  },
  {
   "cell_type": "code",
   "execution_count": null,
   "id": "872d3aac",
   "metadata": {},
   "outputs": [],
   "source": []
  }
 ],
 "metadata": {
  "kernelspec": {
   "display_name": "Python 3 (ipykernel)",
   "language": "python",
   "name": "python3"
  },
  "language_info": {
   "codemirror_mode": {
    "name": "ipython",
    "version": 3
   },
   "file_extension": ".py",
   "mimetype": "text/x-python",
   "name": "python",
   "nbconvert_exporter": "python",
   "pygments_lexer": "ipython3",
   "version": "3.9.6"
  }
 },
 "nbformat": 4,
 "nbformat_minor": 5
}
