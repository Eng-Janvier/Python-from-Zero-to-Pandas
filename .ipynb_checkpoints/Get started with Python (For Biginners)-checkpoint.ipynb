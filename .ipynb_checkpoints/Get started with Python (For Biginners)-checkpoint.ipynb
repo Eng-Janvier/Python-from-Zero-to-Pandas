{
 "cells": [
  {
   "cell_type": "markdown",
   "id": "9ff2abb0",
   "metadata": {},
   "source": [
    "# PYTHON BASICS"
   ]
  },
  {
   "cell_type": "code",
   "execution_count": 2,
   "id": "4d3262e9",
   "metadata": {},
   "outputs": [
    {
     "name": "stdout",
     "output_type": "stream",
     "text": [
      "Hello\n"
     ]
    }
   ],
   "source": [
    "print(\"Hello\")"
   ]
  },
  {
   "cell_type": "code",
   "execution_count": 3,
   "id": "65ee2d39",
   "metadata": {},
   "outputs": [
    {
     "name": "stdout",
     "output_type": "stream",
     "text": [
      "Hello january!\n"
     ]
    }
   ],
   "source": [
    "print(\"Hello january!\")"
   ]
  },
  {
   "cell_type": "code",
   "execution_count": 4,
   "id": "0084a0b4",
   "metadata": {},
   "outputs": [
    {
     "name": "stdout",
     "output_type": "stream",
     "text": [
      "hey\n"
     ]
    }
   ],
   "source": [
    "print('hey')"
   ]
  },
  {
   "cell_type": "code",
   "execution_count": 5,
   "id": "89d15523",
   "metadata": {},
   "outputs": [
    {
     "ename": "NameError",
     "evalue": "name 'hey' is not defined",
     "output_type": "error",
     "traceback": [
      "\u001b[1;31m---------------------------------------------------------------------------\u001b[0m",
      "\u001b[1;31mNameError\u001b[0m                                 Traceback (most recent call last)",
      "\u001b[1;32m<ipython-input-5-618e28676a60>\u001b[0m in \u001b[0;36m<module>\u001b[1;34m\u001b[0m\n\u001b[1;32m----> 1\u001b[1;33m \u001b[0mprint\u001b[0m\u001b[1;33m(\u001b[0m\u001b[0mhey\u001b[0m\u001b[1;33m)\u001b[0m\u001b[1;33m\u001b[0m\u001b[0m\n\u001b[0m",
      "\u001b[1;31mNameError\u001b[0m: name 'hey' is not defined"
     ]
    }
   ],
   "source": [
    "print(hey)"
   ]
  },
  {
   "cell_type": "code",
   "execution_count": 7,
   "id": "ec0c9a5b",
   "metadata": {},
   "outputs": [
    {
     "name": "stdout",
     "output_type": "stream",
     "text": [
      "wertyujiklfghjkkkkkknnnnnnnnnnnnnnnnnnnnnnnnnnnnnnnnnnnnnnnnnnnnnnnnnnnnnnnnnnnnnnnnnnnnnnnnn       ffffffffffffffffffffffffffffffffffff       gggggggggggggggggggggggggggg\n"
     ]
    }
   ],
   "source": [
    "print(\"wertyujiklfghjkkkkkknnnnnnnnnnnnnnnnnnnnnnnnnnnnnnnnnnnnnnnnnnnnnnnnnnnnnnnnnnnnnnnnnnnnnnnnn \\\n",
    "      ffffffffffffffffffffffffffffffffffff \\\n",
    "      gggggggggggggggggggggggggggg\")"
   ]
  },
  {
   "cell_type": "markdown",
   "id": "4224c788",
   "metadata": {},
   "source": [
    "Comments"
   ]
  },
  {
   "cell_type": "code",
   "execution_count": 8,
   "id": "dfd4451a",
   "metadata": {},
   "outputs": [],
   "source": [
    "# first program  line comments"
   ]
  },
  {
   "cell_type": "code",
   "execution_count": 10,
   "id": "9047a25e",
   "metadata": {},
   "outputs": [
    {
     "data": {
      "text/plain": [
       "'sdfghjklhjklijdjnlddjnlfjnldnlcdcddd\\nffffffffffffffffffffffffffffffff\\nffffffffffffffffffg\\nccccccccccccccccccccccccccc'"
      ]
     },
     "execution_count": 10,
     "metadata": {},
     "output_type": "execute_result"
    }
   ],
   "source": [
    "\"\"\"sdfghjklhjklijdjnlddjnlfjnldnlcdcddd\n",
    "ffffffffffffffffffffffffffffffff\n",
    "ffffffffffffffffffg\n",
    "ccccccccccccccccccccccccccc\"\"\""
   ]
  },
  {
   "cell_type": "markdown",
   "id": "5226009d",
   "metadata": {},
   "source": [
    "Variables"
   ]
  },
  {
   "cell_type": "code",
   "execution_count": 11,
   "id": "6ab0723c",
   "metadata": {},
   "outputs": [],
   "source": [
    "#memory space/location\n",
    "val=10"
   ]
  },
  {
   "cell_type": "code",
   "execution_count": 13,
   "id": "7ed41adc",
   "metadata": {},
   "outputs": [],
   "source": [
    "#1)numerical data types: int,float, complex"
   ]
  },
  {
   "cell_type": "code",
   "execution_count": 14,
   "id": "1c9e4641",
   "metadata": {},
   "outputs": [
    {
     "data": {
      "text/plain": [
       "int"
      ]
     },
     "execution_count": 14,
     "metadata": {},
     "output_type": "execute_result"
    }
   ],
   "source": [
    "val=14\n",
    "type(val)"
   ]
  },
  {
   "cell_type": "code",
   "execution_count": 15,
   "id": "9028f205",
   "metadata": {},
   "outputs": [
    {
     "data": {
      "text/plain": [
       "float"
      ]
     },
     "execution_count": 15,
     "metadata": {},
     "output_type": "execute_result"
    }
   ],
   "source": [
    "value=78.9\n",
    "type(value)"
   ]
  },
  {
   "cell_type": "code",
   "execution_count": 16,
   "id": "3b05ea7e",
   "metadata": {},
   "outputs": [
    {
     "data": {
      "text/plain": [
       "complex"
      ]
     },
     "execution_count": 16,
     "metadata": {},
     "output_type": "execute_result"
    }
   ],
   "source": [
    "i=3-5j\n",
    "type(i)"
   ]
  },
  {
   "cell_type": "code",
   "execution_count": 17,
   "id": "52eae95a",
   "metadata": {},
   "outputs": [
    {
     "data": {
      "text/plain": [
       "str"
      ]
     },
     "execution_count": 17,
     "metadata": {},
     "output_type": "execute_result"
    }
   ],
   "source": [
    "# string\n",
    "val='hello0'\n",
    "type(val)"
   ]
  },
  {
   "cell_type": "code",
   "execution_count": 18,
   "id": "b92ce68f",
   "metadata": {},
   "outputs": [],
   "source": [
    "#sequence data types: list,tuple,set\n",
    "#dict"
   ]
  },
  {
   "cell_type": "code",
   "execution_count": 19,
   "id": "41ccdcab",
   "metadata": {},
   "outputs": [],
   "source": [
    "s=[45,'aplle','orange']"
   ]
  },
  {
   "cell_type": "code",
   "execution_count": 20,
   "id": "2c2a5c2f",
   "metadata": {},
   "outputs": [
    {
     "data": {
      "text/plain": [
       "list"
      ]
     },
     "execution_count": 20,
     "metadata": {},
     "output_type": "execute_result"
    }
   ],
   "source": [
    "type(s)"
   ]
  },
  {
   "cell_type": "code",
   "execution_count": 21,
   "id": "729f37f8",
   "metadata": {},
   "outputs": [],
   "source": [
    "s1=(45,'aplle','orange')"
   ]
  },
  {
   "cell_type": "code",
   "execution_count": 22,
   "id": "84f6d31e",
   "metadata": {},
   "outputs": [
    {
     "data": {
      "text/plain": [
       "tuple"
      ]
     },
     "execution_count": 22,
     "metadata": {},
     "output_type": "execute_result"
    }
   ],
   "source": [
    "type(s1)"
   ]
  },
  {
   "cell_type": "code",
   "execution_count": 28,
   "id": "3a0d141e",
   "metadata": {},
   "outputs": [],
   "source": [
    "s3=[45,'aplle','orange',45]"
   ]
  },
  {
   "cell_type": "code",
   "execution_count": 29,
   "id": "37e8e7cc",
   "metadata": {},
   "outputs": [
    {
     "data": {
      "text/plain": [
       "list"
      ]
     },
     "execution_count": 29,
     "metadata": {},
     "output_type": "execute_result"
    }
   ],
   "source": [
    "type(s3)"
   ]
  },
  {
   "cell_type": "code",
   "execution_count": 30,
   "id": "395fb480",
   "metadata": {},
   "outputs": [
    {
     "name": "stdout",
     "output_type": "stream",
     "text": [
      "[45, 'aplle', 'orange', 45]\n"
     ]
    }
   ],
   "source": [
    "print(s3)"
   ]
  },
  {
   "cell_type": "code",
   "execution_count": 31,
   "id": "e71c33a3",
   "metadata": {},
   "outputs": [],
   "source": [
    "#dictionary key-value pair\n",
    "d={'jan':'nijas@yahoo.com','Nelly':'sis@gmail.com'}"
   ]
  },
  {
   "cell_type": "code",
   "execution_count": 32,
   "id": "8ae7b36b",
   "metadata": {},
   "outputs": [
    {
     "data": {
      "text/plain": [
       "dict"
      ]
     },
     "execution_count": 32,
     "metadata": {},
     "output_type": "execute_result"
    }
   ],
   "source": [
    "type(d)"
   ]
  },
  {
   "cell_type": "code",
   "execution_count": 33,
   "id": "b4e760dc",
   "metadata": {},
   "outputs": [
    {
     "data": {
      "text/plain": [
       "dict_keys(['jan', 'Nelly'])"
      ]
     },
     "execution_count": 33,
     "metadata": {},
     "output_type": "execute_result"
    }
   ],
   "source": [
    "d.keys()"
   ]
  },
  {
   "cell_type": "code",
   "execution_count": 34,
   "id": "4c93e2fe",
   "metadata": {},
   "outputs": [
    {
     "data": {
      "text/plain": [
       "dict_values(['nijas@yahoo.com', 'sis@gmail.com'])"
      ]
     },
     "execution_count": 34,
     "metadata": {},
     "output_type": "execute_result"
    }
   ],
   "source": [
    "d.values()"
   ]
  },
  {
   "cell_type": "code",
   "execution_count": 35,
   "id": "e91f7213",
   "metadata": {},
   "outputs": [
    {
     "data": {
      "text/plain": [
       "'sis@gmail.com'"
      ]
     },
     "execution_count": 35,
     "metadata": {},
     "output_type": "execute_result"
    }
   ],
   "source": [
    "d.get('Nelly')"
   ]
  },
  {
   "cell_type": "code",
   "execution_count": 36,
   "id": "efa4b7b1",
   "metadata": {},
   "outputs": [
    {
     "data": {
      "text/plain": [
       "bool"
      ]
     },
     "execution_count": 36,
     "metadata": {},
     "output_type": "execute_result"
    }
   ],
   "source": [
    "#bool\n",
    "val=True\n",
    "type(val)"
   ]
  },
  {
   "cell_type": "markdown",
   "id": "8aab7a5d",
   "metadata": {},
   "source": [
    "# STRING"
   ]
  },
  {
   "cell_type": "code",
   "execution_count": 37,
   "id": "15479de7",
   "metadata": {},
   "outputs": [],
   "source": [
    "st=\"Hello world!\""
   ]
  },
  {
   "cell_type": "code",
   "execution_count": 38,
   "id": "cd6b729f",
   "metadata": {},
   "outputs": [
    {
     "data": {
      "text/plain": [
       "str"
      ]
     },
     "execution_count": 38,
     "metadata": {},
     "output_type": "execute_result"
    }
   ],
   "source": [
    "type(st)"
   ]
  },
  {
   "cell_type": "code",
   "execution_count": 39,
   "id": "bbf3dcbe",
   "metadata": {},
   "outputs": [
    {
     "name": "stdout",
     "output_type": "stream",
     "text": [
      "st\n"
     ]
    }
   ],
   "source": [
    "print(\"st\")"
   ]
  },
  {
   "cell_type": "code",
   "execution_count": 40,
   "id": "3b6dc968",
   "metadata": {},
   "outputs": [
    {
     "name": "stdout",
     "output_type": "stream",
     "text": [
      "Hello world!\n"
     ]
    }
   ],
   "source": [
    "print(st)"
   ]
  },
  {
   "cell_type": "code",
   "execution_count": 41,
   "id": "a64e2efc",
   "metadata": {},
   "outputs": [],
   "source": [
    "s1='hello'\n",
    "s2='world'"
   ]
  },
  {
   "cell_type": "code",
   "execution_count": 46,
   "id": "89184251",
   "metadata": {},
   "outputs": [],
   "source": [
    "s=s1+\" \"+s2"
   ]
  },
  {
   "cell_type": "code",
   "execution_count": 47,
   "id": "be982e84",
   "metadata": {},
   "outputs": [
    {
     "name": "stdout",
     "output_type": "stream",
     "text": [
      "hello world\n"
     ]
    }
   ],
   "source": [
    "print(s)"
   ]
  },
  {
   "cell_type": "code",
   "execution_count": 48,
   "id": "8562dc0b",
   "metadata": {},
   "outputs": [
    {
     "name": "stdout",
     "output_type": "stream",
     "text": [
      "HELLO WORLD\n"
     ]
    }
   ],
   "source": [
    "#case conversion\n",
    "print(s.upper())"
   ]
  },
  {
   "cell_type": "code",
   "execution_count": 49,
   "id": "da2d64af",
   "metadata": {},
   "outputs": [
    {
     "name": "stdout",
     "output_type": "stream",
     "text": [
      "HELLO WORLD\n"
     ]
    }
   ],
   "source": [
    "s=s.upper()\n",
    "print(s)"
   ]
  },
  {
   "cell_type": "code",
   "execution_count": 50,
   "id": "d44fe0d3",
   "metadata": {},
   "outputs": [
    {
     "name": "stdout",
     "output_type": "stream",
     "text": [
      "hello world\n"
     ]
    }
   ],
   "source": [
    "print(s.lower())"
   ]
  },
  {
   "cell_type": "code",
   "execution_count": 52,
   "id": "56242f39",
   "metadata": {},
   "outputs": [],
   "source": [
    "#String slicing\n",
    "s='hello my friend Nelly'"
   ]
  },
  {
   "cell_type": "code",
   "execution_count": 53,
   "id": "7323ff63",
   "metadata": {},
   "outputs": [
    {
     "data": {
      "text/plain": [
       "'h'"
      ]
     },
     "execution_count": 53,
     "metadata": {},
     "output_type": "execute_result"
    }
   ],
   "source": [
    "s[0]"
   ]
  },
  {
   "cell_type": "code",
   "execution_count": 57,
   "id": "1577e11e",
   "metadata": {},
   "outputs": [
    {
     "data": {
      "text/plain": [
       "' '"
      ]
     },
     "execution_count": 57,
     "metadata": {},
     "output_type": "execute_result"
    }
   ],
   "source": [
    "s[-6]"
   ]
  },
  {
   "cell_type": "code",
   "execution_count": 59,
   "id": "773a1106",
   "metadata": {},
   "outputs": [
    {
     "data": {
      "text/plain": [
       "'hello'"
      ]
     },
     "execution_count": 59,
     "metadata": {},
     "output_type": "execute_result"
    }
   ],
   "source": [
    "s[:5]"
   ]
  },
  {
   "cell_type": "code",
   "execution_count": 60,
   "id": "a6f3c7b7",
   "metadata": {},
   "outputs": [
    {
     "data": {
      "text/plain": [
       "' my friend Nelly'"
      ]
     },
     "execution_count": 60,
     "metadata": {},
     "output_type": "execute_result"
    }
   ],
   "source": [
    "s[5:]"
   ]
  },
  {
   "cell_type": "code",
   "execution_count": 61,
   "id": "f2870e73",
   "metadata": {},
   "outputs": [
    {
     "data": {
      "text/plain": [
       "'lo '"
      ]
     },
     "execution_count": 61,
     "metadata": {},
     "output_type": "execute_result"
    }
   ],
   "source": [
    "s[3:6]"
   ]
  },
  {
   "cell_type": "code",
   "execution_count": 62,
   "id": "25ec328f",
   "metadata": {},
   "outputs": [
    {
     "data": {
      "text/plain": [
       "'hello '"
      ]
     },
     "execution_count": 62,
     "metadata": {},
     "output_type": "execute_result"
    }
   ],
   "source": [
    "s[0:6]"
   ]
  },
  {
   "cell_type": "code",
   "execution_count": 65,
   "id": "9c348d81",
   "metadata": {},
   "outputs": [],
   "source": [
    "st='hello my friend Nelly'\n",
    "new_s=st.replace(\"hello\",'Hi')"
   ]
  },
  {
   "cell_type": "code",
   "execution_count": 66,
   "id": "184fb40f",
   "metadata": {},
   "outputs": [
    {
     "name": "stdout",
     "output_type": "stream",
     "text": [
      "Hi my friend Nelly\n"
     ]
    }
   ],
   "source": [
    "print(new_s)"
   ]
  },
  {
   "cell_type": "code",
   "execution_count": 67,
   "id": "d7f7f785",
   "metadata": {},
   "outputs": [
    {
     "name": "stdout",
     "output_type": "stream",
     "text": [
      "Sum of val1+val2= 25\n"
     ]
    }
   ],
   "source": [
    "val1=15\n",
    "val2=10\n",
    "sum=val1+val2\n",
    "print(\"Sum of val1+val2= %d\"%sum)"
   ]
  },
  {
   "cell_type": "code",
   "execution_count": 69,
   "id": "4bc0fa23",
   "metadata": {},
   "outputs": [
    {
     "name": "stdout",
     "output_type": "stream",
     "text": [
      "Sum of val1+val2= 25.000\n"
     ]
    }
   ],
   "source": [
    "print(\"Sum of val1+val2= {:.3f}\".format(sum))"
   ]
  },
  {
   "cell_type": "code",
   "execution_count": 70,
   "id": "0e56abd0",
   "metadata": {},
   "outputs": [
    {
     "name": "stdout",
     "output_type": "stream",
     "text": [
      "Sum of 15 + 10 = 25.000\n"
     ]
    }
   ],
   "source": [
    "print(\"Sum of {} + {} = {:.3f}\".format(val1,val2,sum))"
   ]
  },
  {
   "cell_type": "code",
   "execution_count": 79,
   "id": "6fc7dcaa",
   "metadata": {},
   "outputs": [
    {
     "name": "stdout",
     "output_type": "stream",
     "text": [
      "Enter your age:\t89\n"
     ]
    }
   ],
   "source": [
    "age = int(input(\"Enter your age:\\t\"))"
   ]
  },
  {
   "cell_type": "code",
   "execution_count": 80,
   "id": "cccb7b28",
   "metadata": {},
   "outputs": [
    {
     "name": "stdout",
     "output_type": "stream",
     "text": [
      "89\n"
     ]
    }
   ],
   "source": [
    "print(age)"
   ]
  },
  {
   "cell_type": "code",
   "execution_count": 81,
   "id": "1d25cce6",
   "metadata": {},
   "outputs": [
    {
     "data": {
      "text/plain": [
       "int"
      ]
     },
     "execution_count": 81,
     "metadata": {},
     "output_type": "execute_result"
    }
   ],
   "source": [
    "type(age)"
   ]
  },
  {
   "cell_type": "code",
   "execution_count": null,
   "id": "77cccfe9",
   "metadata": {},
   "outputs": [],
   "source": []
  }
 ],
 "metadata": {
  "kernelspec": {
   "display_name": "Python 3 (ipykernel)",
   "language": "python",
   "name": "python3"
  },
  "language_info": {
   "codemirror_mode": {
    "name": "ipython",
    "version": 3
   },
   "file_extension": ".py",
   "mimetype": "text/x-python",
   "name": "python",
   "nbconvert_exporter": "python",
   "pygments_lexer": "ipython3",
   "version": "3.9.6"
  }
 },
 "nbformat": 4,
 "nbformat_minor": 5
}
