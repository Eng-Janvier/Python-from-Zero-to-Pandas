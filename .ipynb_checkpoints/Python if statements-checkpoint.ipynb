{
 "cells": [
  {
   "cell_type": "markdown",
   "id": "7da39d25",
   "metadata": {},
   "source": [
    "# CONTROL STATEMENTS"
   ]
  },
  {
   "cell_type": "markdown",
   "id": "945e1be7",
   "metadata": {},
   "source": [
    "if statemenrs"
   ]
  },
  {
   "cell_type": "code",
   "execution_count": 1,
   "id": "da38d9fb",
   "metadata": {},
   "outputs": [],
   "source": [
    "#if expression:\n",
    "    #statements to executed once espression is matched"
   ]
  },
  {
   "cell_type": "code",
   "execution_count": 3,
   "id": "71dd52f4",
   "metadata": {},
   "outputs": [
    {
     "name": "stdout",
     "output_type": "stream",
     "text": [
      "A is greater than B\n"
     ]
    }
   ],
   "source": [
    "a=20\n",
    "b=50\n",
    "if a<b:\n",
    "    print(\"A is greater than B\")\n",
    "    \n"
   ]
  },
  {
   "cell_type": "code",
   "execution_count": 5,
   "id": "b1b3ba31",
   "metadata": {},
   "outputs": [
    {
     "name": "stdout",
     "output_type": "stream",
     "text": [
      "Enter A:   23\n",
      "Enter B:   78\n"
     ]
    }
   ],
   "source": [
    "A=input(\"Enter A:   \")\n",
    "B=input(\"Enter B:   \")\n",
    "if A>B:\n",
    "    print(\"A is greater than B\")"
   ]
  },
  {
   "cell_type": "code",
   "execution_count": 6,
   "id": "e1b32bcc",
   "metadata": {},
   "outputs": [
    {
     "name": "stdout",
     "output_type": "stream",
     "text": [
      "Enter A:   34\n",
      "Enter B:   78\n",
      "B is greater than A\n"
     ]
    }
   ],
   "source": [
    "A=input(\"Enter A:   \")\n",
    "B=input(\"Enter B:   \")\n",
    "if A>B:\n",
    "    print(\"A is greater than B\")\n",
    "else:\n",
    "    print(\"B is greater than A\")"
   ]
  },
  {
   "cell_type": "code",
   "execution_count": 11,
   "id": "103f84f7",
   "metadata": {},
   "outputs": [
    {
     "name": "stdout",
     "output_type": "stream",
     "text": [
      "Enter your age:   23\n",
      "You are still young\n"
     ]
    }
   ],
   "source": [
    "age=int(input(\"Enter your age:   \"))\n",
    "\n",
    "if age>=50:\n",
    "    print(\"You are old enough\")\n",
    "elif age>=30 and age<50:\n",
    "    print(\"You are mature enough\")\n",
    "else:\n",
    "    print(\"You are still young\")\n",
    "    "
   ]
  },
  {
   "cell_type": "markdown",
   "id": "ce6ee462",
   "metadata": {},
   "source": [
    "#THANK YOU!!!"
   ]
  },
  {
   "cell_type": "code",
   "execution_count": null,
   "id": "e78e6087",
   "metadata": {},
   "outputs": [],
   "source": []
  }
 ],
 "metadata": {
  "kernelspec": {
   "display_name": "Python 3 (ipykernel)",
   "language": "python",
   "name": "python3"
  },
  "language_info": {
   "codemirror_mode": {
    "name": "ipython",
    "version": 3
   },
   "file_extension": ".py",
   "mimetype": "text/x-python",
   "name": "python",
   "nbconvert_exporter": "python",
   "pygments_lexer": "ipython3",
   "version": "3.9.6"
  }
 },
 "nbformat": 4,
 "nbformat_minor": 5
}
