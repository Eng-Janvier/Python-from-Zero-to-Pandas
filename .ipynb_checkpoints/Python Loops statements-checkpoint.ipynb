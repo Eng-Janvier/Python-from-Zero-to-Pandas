{
 "cells": [
  {
   "cell_type": "markdown",
   "id": "7da39d25",
   "metadata": {},
   "source": [
    "# CONTROL STATEMENTS"
   ]
  },
  {
   "cell_type": "markdown",
   "id": "cda04a97",
   "metadata": {},
   "source": [
    "2. For loops"
   ]
  },
  {
   "cell_type": "code",
   "execution_count": 13,
   "id": "58a1824d",
   "metadata": {},
   "outputs": [
    {
     "name": "stdout",
     "output_type": "stream",
     "text": [
      "['apple', 'orange', 'banana', 'mango']\n"
     ]
    }
   ],
   "source": [
    "list =['apple','orange','banana','mango']\n",
    "print(list)"
   ]
  },
  {
   "cell_type": "code",
   "execution_count": 23,
   "id": "77cb03e5",
   "metadata": {},
   "outputs": [
    {
     "name": "stdout",
     "output_type": "stream",
     "text": [
      "apple ,\n",
      "orange ,\n",
      "banana ,\n",
      "mango ,\n"
     ]
    }
   ],
   "source": [
    "for a in list:\n",
    "    print(a ,',')"
   ]
  },
  {
   "cell_type": "code",
   "execution_count": 21,
   "id": "a2deff95",
   "metadata": {},
   "outputs": [
    {
     "name": "stdout",
     "output_type": "stream",
     "text": [
      "apple,orange,banana,mango"
     ]
    }
   ],
   "source": [
    "for a in list:\n",
    "    if a=='mango':\n",
    "        print(a,end='')\n",
    "    else:\n",
    "        print(a,end=',')"
   ]
  },
  {
   "cell_type": "code",
   "execution_count": 26,
   "id": "2a0a56cb",
   "metadata": {},
   "outputs": [
    {
     "name": "stdout",
     "output_type": "stream",
     "text": [
      "0 1 2 3 4 5 6 7 8 9 10 11 12 13 14 15 16 17 18 19 "
     ]
    }
   ],
   "source": [
    "for i in range(0,20):\n",
    "    print(i,end=' ')"
   ]
  },
  {
   "cell_type": "code",
   "execution_count": 27,
   "id": "af3be594",
   "metadata": {},
   "outputs": [
    {
     "data": {
      "text/plain": [
       "0"
      ]
     },
     "execution_count": 27,
     "metadata": {},
     "output_type": "execute_result"
    }
   ],
   "source": [
    "4%2"
   ]
  },
  {
   "cell_type": "code",
   "execution_count": 28,
   "id": "411a0957",
   "metadata": {},
   "outputs": [
    {
     "name": "stdout",
     "output_type": "stream",
     "text": [
      "2 4 6 8 10 12 14 16 18 20 22 24 26 28 30 32 34 36 38 40 42 44 46 48 "
     ]
    }
   ],
   "source": [
    "for i in range(1,50):\n",
    "    if i%2==0:\n",
    "        print(i,end=\" \")"
   ]
  },
  {
   "cell_type": "code",
   "execution_count": 29,
   "id": "816b5584",
   "metadata": {},
   "outputs": [
    {
     "name": "stdout",
     "output_type": "stream",
     "text": [
      "625\n"
     ]
    }
   ],
   "source": [
    "sum=0\n",
    "for i in range(50):\n",
    "    if i%2==1:\n",
    "        sum=sum+i\n",
    "print(sum)\n",
    "    "
   ]
  },
  {
   "cell_type": "code",
   "execution_count": 30,
   "id": "b2a8d3d3",
   "metadata": {},
   "outputs": [
    {
     "name": "stdout",
     "output_type": "stream",
     "text": [
      "24.0\n"
     ]
    }
   ],
   "source": [
    "sum=0\n",
    "count=0\n",
    "for h in range(50):\n",
    "    if h%2==0:\n",
    "        sum+=h\n",
    "        count+=1\n",
    "average=sum/count\n",
    "print(average)\n",
    "\n",
    "        "
   ]
  },
  {
   "cell_type": "code",
   "execution_count": 45,
   "id": "43ecb4ad",
   "metadata": {},
   "outputs": [
    {
     "name": "stdout",
     "output_type": "stream",
     "text": [
      "Enter row: 8\n",
      "* \n",
      "* * \n",
      "* * * \n",
      "* * * * \n",
      "* * * * * \n",
      "* * * * * * \n",
      "* * * * * * * \n"
     ]
    }
   ],
   "source": [
    "row=int(input(\"Enter row: \"))\n",
    "for i in range(1,row):\n",
    "    for j in range(0,i):\n",
    "        print(\"*\",end=\" \")\n",
    "    print()"
   ]
  },
  {
   "cell_type": "code",
   "execution_count": 44,
   "id": "9213ebd3",
   "metadata": {},
   "outputs": [
    {
     "name": "stdout",
     "output_type": "stream",
     "text": [
      "Enter row: 8\n",
      "1 \n",
      "1 2 \n",
      "1 2 3 \n",
      "1 2 3 4 \n",
      "1 2 3 4 5 \n",
      "1 2 3 4 5 6 \n",
      "1 2 3 4 5 6 7 \n"
     ]
    }
   ],
   "source": [
    "row=int(input(\"Enter row: \"))\n",
    "for i in range(1,row):\n",
    "    for j in range(1,i+1):\n",
    "        print(j,end=\" \")\n",
    "    print()"
   ]
  },
  {
   "cell_type": "code",
   "execution_count": 46,
   "id": "1b471bcd",
   "metadata": {},
   "outputs": [
    {
     "name": "stdout",
     "output_type": "stream",
     "text": [
      "enter45\n"
     ]
    }
   ],
   "source": [
    "a=eval(input(\"enter\"))"
   ]
  },
  {
   "cell_type": "code",
   "execution_count": 47,
   "id": "383da6a3",
   "metadata": {},
   "outputs": [
    {
     "data": {
      "text/plain": [
       "int"
      ]
     },
     "execution_count": 47,
     "metadata": {},
     "output_type": "execute_result"
    }
   ],
   "source": [
    "type(a)"
   ]
  },
  {
   "cell_type": "code",
   "execution_count": 51,
   "id": "b3d549c1",
   "metadata": {},
   "outputs": [
    {
     "name": "stdout",
     "output_type": "stream",
     "text": [
      "     *\n",
      "    **\n",
      "   ***\n",
      "  ****\n",
      " *****\n"
     ]
    }
   ],
   "source": [
    "for i in range(1,6):\n",
    "    for j in range(6-i):\n",
    "        print(\" \",end=\"\")\n",
    "    for k in range(i):\n",
    "        print(\"*\",end=\"\")\n",
    "    print()\n",
    "        "
   ]
  },
  {
   "cell_type": "code",
   "execution_count": 52,
   "id": "667ba94e",
   "metadata": {},
   "outputs": [
    {
     "name": "stdout",
     "output_type": "stream",
     "text": [
      "41\n",
      "66\n",
      "14\n",
      "32\n",
      "47\n",
      "1\n",
      "0\n",
      "79\n"
     ]
    }
   ],
   "source": [
    "list =[41,66,14,32,47,1,0,79]\n",
    "for i in list:\n",
    "    print(i)"
   ]
  },
  {
   "cell_type": "code",
   "execution_count": 56,
   "id": "a99d1e23",
   "metadata": {},
   "outputs": [
    {
     "name": "stdout",
     "output_type": "stream",
     "text": [
      "41\n",
      "66\n"
     ]
    }
   ],
   "source": [
    "for i in range(len(list)):\n",
    "    if list[i]==14:\n",
    "        break\n",
    "    print(list[i])"
   ]
  },
  {
   "cell_type": "code",
   "execution_count": 57,
   "id": "c7587a8b",
   "metadata": {},
   "outputs": [
    {
     "name": "stdout",
     "output_type": "stream",
     "text": [
      "1   H\n",
      "2   e\n",
      "3   l\n",
      "4   l\n",
      "5   o\n"
     ]
    }
   ],
   "source": [
    "a=[1,2,3,4,5]\n",
    "b=['H','e','l','l','o']\n",
    "for i,j in zip(a,b):\n",
    "    print(i,\" \",j)"
   ]
  },
  {
   "cell_type": "markdown",
   "id": "8547a66b",
   "metadata": {},
   "source": [
    "While Loop"
   ]
  },
  {
   "cell_type": "code",
   "execution_count": 61,
   "id": "db0eddf6",
   "metadata": {},
   "outputs": [
    {
     "name": "stdout",
     "output_type": "stream",
     "text": [
      "0 1 2 3 4 5 6 7 8 9 10 11 12 13 14 15 16 17 18 19 20 21 22 23 24 25 26 27 28 29 30 31 32 33 34 35 36 37 38 39 40 41 42 43 44 45 46 47 48 49 50 "
     ]
    }
   ],
   "source": [
    "i=0\n",
    "while i<=50:\n",
    "    print(i,end=\" \")\n",
    "    i+=1\n",
    "    "
   ]
  },
  {
   "cell_type": "code",
   "execution_count": 63,
   "id": "e66eca29",
   "metadata": {},
   "outputs": [
    {
     "name": "stdout",
     "output_type": "stream",
     "text": [
      "1326\n"
     ]
    }
   ],
   "source": [
    "i=0\n",
    "sum=0\n",
    "while i<=50:\n",
    "    i+=1\n",
    "    sum=sum+i\n",
    "print(sum)"
   ]
  },
  {
   "cell_type": "code",
   "execution_count": 66,
   "id": "0bd14268",
   "metadata": {},
   "outputs": [
    {
     "name": "stdout",
     "output_type": "stream",
     "text": [
      "\n",
      "1 \n",
      "2 1 \n",
      "3 2 1 \n",
      "4 3 2 1 \n",
      "5 4 3 2 1 \n"
     ]
    }
   ],
   "source": [
    "for i in range(6):\n",
    "    j=i\n",
    "    while j>=1:\n",
    "        print(j,end=\" \")\n",
    "        j=j-1\n",
    "    print()        "
   ]
  },
  {
   "cell_type": "markdown",
   "id": "faa18156",
   "metadata": {},
   "source": [
    "# THANK YOU!!!!!"
   ]
  },
  {
   "cell_type": "code",
   "execution_count": null,
   "id": "872d3aac",
   "metadata": {},
   "outputs": [],
   "source": []
  }
 ],
 "metadata": {
  "kernelspec": {
   "display_name": "Python 3 (ipykernel)",
   "language": "python",
   "name": "python3"
  },
  "language_info": {
   "codemirror_mode": {
    "name": "ipython",
    "version": 3
   },
   "file_extension": ".py",
   "mimetype": "text/x-python",
   "name": "python",
   "nbconvert_exporter": "python",
   "pygments_lexer": "ipython3",
   "version": "3.9.6"
  }
 },
 "nbformat": 4,
 "nbformat_minor": 5
}
