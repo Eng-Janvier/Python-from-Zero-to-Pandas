{
 "cells": [
  {
   "cell_type": "markdown",
   "id": "efc10ada",
   "metadata": {},
   "source": [
    "# DICTIONARY"
   ]
  },
  {
   "cell_type": "code",
   "execution_count": null,
   "id": "e4e88455",
   "metadata": {},
   "outputs": [],
   "source": []
  },
  {
   "cell_type": "code",
   "execution_count": 114,
   "id": "467ac63f",
   "metadata": {},
   "outputs": [],
   "source": [
    "st_info={'21RP00':'NELLY UWIMMANA','21RP01':'RUKUNDO ERIC','21RP02':'UWAMAHORO CLAUDINE'}"
   ]
  },
  {
   "cell_type": "code",
   "execution_count": 115,
   "id": "7a3489f4",
   "metadata": {},
   "outputs": [
    {
     "name": "stdout",
     "output_type": "stream",
     "text": [
      "dict_keys(['21RP00', '21RP01', '21RP02'])\n"
     ]
    }
   ],
   "source": [
    "print(st_info.keys())"
   ]
  },
  {
   "cell_type": "code",
   "execution_count": 116,
   "id": "0326e2b2",
   "metadata": {},
   "outputs": [
    {
     "name": "stdout",
     "output_type": "stream",
     "text": [
      "dict_values(['NELLY UWIMMANA', 'RUKUNDO ERIC', 'UWAMAHORO CLAUDINE'])\n"
     ]
    }
   ],
   "source": [
    "print(st_info.values())"
   ]
  },
  {
   "cell_type": "code",
   "execution_count": 117,
   "id": "a5f3f82b",
   "metadata": {},
   "outputs": [
    {
     "data": {
      "text/plain": [
       "'RUKUNDO ERIC'"
      ]
     },
     "execution_count": 117,
     "metadata": {},
     "output_type": "execute_result"
    }
   ],
   "source": [
    "st_info['21RP01']"
   ]
  },
  {
   "cell_type": "code",
   "execution_count": 118,
   "id": "5592fd54",
   "metadata": {},
   "outputs": [],
   "source": [
    "st_info['21RP03']='NIYITEGEKA Janvier'"
   ]
  },
  {
   "cell_type": "code",
   "execution_count": 119,
   "id": "0b26d634",
   "metadata": {},
   "outputs": [
    {
     "name": "stdout",
     "output_type": "stream",
     "text": [
      "{'21RP00': 'NELLY UWIMMANA', '21RP01': 'RUKUNDO ERIC', '21RP02': 'UWAMAHORO CLAUDINE', '21RP03': 'NIYITEGEKA Janvier'}\n"
     ]
    }
   ],
   "source": [
    "print(st_info)"
   ]
  },
  {
   "cell_type": "code",
   "execution_count": 120,
   "id": "370e2e38",
   "metadata": {},
   "outputs": [],
   "source": [
    "#DELETE\n",
    "del st_info['21RP00']"
   ]
  },
  {
   "cell_type": "code",
   "execution_count": 121,
   "id": "96394095",
   "metadata": {},
   "outputs": [
    {
     "name": "stdout",
     "output_type": "stream",
     "text": [
      "{'21RP01': 'RUKUNDO ERIC', '21RP02': 'UWAMAHORO CLAUDINE', '21RP03': 'NIYITEGEKA Janvier'}\n"
     ]
    }
   ],
   "source": [
    "print(st_info)"
   ]
  },
  {
   "cell_type": "code",
   "execution_count": 122,
   "id": "40c6ab10",
   "metadata": {},
   "outputs": [],
   "source": [
    "del st_info"
   ]
  },
  {
   "cell_type": "code",
   "execution_count": 123,
   "id": "9ae78031",
   "metadata": {},
   "outputs": [
    {
     "ename": "NameError",
     "evalue": "name 'st_info' is not defined",
     "output_type": "error",
     "traceback": [
      "\u001b[1;31m---------------------------------------------------------------------------\u001b[0m",
      "\u001b[1;31mNameError\u001b[0m                                 Traceback (most recent call last)",
      "\u001b[1;32m~\\AppData\\Local\\Temp/ipykernel_4152/1316810906.py\u001b[0m in \u001b[0;36m<module>\u001b[1;34m\u001b[0m\n\u001b[1;32m----> 1\u001b[1;33m \u001b[0mprint\u001b[0m\u001b[1;33m(\u001b[0m\u001b[0mst_info\u001b[0m\u001b[1;33m)\u001b[0m\u001b[1;33m\u001b[0m\u001b[1;33m\u001b[0m\u001b[0m\n\u001b[0m",
      "\u001b[1;31mNameError\u001b[0m: name 'st_info' is not defined"
     ]
    }
   ],
   "source": [
    "print(st_info)"
   ]
  },
  {
   "cell_type": "code",
   "execution_count": 126,
   "id": "3ea85eb7",
   "metadata": {},
   "outputs": [],
   "source": [
    "d={'21RP1':{'MATH':78,'ENGLISH':90,'C PROGRAMMING':76},'21RP2':{'MATH':58,'ENGLISH':60,'C PROGRAMMING':46}}"
   ]
  },
  {
   "cell_type": "code",
   "execution_count": 127,
   "id": "e591a13d",
   "metadata": {},
   "outputs": [
    {
     "name": "stdout",
     "output_type": "stream",
     "text": [
      "dict_keys(['21RP1', '21RP2'])\n"
     ]
    }
   ],
   "source": [
    "print(d.keys())"
   ]
  },
  {
   "cell_type": "code",
   "execution_count": 128,
   "id": "b0fcd2d6",
   "metadata": {},
   "outputs": [
    {
     "data": {
      "text/plain": [
       "{'MATH': 78, 'ENGLISH': 90, 'C PROGRAMMING': 76}"
      ]
     },
     "execution_count": 128,
     "metadata": {},
     "output_type": "execute_result"
    }
   ],
   "source": [
    "d['21RP1']"
   ]
  },
  {
   "cell_type": "code",
   "execution_count": 129,
   "id": "acae38fc",
   "metadata": {},
   "outputs": [
    {
     "data": {
      "text/plain": [
       "90"
      ]
     },
     "execution_count": 129,
     "metadata": {},
     "output_type": "execute_result"
    }
   ],
   "source": [
    "d['21RP1']['ENGLISH']"
   ]
  },
  {
   "cell_type": "code",
   "execution_count": 131,
   "id": "6fb69057",
   "metadata": {},
   "outputs": [
    {
     "data": {
      "text/plain": [
       "58"
      ]
     },
     "execution_count": 131,
     "metadata": {},
     "output_type": "execute_result"
    }
   ],
   "source": [
    "d['21RP2']['MATH']"
   ]
  },
  {
   "cell_type": "code",
   "execution_count": 1,
   "id": "044ed9e2",
   "metadata": {},
   "outputs": [
    {
     "name": "stdout",
     "output_type": "stream",
     "text": [
      "Collecting pyserial\n",
      "  Downloading pyserial-3.5-py2.py3-none-any.whl (90 kB)\n",
      "Installing collected packages: pyserial\n",
      "Successfully installed pyserial-3.5\n"
     ]
    }
   ],
   "source": [
    "!pip install pyserial"
   ]
  },
  {
   "cell_type": "code",
   "execution_count": null,
   "id": "f6316733",
   "metadata": {},
   "outputs": [],
   "source": []
  }
 ],
 "metadata": {
  "kernelspec": {
   "display_name": "Python 3 (ipykernel)",
   "language": "python",
   "name": "python3"
  },
  "language_info": {
   "codemirror_mode": {
    "name": "ipython",
    "version": 3
   },
   "file_extension": ".py",
   "mimetype": "text/x-python",
   "name": "python",
   "nbconvert_exporter": "python",
   "pygments_lexer": "ipython3",
   "version": "3.9.6"
  }
 },
 "nbformat": 4,
 "nbformat_minor": 5
}
