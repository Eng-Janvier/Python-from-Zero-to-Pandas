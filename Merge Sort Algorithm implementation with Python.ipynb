{
 "cells": [
  {
   "cell_type": "markdown",
   "id": "ba12140f",
   "metadata": {},
   "source": [
    "Contact info: \n",
    "Email: nijas2012@yahoo.com\n",
    "Tel: +250788973044"
   ]
  },
  {
   "cell_type": "markdown",
   "id": "97d7bc63",
   "metadata": {},
   "source": [
    "# Merge Sort Algorithm implementation with Python"
   ]
  },
  {
   "cell_type": "markdown",
   "id": "4987947e",
   "metadata": {},
   "source": [
    "https://www.tutorialspoint.com/data_structures_algorithms/merge_sort_algorithm.htm"
   ]
  },
  {
   "cell_type": "code",
   "execution_count": 14,
   "id": "84033d1f",
   "metadata": {},
   "outputs": [],
   "source": [
    "def mergesort(List):\n",
    "    if len(List)==1:\n",
    "        return List\n",
    "    mid=len(List)//2\n",
    "    l1 =List[:mid]\n",
    "    l2 =List[mid:]\n",
    "    \n",
    "    l1=mergesort(l1)\n",
    "    l2=mergesort(l2)\n",
    "    \n",
    "    return merge(l1,l2)"
   ]
  },
  {
   "cell_type": "code",
   "execution_count": 15,
   "id": "66f1bfe8",
   "metadata": {},
   "outputs": [],
   "source": [
    "def merge(l1,l2):\n",
    "    List_sort=[]\n",
    "    while len(l1)!=0 and len(l2)!=0:\n",
    "        if l1[0]<=l2[0]:\n",
    "            List_sort.append(l1.pop(0)) \n",
    "        else:\n",
    "            List_sort.append(l2.pop(0)) \n",
    "            \n",
    "    #for remaining values\n",
    "    while len(l1):\n",
    "        List_sort.append(l1.pop(0)) \n",
    "    while len(l2):\n",
    "        List_sort.append(l2.pop(0)) \n",
    "        \n",
    "    return List_sort "
   ]
  },
  {
   "cell_type": "code",
   "execution_count": 16,
   "id": "cdb40b56",
   "metadata": {},
   "outputs": [
    {
     "data": {
      "text/plain": [
       "[17, 20, 23, 25, 43, 52, 55, 66, 77, 90]"
      ]
     },
     "execution_count": 16,
     "metadata": {},
     "output_type": "execute_result"
    }
   ],
   "source": [
    "List = [52,25,90,43,77,17,66,23,55,20]\n",
    "mergesort(List)"
   ]
  },
  {
   "cell_type": "code",
   "execution_count": null,
   "id": "439cb6c1",
   "metadata": {},
   "outputs": [],
   "source": [
    "Thank you!!!!"
   ]
  }
 ],
 "metadata": {
  "kernelspec": {
   "display_name": "Python 3 (ipykernel)",
   "language": "python",
   "name": "python3"
  },
  "language_info": {
   "codemirror_mode": {
    "name": "ipython",
    "version": 3
   },
   "file_extension": ".py",
   "mimetype": "text/x-python",
   "name": "python",
   "nbconvert_exporter": "python",
   "pygments_lexer": "ipython3",
   "version": "3.9.7"
  }
 },
 "nbformat": 4,
 "nbformat_minor": 5
}
