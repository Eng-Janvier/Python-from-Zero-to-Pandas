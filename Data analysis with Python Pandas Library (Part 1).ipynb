{
 "cells": [
  {
   "cell_type": "markdown",
   "metadata": {},
   "source": [
    "# What is Python Pandas?"
   ]
  },
  {
   "cell_type": "raw",
   "metadata": {},
   "source": [
    "Pandas is a software library written in Python programming language for data manipulation and analysis into tables."
   ]
  },
  {
   "cell_type": "raw",
   "metadata": {},
   "source": [
    "With a python pandas you can build a pandas series and a pandas DataFrame"
   ]
  },
  {
   "cell_type": "markdown",
   "metadata": {},
   "source": [
    "https://www.tutorialspoint.com/python_pandas/index.htm"
   ]
  },
  {
   "cell_type": "markdown",
   "metadata": {},
   "source": [
    "https://www.datacamp.com/courses/pandas-foundations?utm_source=adwords_ppc&utm_campaignid=12492439802&utm_adgroupid=122563402681&utm_device=c&utm_keyword=python%20pandas%20tutorial&utm_matchtype=b&utm_network=g&utm_adpostion=&utm_creative=504154682629&utm_targetid=aud-299261629574:kwd-297972506302&utm_loc_interest_ms=&utm_loc_physical_ms=1012087&gclid=Cj0KCQjwiNSLBhCPARIsAKNS4_fWIEcveA2V9pKmoqFmkxipnb3Xwz315rst5NO8DGWgqPDusu7LMlkaAhwrEALw_wcB"
   ]
  },
  {
   "cell_type": "markdown",
   "metadata": {},
   "source": [
    "# Pandas Series "
   ]
  },
  {
   "cell_type": "markdown",
   "metadata": {},
   "source": [
    "Pandas Series is a one-dimensional labeled array that can hold data of any type. The axis labels are collectively called index. Pandas Series is a column in an excel sheet."
   ]
  },
  {
   "cell_type": "markdown",
   "metadata": {},
   "source": [
    "https://www.geeksforgeeks.org/python-pandas-series/#:~:text=Pandas%20Series%20is%20a%20one,must%20be%20a%20hashable%20type."
   ]
  },
  {
   "cell_type": "raw",
   "metadata": {},
   "source": [
    "# Creating Pandas Series "
   ]
  },
  {
   "cell_type": "raw",
   "metadata": {},
   "source": [
    "# Let import pandas Library"
   ]
  },
  {
   "cell_type": "code",
   "execution_count": 15,
   "metadata": {},
   "outputs": [],
   "source": [
    "import pandas as pd"
   ]
  },
  {
   "cell_type": "markdown",
   "metadata": {},
   "source": [
    "In order to create a series from list, we have to first create a list after that we can create a series from list."
   ]
  },
  {
   "cell_type": "code",
   "execution_count": 17,
   "metadata": {},
   "outputs": [
    {
     "name": "stdout",
     "output_type": "stream",
     "text": [
      "0      Apple\n",
      "1     orange\n",
      "2    Mangoes\n",
      "3     Banana\n",
      "dtype: object\n"
     ]
    }
   ],
   "source": [
    "fruit = ['Apple','orange','Mangoes','Banana']\n",
    "S=pd.Series(fruit)\n",
    "print(S)"
   ]
  },
  {
   "cell_type": "code",
   "execution_count": 18,
   "metadata": {},
   "outputs": [
    {
     "name": "stdout",
     "output_type": "stream",
     "text": [
      "<class 'pandas.core.series.Series'>\n"
     ]
    }
   ],
   "source": [
    "print(type(S))"
   ]
  },
  {
   "cell_type": "code",
   "execution_count": 20,
   "metadata": {},
   "outputs": [],
   "source": [
    "# Let create a pandas series with a dictionary\n",
    "student={'Eric':90,\n",
    "         'Claudine':79,\n",
    "         'Teddine':95,\n",
    "         'Xavier':89,\n",
    "         'Jhon':100\n",
    "    \n",
    "}"
   ]
  },
  {
   "cell_type": "code",
   "execution_count": 21,
   "metadata": {},
   "outputs": [],
   "source": [
    "ss=pd.Series(student)"
   ]
  },
  {
   "cell_type": "code",
   "execution_count": 22,
   "metadata": {},
   "outputs": [
    {
     "name": "stdout",
     "output_type": "stream",
     "text": [
      "Eric         90\n",
      "Claudine     79\n",
      "Teddine      95\n",
      "Xavier       89\n",
      "Jhon        100\n",
      "dtype: int64\n"
     ]
    }
   ],
   "source": [
    "print(ss)"
   ]
  },
  {
   "cell_type": "code",
   "execution_count": 23,
   "metadata": {},
   "outputs": [
    {
     "name": "stdout",
     "output_type": "stream",
     "text": [
      "Index(['Eric', 'Claudine', 'Teddine', 'Xavier', 'Jhon'], dtype='object')\n"
     ]
    }
   ],
   "source": [
    "#check indexes\n",
    "print(ss.index)"
   ]
  },
  {
   "cell_type": "code",
   "execution_count": 24,
   "metadata": {},
   "outputs": [],
   "source": [
    "# Let define a pandas series with indexes\n",
    "S=pd.Series(['Kigali','Bujumbura','Kampala','Luanda'],index=['Rwanda','Burundi','Uganda','Angola'])"
   ]
  },
  {
   "cell_type": "code",
   "execution_count": 25,
   "metadata": {},
   "outputs": [
    {
     "name": "stdout",
     "output_type": "stream",
     "text": [
      "Rwanda        Kigali\n",
      "Burundi    Bujumbura\n",
      "Uganda       Kampala\n",
      "Angola        Luanda\n",
      "dtype: object\n"
     ]
    }
   ],
   "source": [
    "print(S)"
   ]
  },
  {
   "cell_type": "raw",
   "metadata": {},
   "source": [
    "check index"
   ]
  },
  {
   "cell_type": "code",
   "execution_count": 26,
   "metadata": {},
   "outputs": [
    {
     "name": "stdout",
     "output_type": "stream",
     "text": [
      "Index(['Rwanda', 'Burundi', 'Uganda', 'Angola'], dtype='object')\n"
     ]
    }
   ],
   "source": [
    "print(S.index)"
   ]
  },
  {
   "cell_type": "markdown",
   "metadata": {},
   "source": [
    "# Accessing element of Series"
   ]
  },
  {
   "cell_type": "raw",
   "metadata": {},
   "source": [
    "# There are two ways through which we can access element of series, they are :\n",
    "\n",
    "1. Accessing Element from Series with Position\n",
    "2. Accessing Element Using Label (index)"
   ]
  },
  {
   "cell_type": "code",
   "execution_count": 27,
   "metadata": {},
   "outputs": [],
   "source": [
    "# Let create a series from a dictionary\n",
    "student={'Eric':90,\n",
    "         'Claudine':79,\n",
    "         'Teddine':95,\n",
    "         'Xavier':89,\n",
    "         'Jhon':100\n",
    "    \n",
    "}\n",
    "ser=pd.Series(student)"
   ]
  },
  {
   "cell_type": "raw",
   "metadata": {},
   "source": [
    "# 1. Accessing Element from Series with Position(use .iloc)"
   ]
  },
  {
   "cell_type": "code",
   "execution_count": 30,
   "metadata": {},
   "outputs": [
    {
     "name": "stdout",
     "output_type": "stream",
     "text": [
      "100\n"
     ]
    }
   ],
   "source": [
    "print(ser.iloc[4])"
   ]
  },
  {
   "cell_type": "code",
   "execution_count": 31,
   "metadata": {},
   "outputs": [
    {
     "name": "stdout",
     "output_type": "stream",
     "text": [
      "Eric         90\n",
      "Claudine     79\n",
      "Teddine      95\n",
      "Xavier       89\n",
      "Jhon        100\n",
      "dtype: int64\n"
     ]
    }
   ],
   "source": [
    "print(ser)"
   ]
  },
  {
   "cell_type": "raw",
   "metadata": {},
   "source": [
    "2. Accessing Element Using index(use .loc)"
   ]
  },
  {
   "cell_type": "code",
   "execution_count": 32,
   "metadata": {},
   "outputs": [
    {
     "name": "stdout",
     "output_type": "stream",
     "text": [
      "95\n"
     ]
    }
   ],
   "source": [
    "print(ser.loc['Teddine'])"
   ]
  },
  {
   "cell_type": "code",
   "execution_count": 33,
   "metadata": {},
   "outputs": [
    {
     "name": "stdout",
     "output_type": "stream",
     "text": [
      "100\n"
     ]
    }
   ],
   "source": [
    "print(ser.loc['Jhon'])"
   ]
  },
  {
   "cell_type": "markdown",
   "metadata": {},
   "source": [
    "# Thank You!!!!"
   ]
  }
 ],
 "metadata": {
  "kernelspec": {
   "display_name": "Python 3 (ipykernel)",
   "language": "python",
   "name": "python3"
  },
  "language_info": {
   "codemirror_mode": {
    "name": "ipython",
    "version": 3
   },
   "file_extension": ".py",
   "mimetype": "text/x-python",
   "name": "python",
   "nbconvert_exporter": "python",
   "pygments_lexer": "ipython3",
   "version": "3.9.6"
  }
 },
 "nbformat": 4,
 "nbformat_minor": 4
}
