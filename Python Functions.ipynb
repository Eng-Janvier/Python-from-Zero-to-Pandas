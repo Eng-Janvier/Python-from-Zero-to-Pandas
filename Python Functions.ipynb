{
 "cells": [
  {
   "cell_type": "markdown",
   "id": "e72b7538",
   "metadata": {},
   "source": [
    "# FUNCTIONS"
   ]
  },
  {
   "cell_type": "markdown",
   "id": "fef84f51",
   "metadata": {},
   "source": [
    "In Python, a function is a group of related statements that performs a specific task.\n",
    "\n",
    "Functions help break our program into smaller and modular chunks. As our program grows larger and larger, functions make it more organized and manageable."
   ]
  },
  {
   "cell_type": "markdown",
   "id": "2e60b0ee",
   "metadata": {},
   "source": [
    "LINK: https://www.programiz.com/python-programming/function\n",
    "        "
   ]
  },
  {
   "cell_type": "code",
   "execution_count": 1,
   "id": "9ce6dbca",
   "metadata": {},
   "outputs": [],
   "source": [
    "#ADD Numbers"
   ]
  },
  {
   "cell_type": "code",
   "execution_count": 5,
   "id": "3c4e36e2",
   "metadata": {},
   "outputs": [],
   "source": [
    "def add_numbers(val1,val2):\n",
    "    return val1+val2"
   ]
  },
  {
   "cell_type": "code",
   "execution_count": 8,
   "id": "703c0f40",
   "metadata": {},
   "outputs": [
    {
     "name": "stdout",
     "output_type": "stream",
     "text": [
      "225\n"
     ]
    }
   ],
   "source": [
    "print(add_numbers(25,200))"
   ]
  },
  {
   "cell_type": "code",
   "execution_count": 9,
   "id": "51eeb29f",
   "metadata": {},
   "outputs": [],
   "source": [
    "#multiplication\n",
    "def mult_fanc(a,b):\n",
    "    results=a*b\n",
    "    return results"
   ]
  },
  {
   "cell_type": "code",
   "execution_count": 10,
   "id": "a6ffa64b",
   "metadata": {},
   "outputs": [
    {
     "name": "stdout",
     "output_type": "stream",
     "text": [
      "92\n"
     ]
    }
   ],
   "source": [
    "print(mult_fanc(23,4))"
   ]
  },
  {
   "cell_type": "code",
   "execution_count": 11,
   "id": "592f62a4",
   "metadata": {},
   "outputs": [
    {
     "name": "stdout",
     "output_type": "stream",
     "text": [
      "1000\n"
     ]
    }
   ],
   "source": [
    "print(mult_fanc(100,10))"
   ]
  },
  {
   "cell_type": "code",
   "execution_count": 2,
   "id": "63f0f840",
   "metadata": {},
   "outputs": [],
   "source": [
    "#print stars"
   ]
  },
  {
   "cell_type": "code",
   "execution_count": 13,
   "id": "457aa0b6",
   "metadata": {},
   "outputs": [],
   "source": [
    "def print_stars():\n",
    "    for i in range(9):\n",
    "        for j in range(i+1):\n",
    "            print(\"*\",end=\" \")\n",
    "        print()"
   ]
  },
  {
   "cell_type": "code",
   "execution_count": 14,
   "id": "fb34f326",
   "metadata": {},
   "outputs": [
    {
     "name": "stdout",
     "output_type": "stream",
     "text": [
      "* \n",
      "* * \n",
      "* * * \n",
      "* * * * \n",
      "* * * * * \n",
      "* * * * * * \n",
      "* * * * * * * \n",
      "* * * * * * * * \n",
      "* * * * * * * * * \n",
      "None\n"
     ]
    }
   ],
   "source": [
    "print(print_stars())"
   ]
  },
  {
   "cell_type": "code",
   "execution_count": 15,
   "id": "9b04615e",
   "metadata": {},
   "outputs": [],
   "source": [
    "def print_stars(n):\n",
    "    for i in range(n):\n",
    "        for j in range(i+1):\n",
    "            print(\"*\",end=\" \")\n",
    "        print()"
   ]
  },
  {
   "cell_type": "code",
   "execution_count": 17,
   "id": "0d0d3d75",
   "metadata": {},
   "outputs": [
    {
     "name": "stdout",
     "output_type": "stream",
     "text": [
      "* \n",
      "* * \n",
      "* * * \n",
      "* * * * \n",
      "* * * * * \n",
      "* * * * * * \n",
      "* * * * * * * \n",
      "* * * * * * * * \n",
      "* * * * * * * * * \n",
      "* * * * * * * * * * \n",
      "* * * * * * * * * * * \n",
      "* * * * * * * * * * * * \n",
      "* * * * * * * * * * * * * \n",
      "* * * * * * * * * * * * * * \n",
      "* * * * * * * * * * * * * * * \n",
      "* * * * * * * * * * * * * * * * \n",
      "* * * * * * * * * * * * * * * * * \n",
      "* * * * * * * * * * * * * * * * * * \n",
      "* * * * * * * * * * * * * * * * * * * \n",
      "* * * * * * * * * * * * * * * * * * * * \n",
      "* * * * * * * * * * * * * * * * * * * * * \n",
      "* * * * * * * * * * * * * * * * * * * * * * \n",
      "* * * * * * * * * * * * * * * * * * * * * * * \n",
      "* * * * * * * * * * * * * * * * * * * * * * * * \n",
      "* * * * * * * * * * * * * * * * * * * * * * * * * \n",
      "None\n"
     ]
    }
   ],
   "source": [
    "print(print_stars(25))"
   ]
  },
  {
   "cell_type": "code",
   "execution_count": 3,
   "id": "89c3318b",
   "metadata": {},
   "outputs": [],
   "source": [
    "#print trangle of numbers indictaed below"
   ]
  },
  {
   "cell_type": "code",
   "execution_count": 18,
   "id": "58eaf411",
   "metadata": {},
   "outputs": [],
   "source": [
    "def numbers():\n",
    "    for i in range(8):\n",
    "        j=i\n",
    "        while j>=1:\n",
    "            print(j,end=\" \")\n",
    "            j-=1\n",
    "        print()"
   ]
  },
  {
   "cell_type": "code",
   "execution_count": 19,
   "id": "989e2870",
   "metadata": {},
   "outputs": [
    {
     "name": "stdout",
     "output_type": "stream",
     "text": [
      "\n",
      "1 \n",
      "2 1 \n",
      "3 2 1 \n",
      "4 3 2 1 \n",
      "5 4 3 2 1 \n",
      "6 5 4 3 2 1 \n",
      "7 6 5 4 3 2 1 \n",
      "None\n"
     ]
    }
   ],
   "source": [
    "print(numbers())"
   ]
  },
  {
   "cell_type": "code",
   "execution_count": 20,
   "id": "c0747780",
   "metadata": {},
   "outputs": [],
   "source": [
    "def numbers(rows):\n",
    "    for i in range(rows):\n",
    "        j=i\n",
    "        while j>=1:\n",
    "            print(j,end=\" \")\n",
    "            j-=1\n",
    "        print()"
   ]
  },
  {
   "cell_type": "code",
   "execution_count": 25,
   "id": "a91c8e08",
   "metadata": {},
   "outputs": [
    {
     "name": "stdout",
     "output_type": "stream",
     "text": [
      "\n",
      "1 \n",
      "2 1 \n",
      "3 2 1 \n",
      "4 3 2 1 \n",
      "5 4 3 2 1 \n",
      "6 5 4 3 2 1 \n",
      "7 6 5 4 3 2 1 \n",
      "8 7 6 5 4 3 2 1 \n",
      "9 8 7 6 5 4 3 2 1 \n",
      "10 9 8 7 6 5 4 3 2 1 \n",
      "11 10 9 8 7 6 5 4 3 2 1 \n",
      "12 11 10 9 8 7 6 5 4 3 2 1 \n",
      "13 12 11 10 9 8 7 6 5 4 3 2 1 \n",
      "14 13 12 11 10 9 8 7 6 5 4 3 2 1 \n",
      "15 14 13 12 11 10 9 8 7 6 5 4 3 2 1 \n",
      "16 15 14 13 12 11 10 9 8 7 6 5 4 3 2 1 \n",
      "17 16 15 14 13 12 11 10 9 8 7 6 5 4 3 2 1 \n",
      "18 17 16 15 14 13 12 11 10 9 8 7 6 5 4 3 2 1 \n",
      "19 18 17 16 15 14 13 12 11 10 9 8 7 6 5 4 3 2 1 \n",
      "20 19 18 17 16 15 14 13 12 11 10 9 8 7 6 5 4 3 2 1 \n",
      "21 20 19 18 17 16 15 14 13 12 11 10 9 8 7 6 5 4 3 2 1 \n",
      "22 21 20 19 18 17 16 15 14 13 12 11 10 9 8 7 6 5 4 3 2 1 \n",
      "23 22 21 20 19 18 17 16 15 14 13 12 11 10 9 8 7 6 5 4 3 2 1 \n",
      "24 23 22 21 20 19 18 17 16 15 14 13 12 11 10 9 8 7 6 5 4 3 2 1 \n",
      "25 24 23 22 21 20 19 18 17 16 15 14 13 12 11 10 9 8 7 6 5 4 3 2 1 \n",
      "26 25 24 23 22 21 20 19 18 17 16 15 14 13 12 11 10 9 8 7 6 5 4 3 2 1 \n",
      "27 26 25 24 23 22 21 20 19 18 17 16 15 14 13 12 11 10 9 8 7 6 5 4 3 2 1 \n",
      "28 27 26 25 24 23 22 21 20 19 18 17 16 15 14 13 12 11 10 9 8 7 6 5 4 3 2 1 \n"
     ]
    }
   ],
   "source": [
    "numbers(29)"
   ]
  },
  {
   "cell_type": "code",
   "execution_count": 4,
   "id": "f070401f",
   "metadata": {},
   "outputs": [],
   "source": [
    "#lambda function"
   ]
  },
  {
   "cell_type": "code",
   "execution_count": 26,
   "id": "e88eec34",
   "metadata": {},
   "outputs": [],
   "source": [
    "a=lambda x: x**2"
   ]
  },
  {
   "cell_type": "code",
   "execution_count": 28,
   "id": "5a2680db",
   "metadata": {},
   "outputs": [
    {
     "name": "stdout",
     "output_type": "stream",
     "text": [
      "64\n"
     ]
    }
   ],
   "source": [
    "print(a(8))"
   ]
  },
  {
   "cell_type": "code",
   "execution_count": 31,
   "id": "55844ce5",
   "metadata": {},
   "outputs": [],
   "source": [
    "w=lambda x,y:x*y"
   ]
  },
  {
   "cell_type": "code",
   "execution_count": 34,
   "id": "dfa5d003",
   "metadata": {},
   "outputs": [
    {
     "name": "stdout",
     "output_type": "stream",
     "text": [
      "80\n"
     ]
    }
   ],
   "source": [
    "print(w(2,40))"
   ]
  },
  {
   "cell_type": "code",
   "execution_count": 89,
   "id": "7d9f41dd",
   "metadata": {},
   "outputs": [],
   "source": [
    "#Checking even and odd numbers\n"
   ]
  },
  {
   "cell_type": "code",
   "execution_count": 35,
   "id": "92c567a3",
   "metadata": {},
   "outputs": [],
   "source": [
    "def check_even(n):\n",
    "    if n%2==1:\n",
    "        print(\"The given number is Odd!!\")\n",
    "    else:\n",
    "        print(\"The given number is Even\")"
   ]
  },
  {
   "cell_type": "code",
   "execution_count": 41,
   "id": "b5cd0f89",
   "metadata": {},
   "outputs": [
    {
     "name": "stdout",
     "output_type": "stream",
     "text": [
      "The given number is Even\n",
      "None\n"
     ]
    }
   ],
   "source": [
    "print(check_even(8))"
   ]
  },
  {
   "cell_type": "markdown",
   "id": "faa18156",
   "metadata": {},
   "source": [
    "# THANK YOU!!!!!"
   ]
  },
  {
   "cell_type": "code",
   "execution_count": null,
   "id": "872d3aac",
   "metadata": {},
   "outputs": [],
   "source": []
  }
 ],
 "metadata": {
  "kernelspec": {
   "display_name": "Python 3 (ipykernel)",
   "language": "python",
   "name": "python3"
  },
  "language_info": {
   "codemirror_mode": {
    "name": "ipython",
    "version": 3
   },
   "file_extension": ".py",
   "mimetype": "text/x-python",
   "name": "python",
   "nbconvert_exporter": "python",
   "pygments_lexer": "ipython3",
   "version": "3.9.6"
  }
 },
 "nbformat": 4,
 "nbformat_minor": 5
}
