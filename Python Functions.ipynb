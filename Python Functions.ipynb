{
 "cells": [
  {
   "cell_type": "markdown",
   "id": "e72b7538",
   "metadata": {},
   "source": [
    "# FUNCTIONS"
   ]
  },
  {
   "cell_type": "markdown",
   "id": "fef84f51",
   "metadata": {},
   "source": [
    "In Python, a function is a group of related statements that performs a specific task.\n",
    "\n",
    "Functions help break our program into smaller and modular chunks. As our program grows larger and larger, functions make it more organized and manageable."
   ]
  },
  {
   "cell_type": "markdown",
   "id": "2e60b0ee",
   "metadata": {},
   "source": [
    "LINK: https://www.programiz.com/python-programming/function\n",
    "        "
   ]
  },
  {
   "cell_type": "code",
   "execution_count": 68,
   "id": "9ce6dbca",
   "metadata": {},
   "outputs": [],
   "source": [
    "def add_numbers(v1,v2):\n",
    "    return v1+v2"
   ]
  },
  {
   "cell_type": "code",
   "execution_count": 70,
   "id": "ee07b38f",
   "metadata": {},
   "outputs": [
    {
     "data": {
      "text/plain": [
       "364"
      ]
     },
     "execution_count": 70,
     "metadata": {},
     "output_type": "execute_result"
    }
   ],
   "source": [
    "add_numbers(344,20)"
   ]
  },
  {
   "cell_type": "code",
   "execution_count": 71,
   "id": "51eeb29f",
   "metadata": {},
   "outputs": [],
   "source": [
    "def mult_numbers(v1,v2):\n",
    "    return v1*v2"
   ]
  },
  {
   "cell_type": "code",
   "execution_count": 72,
   "id": "a3c73e54",
   "metadata": {},
   "outputs": [
    {
     "data": {
      "text/plain": [
       "138"
      ]
     },
     "execution_count": 72,
     "metadata": {},
     "output_type": "execute_result"
    }
   ],
   "source": [
    "mult_numbers(23,6)"
   ]
  },
  {
   "cell_type": "code",
   "execution_count": 73,
   "id": "a0dfe595",
   "metadata": {},
   "outputs": [],
   "source": [
    "def mult_numbers(v1,v2):\n",
    "    rsult=v1*v2\n",
    "    return rsult"
   ]
  },
  {
   "cell_type": "code",
   "execution_count": 75,
   "id": "63f0f840",
   "metadata": {},
   "outputs": [],
   "source": [
    "def print_stars():\n",
    "    pass\n",
    "    "
   ]
  },
  {
   "cell_type": "code",
   "execution_count": 5,
   "id": "27acc956",
   "metadata": {},
   "outputs": [],
   "source": [
    "def print_num(val):\n",
    "    for i in range(val):\n",
    "        j=i\n",
    "        while j>=1:\n",
    "            print('*',end=\" \")\n",
    "            j=j-1\n",
    "        print() "
   ]
  },
  {
   "cell_type": "code",
   "execution_count": 6,
   "id": "457aa0b6",
   "metadata": {},
   "outputs": [
    {
     "name": "stdout",
     "output_type": "stream",
     "text": [
      "\n",
      "* \n",
      "* * \n",
      "* * * \n",
      "* * * * \n",
      "* * * * * \n",
      "* * * * * * \n",
      "* * * * * * * \n",
      "* * * * * * * * \n",
      "* * * * * * * * * \n",
      "None\n"
     ]
    }
   ],
   "source": [
    "print(print_num(10))"
   ]
  },
  {
   "cell_type": "code",
   "execution_count": 1,
   "id": "89c3318b",
   "metadata": {},
   "outputs": [],
   "source": [
    "def print_num(val):\n",
    "    for i in range(val):\n",
    "        j=i\n",
    "        while j>=1:\n",
    "            print(j,end=\" \")\n",
    "            j=j-1\n",
    "        print() "
   ]
  },
  {
   "cell_type": "code",
   "execution_count": 3,
   "id": "58eaf411",
   "metadata": {},
   "outputs": [
    {
     "name": "stdout",
     "output_type": "stream",
     "text": [
      "\n",
      "1 \n",
      "2 1 \n",
      "3 2 1 \n",
      "4 3 2 1 \n",
      "5 4 3 2 1 \n",
      "6 5 4 3 2 1 \n",
      "7 6 5 4 3 2 1 \n",
      "None\n"
     ]
    }
   ],
   "source": [
    "print(print_num(8))"
   ]
  },
  {
   "cell_type": "code",
   "execution_count": 4,
   "id": "c0747780",
   "metadata": {},
   "outputs": [
    {
     "name": "stdout",
     "output_type": "stream",
     "text": [
      "\n",
      "1 \n",
      "2 1 \n",
      "3 2 1 \n",
      "4 3 2 1 \n",
      "5 4 3 2 1 \n",
      "6 5 4 3 2 1 \n",
      "7 6 5 4 3 2 1 \n",
      "8 7 6 5 4 3 2 1 \n",
      "9 8 7 6 5 4 3 2 1 \n",
      "10 9 8 7 6 5 4 3 2 1 \n",
      "11 10 9 8 7 6 5 4 3 2 1 \n",
      "12 11 10 9 8 7 6 5 4 3 2 1 \n",
      "13 12 11 10 9 8 7 6 5 4 3 2 1 \n",
      "14 13 12 11 10 9 8 7 6 5 4 3 2 1 \n",
      "None\n"
     ]
    }
   ],
   "source": [
    "print(print_num(15))"
   ]
  },
  {
   "cell_type": "code",
   "execution_count": 83,
   "id": "f070401f",
   "metadata": {},
   "outputs": [],
   "source": [
    "a=lambda x:x**2"
   ]
  },
  {
   "cell_type": "code",
   "execution_count": 84,
   "id": "ebaa997a",
   "metadata": {},
   "outputs": [
    {
     "data": {
      "text/plain": [
       "144"
      ]
     },
     "execution_count": 84,
     "metadata": {},
     "output_type": "execute_result"
    }
   ],
   "source": [
    "a(12)"
   ]
  },
  {
   "cell_type": "code",
   "execution_count": 85,
   "id": "ec993723",
   "metadata": {},
   "outputs": [],
   "source": [
    "a=lambda x,y:x*y"
   ]
  },
  {
   "cell_type": "code",
   "execution_count": 88,
   "id": "394eba76",
   "metadata": {},
   "outputs": [
    {
     "data": {
      "text/plain": [
       "115"
      ]
     },
     "execution_count": 88,
     "metadata": {},
     "output_type": "execute_result"
    }
   ],
   "source": [
    "a(23,5)"
   ]
  },
  {
   "cell_type": "code",
   "execution_count": 89,
   "id": "7d9f41dd",
   "metadata": {},
   "outputs": [],
   "source": [
    "def func(A,B):\n",
    "    if A>B:\n",
    "        print(\"A is greater than B\")\n",
    "    else:\n",
    "        print(\"B is greater than A\")"
   ]
  },
  {
   "cell_type": "code",
   "execution_count": 90,
   "id": "f1ac889b",
   "metadata": {},
   "outputs": [
    {
     "name": "stdout",
     "output_type": "stream",
     "text": [
      "B is greater than A\n"
     ]
    }
   ],
   "source": [
    "func(34,67)"
   ]
  },
  {
   "cell_type": "markdown",
   "id": "faa18156",
   "metadata": {},
   "source": [
    "# THANK YOU!!!!!"
   ]
  },
  {
   "cell_type": "code",
   "execution_count": null,
   "id": "872d3aac",
   "metadata": {},
   "outputs": [],
   "source": []
  }
 ],
 "metadata": {
  "kernelspec": {
   "display_name": "Python 3 (ipykernel)",
   "language": "python",
   "name": "python3"
  },
  "language_info": {
   "codemirror_mode": {
    "name": "ipython",
    "version": 3
   },
   "file_extension": ".py",
   "mimetype": "text/x-python",
   "name": "python",
   "nbconvert_exporter": "python",
   "pygments_lexer": "ipython3",
   "version": "3.9.6"
  }
 },
 "nbformat": 4,
 "nbformat_minor": 5
}
