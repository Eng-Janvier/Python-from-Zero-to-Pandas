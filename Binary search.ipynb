{
 "cells": [
  {
   "cell_type": "markdown",
   "id": "6b7a4db0",
   "metadata": {},
   "source": [
    "# Binary Search in Python"
   ]
  },
  {
   "cell_type": "markdown",
   "id": "a93f8652",
   "metadata": {},
   "source": [
    "This illustrate an efficient way of searching a value from an array without looking for at each item of the array."
   ]
  },
  {
   "cell_type": "markdown",
   "id": "5b8bcc06",
   "metadata": {},
   "source": [
    "https://www.tutorialspoint.com/data_structures_algorithms/binary_search_algorithm.htm"
   ]
  },
  {
   "cell_type": "code",
   "execution_count": 10,
   "id": "431a2d8f",
   "metadata": {},
   "outputs": [],
   "source": [
    "def binary_search(ar,low,high,y):\n",
    "    ar=sorted(ar)\n",
    "    if high>=low:\n",
    "        mid=(low+high)//2\n",
    "        \n",
    "        if ar[mid]==y:\n",
    "            return mid\n",
    "        elif ar[mid]>y:\n",
    "            return binary_search(ar,low,mid-1,y)\n",
    "        else:\n",
    "            return binary_search(ar,mid+1,high,y)\n",
    "    else:\n",
    "        return print(\"The item that you are looking for is not exist\")\n",
    "        "
   ]
  },
  {
   "cell_type": "code",
   "execution_count": 12,
   "id": "820be6c6",
   "metadata": {},
   "outputs": [
    {
     "data": {
      "text/plain": [
       "3"
      ]
     },
     "execution_count": 12,
     "metadata": {},
     "output_type": "execute_result"
    }
   ],
   "source": [
    "ar=[4,7,13,50,88]\n",
    "y=50\n",
    "binary_search(ar,0,len(ar)-1,y)"
   ]
  },
  {
   "cell_type": "code",
   "execution_count": 13,
   "id": "e7bc0727",
   "metadata": {},
   "outputs": [
    {
     "name": "stdout",
     "output_type": "stream",
     "text": [
      "The item that you are looking for is not exist\n"
     ]
    }
   ],
   "source": [
    "ar=[4,7,13,50,88]\n",
    "y=51\n",
    "binary_search(ar,0,len(ar)-1,y)"
   ]
  },
  {
   "cell_type": "code",
   "execution_count": null,
   "id": "c508765b",
   "metadata": {},
   "outputs": [],
   "source": []
  }
 ],
 "metadata": {
  "kernelspec": {
   "display_name": "Python 3 (ipykernel)",
   "language": "python",
   "name": "python3"
  },
  "language_info": {
   "codemirror_mode": {
    "name": "ipython",
    "version": 3
   },
   "file_extension": ".py",
   "mimetype": "text/x-python",
   "name": "python",
   "nbconvert_exporter": "python",
   "pygments_lexer": "ipython3",
   "version": "3.9.7"
  }
 },
 "nbformat": 4,
 "nbformat_minor": 5
}
