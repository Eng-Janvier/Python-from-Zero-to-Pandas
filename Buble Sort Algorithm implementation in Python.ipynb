{
 "cells": [
  {
   "cell_type": "markdown",
   "id": "03d0b644",
   "metadata": {},
   "source": [
    "Contact info: \n",
    "Email: nijas2012@yahoo.com\n",
    "Tel: +250788973044"
   ]
  },
  {
   "cell_type": "markdown",
   "id": "f8d98899",
   "metadata": {},
   "source": [
    "# Buble Sort Algorithm with Python"
   ]
  },
  {
   "cell_type": "markdown",
   "id": "a6d0cce2",
   "metadata": {},
   "source": [
    "https://www.tutorialspoint.com/data_structures_algorithms/bubble_sort_algorithm.htm"
   ]
  },
  {
   "cell_type": "code",
   "execution_count": 5,
   "id": "b23dcd11",
   "metadata": {},
   "outputs": [],
   "source": [
    "def buble_sort(ar):\n",
    "    n=len(ar)\n",
    "    for i in range(0,n-1):\n",
    "        for j in range(0,n-1-i):\n",
    "            if ar[j]>ar[j+1]:\n",
    "                ar[j],ar[j+1]=ar[j+1],ar[j]\n",
    "    return ar"
   ]
  },
  {
   "cell_type": "code",
   "execution_count": 6,
   "id": "84e01390",
   "metadata": {},
   "outputs": [
    {
     "data": {
      "text/plain": [
       "[11, 12, 17, 25, 36, 64, 80]"
      ]
     },
     "execution_count": 6,
     "metadata": {},
     "output_type": "execute_result"
    }
   ],
   "source": [
    "ar=[64,36,17,25,12,11,80]\n",
    "buble_sort(ar)"
   ]
  },
  {
   "cell_type": "code",
   "execution_count": 7,
   "id": "887f2ac1",
   "metadata": {},
   "outputs": [
    {
     "data": {
      "text/plain": [
       "[-1, 0, 9, 11, 12, 17, 25, 36, 80]"
      ]
     },
     "execution_count": 7,
     "metadata": {},
     "output_type": "execute_result"
    }
   ],
   "source": [
    "ar=[-1,9,0,36,17,25,12,11,80]\n",
    "buble_sort(ar)"
   ]
  },
  {
   "cell_type": "code",
   "execution_count": null,
   "id": "f38df972",
   "metadata": {},
   "outputs": [],
   "source": [
    "Thank you!!!"
   ]
  }
 ],
 "metadata": {
  "kernelspec": {
   "display_name": "Python 3 (ipykernel)",
   "language": "python",
   "name": "python3"
  },
  "language_info": {
   "codemirror_mode": {
    "name": "ipython",
    "version": 3
   },
   "file_extension": ".py",
   "mimetype": "text/x-python",
   "name": "python",
   "nbconvert_exporter": "python",
   "pygments_lexer": "ipython3",
   "version": "3.9.7"
  }
 },
 "nbformat": 4,
 "nbformat_minor": 5
}
