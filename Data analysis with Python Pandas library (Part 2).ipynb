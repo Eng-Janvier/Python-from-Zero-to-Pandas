{
 "cells": [
  {
   "cell_type": "markdown",
   "metadata": {},
   "source": [
    "# Pandas DataFrame "
   ]
  },
  {
   "cell_type": "raw",
   "metadata": {},
   "source": [
    "#let create a Dataframe of purchasing histrory from 6 stores using Series"
   ]
  },
  {
   "cell_type": "code",
   "execution_count": 44,
   "metadata": {},
   "outputs": [],
   "source": [
    "purchase1={'Name':'Jhon','Good':'Pen','Cost': '1000RWF'}\n",
    "purchase2={'Name':'Teddine','Good':'Laptop','Cost': '1000000RWF'}\n",
    "purchase3={'Name':'January','Good':'Car','Cost': '10000000RWF'}\n",
    "purchase4={'Name':'Gaspard','Good':'SmartPhone','Cost': '500000RWF'}\n",
    "purchase5={'Name':'Jerome','Good':'Vehicle','Cost': '50000000RWF'}\n",
    "purchase6={'Name':'Mary Grace','Good':'Car','Cost': '10000000RWF'}"
   ]
  },
  {
   "cell_type": "code",
   "execution_count": 45,
   "metadata": {},
   "outputs": [],
   "source": [
    "import pandas as pd\n",
    "df=pd.DataFrame([purchase1,purchase2,purchase3,purchase4,purchase5,purchase6],index=['Store 1','Store 2','Store 3','Store 4','Store 5','Store 6'])"
   ]
  },
  {
   "cell_type": "code",
   "execution_count": 47,
   "metadata": {},
   "outputs": [
    {
     "name": "stdout",
     "output_type": "stream",
     "text": [
      "               Name        Good         Cost\n",
      "Store 1        Jhon         Pen      1000RWF\n",
      "Store 2     Teddine      Laptop   1000000RWF\n",
      "Store 3     January         Car  10000000RWF\n",
      "Store 4     Gaspard  SmartPhone    500000RWF\n",
      "Store 5      Jerome     Vehicle  50000000RWF\n",
      "Store 6  Mary Grace         Car  10000000RWF\n"
     ]
    }
   ],
   "source": [
    "print(df)"
   ]
  },
  {
   "cell_type": "code",
   "execution_count": 48,
   "metadata": {},
   "outputs": [
    {
     "data": {
      "text/html": [
       "<div>\n",
       "<style scoped>\n",
       "    .dataframe tbody tr th:only-of-type {\n",
       "        vertical-align: middle;\n",
       "    }\n",
       "\n",
       "    .dataframe tbody tr th {\n",
       "        vertical-align: top;\n",
       "    }\n",
       "\n",
       "    .dataframe thead th {\n",
       "        text-align: right;\n",
       "    }\n",
       "</style>\n",
       "<table border=\"1\" class=\"dataframe\">\n",
       "  <thead>\n",
       "    <tr style=\"text-align: right;\">\n",
       "      <th></th>\n",
       "      <th>Name</th>\n",
       "      <th>Good</th>\n",
       "      <th>Cost</th>\n",
       "    </tr>\n",
       "  </thead>\n",
       "  <tbody>\n",
       "    <tr>\n",
       "      <th>Store 1</th>\n",
       "      <td>Jhon</td>\n",
       "      <td>Pen</td>\n",
       "      <td>1000RWF</td>\n",
       "    </tr>\n",
       "    <tr>\n",
       "      <th>Store 2</th>\n",
       "      <td>Teddine</td>\n",
       "      <td>Laptop</td>\n",
       "      <td>1000000RWF</td>\n",
       "    </tr>\n",
       "    <tr>\n",
       "      <th>Store 3</th>\n",
       "      <td>January</td>\n",
       "      <td>Car</td>\n",
       "      <td>10000000RWF</td>\n",
       "    </tr>\n",
       "    <tr>\n",
       "      <th>Store 4</th>\n",
       "      <td>Gaspard</td>\n",
       "      <td>SmartPhone</td>\n",
       "      <td>500000RWF</td>\n",
       "    </tr>\n",
       "    <tr>\n",
       "      <th>Store 5</th>\n",
       "      <td>Jerome</td>\n",
       "      <td>Vehicle</td>\n",
       "      <td>50000000RWF</td>\n",
       "    </tr>\n",
       "  </tbody>\n",
       "</table>\n",
       "</div>"
      ],
      "text/plain": [
       "            Name        Good         Cost\n",
       "Store 1     Jhon         Pen      1000RWF\n",
       "Store 2  Teddine      Laptop   1000000RWF\n",
       "Store 3  January         Car  10000000RWF\n",
       "Store 4  Gaspard  SmartPhone    500000RWF\n",
       "Store 5   Jerome     Vehicle  50000000RWF"
      ]
     },
     "execution_count": 48,
     "metadata": {},
     "output_type": "execute_result"
    }
   ],
   "source": [
    "df.head()"
   ]
  },
  {
   "cell_type": "code",
   "execution_count": 51,
   "metadata": {},
   "outputs": [
    {
     "data": {
      "text/html": [
       "<div>\n",
       "<style scoped>\n",
       "    .dataframe tbody tr th:only-of-type {\n",
       "        vertical-align: middle;\n",
       "    }\n",
       "\n",
       "    .dataframe tbody tr th {\n",
       "        vertical-align: top;\n",
       "    }\n",
       "\n",
       "    .dataframe thead th {\n",
       "        text-align: right;\n",
       "    }\n",
       "</style>\n",
       "<table border=\"1\" class=\"dataframe\">\n",
       "  <thead>\n",
       "    <tr style=\"text-align: right;\">\n",
       "      <th></th>\n",
       "      <th>Name</th>\n",
       "      <th>Good</th>\n",
       "      <th>Cost</th>\n",
       "    </tr>\n",
       "  </thead>\n",
       "  <tbody>\n",
       "    <tr>\n",
       "      <th>Store 1</th>\n",
       "      <td>Jhon</td>\n",
       "      <td>Pen</td>\n",
       "      <td>1000RWF</td>\n",
       "    </tr>\n",
       "    <tr>\n",
       "      <th>Store 2</th>\n",
       "      <td>Teddine</td>\n",
       "      <td>Laptop</td>\n",
       "      <td>1000000RWF</td>\n",
       "    </tr>\n",
       "    <tr>\n",
       "      <th>Store 3</th>\n",
       "      <td>January</td>\n",
       "      <td>Car</td>\n",
       "      <td>10000000RWF</td>\n",
       "    </tr>\n",
       "    <tr>\n",
       "      <th>Store 4</th>\n",
       "      <td>Gaspard</td>\n",
       "      <td>SmartPhone</td>\n",
       "      <td>500000RWF</td>\n",
       "    </tr>\n",
       "    <tr>\n",
       "      <th>Store 5</th>\n",
       "      <td>Jerome</td>\n",
       "      <td>Vehicle</td>\n",
       "      <td>50000000RWF</td>\n",
       "    </tr>\n",
       "  </tbody>\n",
       "</table>\n",
       "</div>"
      ],
      "text/plain": [
       "            Name        Good         Cost\n",
       "Store 1     Jhon         Pen      1000RWF\n",
       "Store 2  Teddine      Laptop   1000000RWF\n",
       "Store 3  January         Car  10000000RWF\n",
       "Store 4  Gaspard  SmartPhone    500000RWF\n",
       "Store 5   Jerome     Vehicle  50000000RWF"
      ]
     },
     "execution_count": 51,
     "metadata": {},
     "output_type": "execute_result"
    }
   ],
   "source": [
    "df.head(5)"
   ]
  },
  {
   "cell_type": "code",
   "execution_count": 53,
   "metadata": {},
   "outputs": [
    {
     "data": {
      "text/html": [
       "<div>\n",
       "<style scoped>\n",
       "    .dataframe tbody tr th:only-of-type {\n",
       "        vertical-align: middle;\n",
       "    }\n",
       "\n",
       "    .dataframe tbody tr th {\n",
       "        vertical-align: top;\n",
       "    }\n",
       "\n",
       "    .dataframe thead th {\n",
       "        text-align: right;\n",
       "    }\n",
       "</style>\n",
       "<table border=\"1\" class=\"dataframe\">\n",
       "  <thead>\n",
       "    <tr style=\"text-align: right;\">\n",
       "      <th></th>\n",
       "      <th>Name</th>\n",
       "      <th>Good</th>\n",
       "      <th>Cost</th>\n",
       "    </tr>\n",
       "  </thead>\n",
       "  <tbody>\n",
       "    <tr>\n",
       "      <th>Store 4</th>\n",
       "      <td>Gaspard</td>\n",
       "      <td>SmartPhone</td>\n",
       "      <td>500000RWF</td>\n",
       "    </tr>\n",
       "    <tr>\n",
       "      <th>Store 5</th>\n",
       "      <td>Jerome</td>\n",
       "      <td>Vehicle</td>\n",
       "      <td>50000000RWF</td>\n",
       "    </tr>\n",
       "    <tr>\n",
       "      <th>Store 6</th>\n",
       "      <td>Mary Grace</td>\n",
       "      <td>Car</td>\n",
       "      <td>10000000RWF</td>\n",
       "    </tr>\n",
       "  </tbody>\n",
       "</table>\n",
       "</div>"
      ],
      "text/plain": [
       "               Name        Good         Cost\n",
       "Store 4     Gaspard  SmartPhone    500000RWF\n",
       "Store 5      Jerome     Vehicle  50000000RWF\n",
       "Store 6  Mary Grace         Car  10000000RWF"
      ]
     },
     "execution_count": 53,
     "metadata": {},
     "output_type": "execute_result"
    }
   ],
   "source": [
    "df.tail(3)"
   ]
  },
  {
   "cell_type": "code",
   "execution_count": 54,
   "metadata": {},
   "outputs": [
    {
     "data": {
      "text/html": [
       "<div>\n",
       "<style scoped>\n",
       "    .dataframe tbody tr th:only-of-type {\n",
       "        vertical-align: middle;\n",
       "    }\n",
       "\n",
       "    .dataframe tbody tr th {\n",
       "        vertical-align: top;\n",
       "    }\n",
       "\n",
       "    .dataframe thead th {\n",
       "        text-align: right;\n",
       "    }\n",
       "</style>\n",
       "<table border=\"1\" class=\"dataframe\">\n",
       "  <thead>\n",
       "    <tr style=\"text-align: right;\">\n",
       "      <th></th>\n",
       "      <th>Name</th>\n",
       "      <th>Good</th>\n",
       "      <th>Cost</th>\n",
       "    </tr>\n",
       "  </thead>\n",
       "  <tbody>\n",
       "    <tr>\n",
       "      <th>Store 2</th>\n",
       "      <td>Teddine</td>\n",
       "      <td>Laptop</td>\n",
       "      <td>1000000RWF</td>\n",
       "    </tr>\n",
       "    <tr>\n",
       "      <th>Store 3</th>\n",
       "      <td>January</td>\n",
       "      <td>Car</td>\n",
       "      <td>10000000RWF</td>\n",
       "    </tr>\n",
       "    <tr>\n",
       "      <th>Store 4</th>\n",
       "      <td>Gaspard</td>\n",
       "      <td>SmartPhone</td>\n",
       "      <td>500000RWF</td>\n",
       "    </tr>\n",
       "    <tr>\n",
       "      <th>Store 5</th>\n",
       "      <td>Jerome</td>\n",
       "      <td>Vehicle</td>\n",
       "      <td>50000000RWF</td>\n",
       "    </tr>\n",
       "    <tr>\n",
       "      <th>Store 6</th>\n",
       "      <td>Mary Grace</td>\n",
       "      <td>Car</td>\n",
       "      <td>10000000RWF</td>\n",
       "    </tr>\n",
       "  </tbody>\n",
       "</table>\n",
       "</div>"
      ],
      "text/plain": [
       "               Name        Good         Cost\n",
       "Store 2     Teddine      Laptop   1000000RWF\n",
       "Store 3     January         Car  10000000RWF\n",
       "Store 4     Gaspard  SmartPhone    500000RWF\n",
       "Store 5      Jerome     Vehicle  50000000RWF\n",
       "Store 6  Mary Grace         Car  10000000RWF"
      ]
     },
     "execution_count": 54,
     "metadata": {},
     "output_type": "execute_result"
    }
   ],
   "source": [
    "df.tail(5)"
   ]
  },
  {
   "cell_type": "raw",
   "metadata": {},
   "source": [
    "# Accessing content of store 1,2,3,4 with index (.loc)"
   ]
  },
  {
   "cell_type": "code",
   "execution_count": 56,
   "metadata": {},
   "outputs": [
    {
     "data": {
      "text/plain": [
       "Name       Jhon\n",
       "Good        Pen\n",
       "Cost    1000RWF\n",
       "Name: Store 1, dtype: object"
      ]
     },
     "execution_count": 56,
     "metadata": {},
     "output_type": "execute_result"
    }
   ],
   "source": [
    "df.loc['Store 1']"
   ]
  },
  {
   "cell_type": "code",
   "execution_count": 57,
   "metadata": {},
   "outputs": [
    {
     "data": {
      "text/plain": [
       "Name       Teddine\n",
       "Good        Laptop\n",
       "Cost    1000000RWF\n",
       "Name: Store 2, dtype: object"
      ]
     },
     "execution_count": 57,
     "metadata": {},
     "output_type": "execute_result"
    }
   ],
   "source": [
    "df.loc['Store 2']"
   ]
  },
  {
   "cell_type": "code",
   "execution_count": 58,
   "metadata": {},
   "outputs": [
    {
     "data": {
      "text/plain": [
       "Name       Gaspard\n",
       "Good    SmartPhone\n",
       "Cost     500000RWF\n",
       "Name: Store 4, dtype: object"
      ]
     },
     "execution_count": 58,
     "metadata": {},
     "output_type": "execute_result"
    }
   ],
   "source": [
    "df.loc['Store 4']"
   ]
  },
  {
   "cell_type": "code",
   "execution_count": 59,
   "metadata": {},
   "outputs": [
    {
     "name": "stdout",
     "output_type": "stream",
     "text": [
      "<class 'pandas.core.frame.DataFrame'>\n"
     ]
    }
   ],
   "source": [
    "#check type of DataFrame\n",
    "print(type(df))"
   ]
  },
  {
   "cell_type": "raw",
   "metadata": {},
   "source": [
    "# selecting the cost and index 'Store 2'"
   ]
  },
  {
   "cell_type": "code",
   "execution_count": 60,
   "metadata": {},
   "outputs": [
    {
     "data": {
      "text/plain": [
       "'1000000RWF'"
      ]
     },
     "execution_count": 60,
     "metadata": {},
     "output_type": "execute_result"
    }
   ],
   "source": [
    "df.loc['Store 2']['Cost']"
   ]
  },
  {
   "cell_type": "raw",
   "metadata": {},
   "source": [
    "# selecting one row and two columns by position(.iloc)"
   ]
  },
  {
   "cell_type": "code",
   "execution_count": 61,
   "metadata": {},
   "outputs": [
    {
     "data": {
      "text/plain": [
       "Name    Jhon\n",
       "Good     Pen\n",
       "Name: Store 1, dtype: object"
      ]
     },
     "execution_count": 61,
     "metadata": {},
     "output_type": "execute_result"
    }
   ],
   "source": [
    "df.iloc[0,0:2]"
   ]
  },
  {
   "cell_type": "raw",
   "metadata": {},
   "source": [
    "# selecting all rows row and their cost"
   ]
  },
  {
   "cell_type": "code",
   "execution_count": 64,
   "metadata": {},
   "outputs": [
    {
     "data": {
      "text/plain": [
       "Store 1        1000RWF\n",
       "Store 2     1000000RWF\n",
       "Store 3    10000000RWF\n",
       "Store 4      500000RWF\n",
       "Store 5    50000000RWF\n",
       "Store 6    10000000RWF\n",
       "Name: Cost, dtype: object"
      ]
     },
     "execution_count": 64,
     "metadata": {},
     "output_type": "execute_result"
    }
   ],
   "source": [
    "df.iloc[:,2]  "
   ]
  },
  {
   "cell_type": "raw",
   "metadata": {},
   "source": [
    "# selecting all rows and  and two columns"
   ]
  },
  {
   "cell_type": "code",
   "execution_count": 66,
   "metadata": {},
   "outputs": [
    {
     "data": {
      "text/html": [
       "<div>\n",
       "<style scoped>\n",
       "    .dataframe tbody tr th:only-of-type {\n",
       "        vertical-align: middle;\n",
       "    }\n",
       "\n",
       "    .dataframe tbody tr th {\n",
       "        vertical-align: top;\n",
       "    }\n",
       "\n",
       "    .dataframe thead th {\n",
       "        text-align: right;\n",
       "    }\n",
       "</style>\n",
       "<table border=\"1\" class=\"dataframe\">\n",
       "  <thead>\n",
       "    <tr style=\"text-align: right;\">\n",
       "      <th></th>\n",
       "      <th>Name</th>\n",
       "      <th>Good</th>\n",
       "    </tr>\n",
       "  </thead>\n",
       "  <tbody>\n",
       "    <tr>\n",
       "      <th>Store 1</th>\n",
       "      <td>Jhon</td>\n",
       "      <td>Pen</td>\n",
       "    </tr>\n",
       "    <tr>\n",
       "      <th>Store 2</th>\n",
       "      <td>Teddine</td>\n",
       "      <td>Laptop</td>\n",
       "    </tr>\n",
       "    <tr>\n",
       "      <th>Store 3</th>\n",
       "      <td>January</td>\n",
       "      <td>Car</td>\n",
       "    </tr>\n",
       "    <tr>\n",
       "      <th>Store 4</th>\n",
       "      <td>Gaspard</td>\n",
       "      <td>SmartPhone</td>\n",
       "    </tr>\n",
       "    <tr>\n",
       "      <th>Store 5</th>\n",
       "      <td>Jerome</td>\n",
       "      <td>Vehicle</td>\n",
       "    </tr>\n",
       "    <tr>\n",
       "      <th>Store 6</th>\n",
       "      <td>Mary Grace</td>\n",
       "      <td>Car</td>\n",
       "    </tr>\n",
       "  </tbody>\n",
       "</table>\n",
       "</div>"
      ],
      "text/plain": [
       "               Name        Good\n",
       "Store 1        Jhon         Pen\n",
       "Store 2     Teddine      Laptop\n",
       "Store 3     January         Car\n",
       "Store 4     Gaspard  SmartPhone\n",
       "Store 5      Jerome     Vehicle\n",
       "Store 6  Mary Grace         Car"
      ]
     },
     "execution_count": 66,
     "metadata": {},
     "output_type": "execute_result"
    }
   ],
   "source": [
    "   df.iloc[:,0:2]"
   ]
  },
  {
   "cell_type": "raw",
   "metadata": {},
   "source": [
    "# Make transpose"
   ]
  },
  {
   "cell_type": "code",
   "execution_count": 67,
   "metadata": {},
   "outputs": [
    {
     "data": {
      "text/html": [
       "<div>\n",
       "<style scoped>\n",
       "    .dataframe tbody tr th:only-of-type {\n",
       "        vertical-align: middle;\n",
       "    }\n",
       "\n",
       "    .dataframe tbody tr th {\n",
       "        vertical-align: top;\n",
       "    }\n",
       "\n",
       "    .dataframe thead th {\n",
       "        text-align: right;\n",
       "    }\n",
       "</style>\n",
       "<table border=\"1\" class=\"dataframe\">\n",
       "  <thead>\n",
       "    <tr style=\"text-align: right;\">\n",
       "      <th></th>\n",
       "      <th>Store 1</th>\n",
       "      <th>Store 2</th>\n",
       "      <th>Store 3</th>\n",
       "      <th>Store 4</th>\n",
       "      <th>Store 5</th>\n",
       "      <th>Store 6</th>\n",
       "    </tr>\n",
       "  </thead>\n",
       "  <tbody>\n",
       "    <tr>\n",
       "      <th>Name</th>\n",
       "      <td>Jhon</td>\n",
       "      <td>Teddine</td>\n",
       "      <td>January</td>\n",
       "      <td>Gaspard</td>\n",
       "      <td>Jerome</td>\n",
       "      <td>Mary Grace</td>\n",
       "    </tr>\n",
       "    <tr>\n",
       "      <th>Good</th>\n",
       "      <td>Pen</td>\n",
       "      <td>Laptop</td>\n",
       "      <td>Car</td>\n",
       "      <td>SmartPhone</td>\n",
       "      <td>Vehicle</td>\n",
       "      <td>Car</td>\n",
       "    </tr>\n",
       "    <tr>\n",
       "      <th>Cost</th>\n",
       "      <td>1000RWF</td>\n",
       "      <td>1000000RWF</td>\n",
       "      <td>10000000RWF</td>\n",
       "      <td>500000RWF</td>\n",
       "      <td>50000000RWF</td>\n",
       "      <td>10000000RWF</td>\n",
       "    </tr>\n",
       "  </tbody>\n",
       "</table>\n",
       "</div>"
      ],
      "text/plain": [
       "      Store 1     Store 2      Store 3     Store 4      Store 5      Store 6\n",
       "Name     Jhon     Teddine      January     Gaspard       Jerome   Mary Grace\n",
       "Good      Pen      Laptop          Car  SmartPhone      Vehicle          Car\n",
       "Cost  1000RWF  1000000RWF  10000000RWF   500000RWF  50000000RWF  10000000RWF"
      ]
     },
     "execution_count": 67,
     "metadata": {},
     "output_type": "execute_result"
    }
   ],
   "source": [
    "df.T"
   ]
  },
  {
   "cell_type": "raw",
   "metadata": {},
   "source": [
    "# selecting the cost at index 'Store 1'"
   ]
  },
  {
   "cell_type": "code",
   "execution_count": 70,
   "metadata": {},
   "outputs": [
    {
     "data": {
      "text/plain": [
       "'50000000RWF'"
      ]
     },
     "execution_count": 70,
     "metadata": {},
     "output_type": "execute_result"
    }
   ],
   "source": [
    "df.loc['Store 5']['Cost'] "
   ]
  },
  {
   "cell_type": "raw",
   "metadata": {},
   "source": [
    "#deleting a row with 'Store 1' index"
   ]
  },
  {
   "cell_type": "code",
   "execution_count": 73,
   "metadata": {},
   "outputs": [
    {
     "data": {
      "text/html": [
       "<div>\n",
       "<style scoped>\n",
       "    .dataframe tbody tr th:only-of-type {\n",
       "        vertical-align: middle;\n",
       "    }\n",
       "\n",
       "    .dataframe tbody tr th {\n",
       "        vertical-align: top;\n",
       "    }\n",
       "\n",
       "    .dataframe thead th {\n",
       "        text-align: right;\n",
       "    }\n",
       "</style>\n",
       "<table border=\"1\" class=\"dataframe\">\n",
       "  <thead>\n",
       "    <tr style=\"text-align: right;\">\n",
       "      <th></th>\n",
       "      <th>Name</th>\n",
       "      <th>Good</th>\n",
       "      <th>Cost</th>\n",
       "    </tr>\n",
       "  </thead>\n",
       "  <tbody>\n",
       "    <tr>\n",
       "      <th>Store 2</th>\n",
       "      <td>Teddine</td>\n",
       "      <td>Laptop</td>\n",
       "      <td>1000000RWF</td>\n",
       "    </tr>\n",
       "    <tr>\n",
       "      <th>Store 3</th>\n",
       "      <td>January</td>\n",
       "      <td>Car</td>\n",
       "      <td>10000000RWF</td>\n",
       "    </tr>\n",
       "    <tr>\n",
       "      <th>Store 4</th>\n",
       "      <td>Gaspard</td>\n",
       "      <td>SmartPhone</td>\n",
       "      <td>500000RWF</td>\n",
       "    </tr>\n",
       "    <tr>\n",
       "      <th>Store 5</th>\n",
       "      <td>Jerome</td>\n",
       "      <td>Vehicle</td>\n",
       "      <td>50000000RWF</td>\n",
       "    </tr>\n",
       "    <tr>\n",
       "      <th>Store 6</th>\n",
       "      <td>Mary Grace</td>\n",
       "      <td>Car</td>\n",
       "      <td>10000000RWF</td>\n",
       "    </tr>\n",
       "  </tbody>\n",
       "</table>\n",
       "</div>"
      ],
      "text/plain": [
       "               Name        Good         Cost\n",
       "Store 2     Teddine      Laptop   1000000RWF\n",
       "Store 3     January         Car  10000000RWF\n",
       "Store 4     Gaspard  SmartPhone    500000RWF\n",
       "Store 5      Jerome     Vehicle  50000000RWF\n",
       "Store 6  Mary Grace         Car  10000000RWF"
      ]
     },
     "execution_count": 73,
     "metadata": {},
     "output_type": "execute_result"
    }
   ],
   "source": [
    "df.drop('Store 1')"
   ]
  },
  {
   "cell_type": "code",
   "execution_count": null,
   "metadata": {},
   "outputs": [],
   "source": []
  },
  {
   "cell_type": "raw",
   "metadata": {},
   "source": [
    "# deleting specific two columns\n",
    "# deleting two columns temporary"
   ]
  },
  {
   "cell_type": "code",
   "execution_count": 74,
   "metadata": {},
   "outputs": [
    {
     "data": {
      "text/html": [
       "<div>\n",
       "<style scoped>\n",
       "    .dataframe tbody tr th:only-of-type {\n",
       "        vertical-align: middle;\n",
       "    }\n",
       "\n",
       "    .dataframe tbody tr th {\n",
       "        vertical-align: top;\n",
       "    }\n",
       "\n",
       "    .dataframe thead th {\n",
       "        text-align: right;\n",
       "    }\n",
       "</style>\n",
       "<table border=\"1\" class=\"dataframe\">\n",
       "  <thead>\n",
       "    <tr style=\"text-align: right;\">\n",
       "      <th></th>\n",
       "      <th>Good</th>\n",
       "    </tr>\n",
       "  </thead>\n",
       "  <tbody>\n",
       "    <tr>\n",
       "      <th>Store 1</th>\n",
       "      <td>Pen</td>\n",
       "    </tr>\n",
       "    <tr>\n",
       "      <th>Store 2</th>\n",
       "      <td>Laptop</td>\n",
       "    </tr>\n",
       "    <tr>\n",
       "      <th>Store 3</th>\n",
       "      <td>Car</td>\n",
       "    </tr>\n",
       "    <tr>\n",
       "      <th>Store 4</th>\n",
       "      <td>SmartPhone</td>\n",
       "    </tr>\n",
       "    <tr>\n",
       "      <th>Store 5</th>\n",
       "      <td>Vehicle</td>\n",
       "    </tr>\n",
       "    <tr>\n",
       "      <th>Store 6</th>\n",
       "      <td>Car</td>\n",
       "    </tr>\n",
       "  </tbody>\n",
       "</table>\n",
       "</div>"
      ],
      "text/plain": [
       "               Good\n",
       "Store 1         Pen\n",
       "Store 2      Laptop\n",
       "Store 3         Car\n",
       "Store 4  SmartPhone\n",
       "Store 5     Vehicle\n",
       "Store 6         Car"
      ]
     },
     "execution_count": 74,
     "metadata": {},
     "output_type": "execute_result"
    }
   ],
   "source": [
    " df.drop(columns=['Name','Cost'])"
   ]
  },
  {
   "cell_type": "code",
   "execution_count": 75,
   "metadata": {},
   "outputs": [
    {
     "data": {
      "text/html": [
       "<div>\n",
       "<style scoped>\n",
       "    .dataframe tbody tr th:only-of-type {\n",
       "        vertical-align: middle;\n",
       "    }\n",
       "\n",
       "    .dataframe tbody tr th {\n",
       "        vertical-align: top;\n",
       "    }\n",
       "\n",
       "    .dataframe thead th {\n",
       "        text-align: right;\n",
       "    }\n",
       "</style>\n",
       "<table border=\"1\" class=\"dataframe\">\n",
       "  <thead>\n",
       "    <tr style=\"text-align: right;\">\n",
       "      <th></th>\n",
       "      <th>Name</th>\n",
       "      <th>Good</th>\n",
       "      <th>Cost</th>\n",
       "    </tr>\n",
       "  </thead>\n",
       "  <tbody>\n",
       "    <tr>\n",
       "      <th>Store 1</th>\n",
       "      <td>Jhon</td>\n",
       "      <td>Pen</td>\n",
       "      <td>1000RWF</td>\n",
       "    </tr>\n",
       "    <tr>\n",
       "      <th>Store 2</th>\n",
       "      <td>Teddine</td>\n",
       "      <td>Laptop</td>\n",
       "      <td>1000000RWF</td>\n",
       "    </tr>\n",
       "    <tr>\n",
       "      <th>Store 3</th>\n",
       "      <td>January</td>\n",
       "      <td>Car</td>\n",
       "      <td>10000000RWF</td>\n",
       "    </tr>\n",
       "    <tr>\n",
       "      <th>Store 4</th>\n",
       "      <td>Gaspard</td>\n",
       "      <td>SmartPhone</td>\n",
       "      <td>500000RWF</td>\n",
       "    </tr>\n",
       "    <tr>\n",
       "      <th>Store 5</th>\n",
       "      <td>Jerome</td>\n",
       "      <td>Vehicle</td>\n",
       "      <td>50000000RWF</td>\n",
       "    </tr>\n",
       "  </tbody>\n",
       "</table>\n",
       "</div>"
      ],
      "text/plain": [
       "            Name        Good         Cost\n",
       "Store 1     Jhon         Pen      1000RWF\n",
       "Store 2  Teddine      Laptop   1000000RWF\n",
       "Store 3  January         Car  10000000RWF\n",
       "Store 4  Gaspard  SmartPhone    500000RWF\n",
       "Store 5   Jerome     Vehicle  50000000RWF"
      ]
     },
     "execution_count": 75,
     "metadata": {},
     "output_type": "execute_result"
    }
   ],
   "source": [
    "df.head()"
   ]
  },
  {
   "cell_type": "raw",
   "metadata": {},
   "source": [
    "# deleting permanently a column named 'Name'"
   ]
  },
  {
   "cell_type": "code",
   "execution_count": 76,
   "metadata": {},
   "outputs": [],
   "source": [
    "del df['Cost']"
   ]
  },
  {
   "cell_type": "code",
   "execution_count": 77,
   "metadata": {},
   "outputs": [
    {
     "data": {
      "text/html": [
       "<div>\n",
       "<style scoped>\n",
       "    .dataframe tbody tr th:only-of-type {\n",
       "        vertical-align: middle;\n",
       "    }\n",
       "\n",
       "    .dataframe tbody tr th {\n",
       "        vertical-align: top;\n",
       "    }\n",
       "\n",
       "    .dataframe thead th {\n",
       "        text-align: right;\n",
       "    }\n",
       "</style>\n",
       "<table border=\"1\" class=\"dataframe\">\n",
       "  <thead>\n",
       "    <tr style=\"text-align: right;\">\n",
       "      <th></th>\n",
       "      <th>Name</th>\n",
       "      <th>Good</th>\n",
       "    </tr>\n",
       "  </thead>\n",
       "  <tbody>\n",
       "    <tr>\n",
       "      <th>Store 1</th>\n",
       "      <td>Jhon</td>\n",
       "      <td>Pen</td>\n",
       "    </tr>\n",
       "    <tr>\n",
       "      <th>Store 2</th>\n",
       "      <td>Teddine</td>\n",
       "      <td>Laptop</td>\n",
       "    </tr>\n",
       "    <tr>\n",
       "      <th>Store 3</th>\n",
       "      <td>January</td>\n",
       "      <td>Car</td>\n",
       "    </tr>\n",
       "    <tr>\n",
       "      <th>Store 4</th>\n",
       "      <td>Gaspard</td>\n",
       "      <td>SmartPhone</td>\n",
       "    </tr>\n",
       "    <tr>\n",
       "      <th>Store 5</th>\n",
       "      <td>Jerome</td>\n",
       "      <td>Vehicle</td>\n",
       "    </tr>\n",
       "  </tbody>\n",
       "</table>\n",
       "</div>"
      ],
      "text/plain": [
       "            Name        Good\n",
       "Store 1     Jhon         Pen\n",
       "Store 2  Teddine      Laptop\n",
       "Store 3  January         Car\n",
       "Store 4  Gaspard  SmartPhone\n",
       "Store 5   Jerome     Vehicle"
      ]
     },
     "execution_count": 77,
     "metadata": {},
     "output_type": "execute_result"
    }
   ],
   "source": [
    "df.head()"
   ]
  },
  {
   "cell_type": "raw",
   "metadata": {},
   "source": [
    "#adding column named 'Location'"
   ]
  },
  {
   "cell_type": "code",
   "execution_count": 80,
   "metadata": {},
   "outputs": [],
   "source": [
    "df['Location']=None"
   ]
  },
  {
   "cell_type": "code",
   "execution_count": 81,
   "metadata": {},
   "outputs": [
    {
     "data": {
      "text/html": [
       "<div>\n",
       "<style scoped>\n",
       "    .dataframe tbody tr th:only-of-type {\n",
       "        vertical-align: middle;\n",
       "    }\n",
       "\n",
       "    .dataframe tbody tr th {\n",
       "        vertical-align: top;\n",
       "    }\n",
       "\n",
       "    .dataframe thead th {\n",
       "        text-align: right;\n",
       "    }\n",
       "</style>\n",
       "<table border=\"1\" class=\"dataframe\">\n",
       "  <thead>\n",
       "    <tr style=\"text-align: right;\">\n",
       "      <th></th>\n",
       "      <th>Name</th>\n",
       "      <th>Good</th>\n",
       "      <th>Location</th>\n",
       "    </tr>\n",
       "  </thead>\n",
       "  <tbody>\n",
       "    <tr>\n",
       "      <th>Store 1</th>\n",
       "      <td>Jhon</td>\n",
       "      <td>Pen</td>\n",
       "      <td>None</td>\n",
       "    </tr>\n",
       "    <tr>\n",
       "      <th>Store 2</th>\n",
       "      <td>Teddine</td>\n",
       "      <td>Laptop</td>\n",
       "      <td>None</td>\n",
       "    </tr>\n",
       "    <tr>\n",
       "      <th>Store 3</th>\n",
       "      <td>January</td>\n",
       "      <td>Car</td>\n",
       "      <td>None</td>\n",
       "    </tr>\n",
       "    <tr>\n",
       "      <th>Store 4</th>\n",
       "      <td>Gaspard</td>\n",
       "      <td>SmartPhone</td>\n",
       "      <td>None</td>\n",
       "    </tr>\n",
       "    <tr>\n",
       "      <th>Store 5</th>\n",
       "      <td>Jerome</td>\n",
       "      <td>Vehicle</td>\n",
       "      <td>None</td>\n",
       "    </tr>\n",
       "  </tbody>\n",
       "</table>\n",
       "</div>"
      ],
      "text/plain": [
       "            Name        Good Location\n",
       "Store 1     Jhon         Pen     None\n",
       "Store 2  Teddine      Laptop     None\n",
       "Store 3  January         Car     None\n",
       "Store 4  Gaspard  SmartPhone     None\n",
       "Store 5   Jerome     Vehicle     None"
      ]
     },
     "execution_count": 81,
     "metadata": {},
     "output_type": "execute_result"
    }
   ],
   "source": [
    "df.head()"
   ]
  },
  {
   "cell_type": "code",
   "execution_count": 82,
   "metadata": {},
   "outputs": [],
   "source": [
    "df['Type']='Second Hand'"
   ]
  },
  {
   "cell_type": "code",
   "execution_count": 83,
   "metadata": {},
   "outputs": [
    {
     "data": {
      "text/html": [
       "<div>\n",
       "<style scoped>\n",
       "    .dataframe tbody tr th:only-of-type {\n",
       "        vertical-align: middle;\n",
       "    }\n",
       "\n",
       "    .dataframe tbody tr th {\n",
       "        vertical-align: top;\n",
       "    }\n",
       "\n",
       "    .dataframe thead th {\n",
       "        text-align: right;\n",
       "    }\n",
       "</style>\n",
       "<table border=\"1\" class=\"dataframe\">\n",
       "  <thead>\n",
       "    <tr style=\"text-align: right;\">\n",
       "      <th></th>\n",
       "      <th>Name</th>\n",
       "      <th>Good</th>\n",
       "      <th>Location</th>\n",
       "      <th>Type</th>\n",
       "    </tr>\n",
       "  </thead>\n",
       "  <tbody>\n",
       "    <tr>\n",
       "      <th>Store 1</th>\n",
       "      <td>Jhon</td>\n",
       "      <td>Pen</td>\n",
       "      <td>None</td>\n",
       "      <td>Second Hand</td>\n",
       "    </tr>\n",
       "    <tr>\n",
       "      <th>Store 2</th>\n",
       "      <td>Teddine</td>\n",
       "      <td>Laptop</td>\n",
       "      <td>None</td>\n",
       "      <td>Second Hand</td>\n",
       "    </tr>\n",
       "    <tr>\n",
       "      <th>Store 3</th>\n",
       "      <td>January</td>\n",
       "      <td>Car</td>\n",
       "      <td>None</td>\n",
       "      <td>Second Hand</td>\n",
       "    </tr>\n",
       "    <tr>\n",
       "      <th>Store 4</th>\n",
       "      <td>Gaspard</td>\n",
       "      <td>SmartPhone</td>\n",
       "      <td>None</td>\n",
       "      <td>Second Hand</td>\n",
       "    </tr>\n",
       "    <tr>\n",
       "      <th>Store 5</th>\n",
       "      <td>Jerome</td>\n",
       "      <td>Vehicle</td>\n",
       "      <td>None</td>\n",
       "      <td>Second Hand</td>\n",
       "    </tr>\n",
       "    <tr>\n",
       "      <th>Store 6</th>\n",
       "      <td>Mary Grace</td>\n",
       "      <td>Car</td>\n",
       "      <td>None</td>\n",
       "      <td>Second Hand</td>\n",
       "    </tr>\n",
       "  </tbody>\n",
       "</table>\n",
       "</div>"
      ],
      "text/plain": [
       "               Name        Good Location         Type\n",
       "Store 1        Jhon         Pen     None  Second Hand\n",
       "Store 2     Teddine      Laptop     None  Second Hand\n",
       "Store 3     January         Car     None  Second Hand\n",
       "Store 4     Gaspard  SmartPhone     None  Second Hand\n",
       "Store 5      Jerome     Vehicle     None  Second Hand\n",
       "Store 6  Mary Grace         Car     None  Second Hand"
      ]
     },
     "execution_count": 83,
     "metadata": {},
     "output_type": "execute_result"
    }
   ],
   "source": [
    "df"
   ]
  },
  {
   "cell_type": "markdown",
   "metadata": {},
   "source": [
    "# Indexing Dataframes"
   ]
  },
  {
   "cell_type": "raw",
   "metadata": {},
   "source": [
    "# display first 5 rows of the dataFrame with head"
   ]
  },
  {
   "cell_type": "code",
   "execution_count": 86,
   "metadata": {},
   "outputs": [
    {
     "data": {
      "text/html": [
       "<div>\n",
       "<style scoped>\n",
       "    .dataframe tbody tr th:only-of-type {\n",
       "        vertical-align: middle;\n",
       "    }\n",
       "\n",
       "    .dataframe tbody tr th {\n",
       "        vertical-align: top;\n",
       "    }\n",
       "\n",
       "    .dataframe thead th {\n",
       "        text-align: right;\n",
       "    }\n",
       "</style>\n",
       "<table border=\"1\" class=\"dataframe\">\n",
       "  <thead>\n",
       "    <tr style=\"text-align: right;\">\n",
       "      <th></th>\n",
       "      <th>Name</th>\n",
       "      <th>Good</th>\n",
       "      <th>Location</th>\n",
       "      <th>Type</th>\n",
       "    </tr>\n",
       "  </thead>\n",
       "  <tbody>\n",
       "    <tr>\n",
       "      <th>Store 1</th>\n",
       "      <td>Jhon</td>\n",
       "      <td>Pen</td>\n",
       "      <td>None</td>\n",
       "      <td>Second Hand</td>\n",
       "    </tr>\n",
       "    <tr>\n",
       "      <th>Store 2</th>\n",
       "      <td>Teddine</td>\n",
       "      <td>Laptop</td>\n",
       "      <td>None</td>\n",
       "      <td>Second Hand</td>\n",
       "    </tr>\n",
       "    <tr>\n",
       "      <th>Store 3</th>\n",
       "      <td>January</td>\n",
       "      <td>Car</td>\n",
       "      <td>None</td>\n",
       "      <td>Second Hand</td>\n",
       "    </tr>\n",
       "    <tr>\n",
       "      <th>Store 4</th>\n",
       "      <td>Gaspard</td>\n",
       "      <td>SmartPhone</td>\n",
       "      <td>None</td>\n",
       "      <td>Second Hand</td>\n",
       "    </tr>\n",
       "    <tr>\n",
       "      <th>Store 5</th>\n",
       "      <td>Jerome</td>\n",
       "      <td>Vehicle</td>\n",
       "      <td>None</td>\n",
       "      <td>Second Hand</td>\n",
       "    </tr>\n",
       "  </tbody>\n",
       "</table>\n",
       "</div>"
      ],
      "text/plain": [
       "            Name        Good Location         Type\n",
       "Store 1     Jhon         Pen     None  Second Hand\n",
       "Store 2  Teddine      Laptop     None  Second Hand\n",
       "Store 3  January         Car     None  Second Hand\n",
       "Store 4  Gaspard  SmartPhone     None  Second Hand\n",
       "Store 5   Jerome     Vehicle     None  Second Hand"
      ]
     },
     "execution_count": 86,
     "metadata": {},
     "output_type": "execute_result"
    }
   ],
   "source": [
    "df.head()"
   ]
  },
  {
   "cell_type": "raw",
   "metadata": {},
   "source": [
    "Reset the index of DataFrame with reset_index function"
   ]
  },
  {
   "cell_type": "code",
   "execution_count": 87,
   "metadata": {},
   "outputs": [],
   "source": [
    "df=df.reset_index()"
   ]
  },
  {
   "cell_type": "code",
   "execution_count": 88,
   "metadata": {},
   "outputs": [
    {
     "data": {
      "text/html": [
       "<div>\n",
       "<style scoped>\n",
       "    .dataframe tbody tr th:only-of-type {\n",
       "        vertical-align: middle;\n",
       "    }\n",
       "\n",
       "    .dataframe tbody tr th {\n",
       "        vertical-align: top;\n",
       "    }\n",
       "\n",
       "    .dataframe thead th {\n",
       "        text-align: right;\n",
       "    }\n",
       "</style>\n",
       "<table border=\"1\" class=\"dataframe\">\n",
       "  <thead>\n",
       "    <tr style=\"text-align: right;\">\n",
       "      <th></th>\n",
       "      <th>index</th>\n",
       "      <th>Name</th>\n",
       "      <th>Good</th>\n",
       "      <th>Location</th>\n",
       "      <th>Type</th>\n",
       "    </tr>\n",
       "  </thead>\n",
       "  <tbody>\n",
       "    <tr>\n",
       "      <th>0</th>\n",
       "      <td>Store 1</td>\n",
       "      <td>Jhon</td>\n",
       "      <td>Pen</td>\n",
       "      <td>None</td>\n",
       "      <td>Second Hand</td>\n",
       "    </tr>\n",
       "    <tr>\n",
       "      <th>1</th>\n",
       "      <td>Store 2</td>\n",
       "      <td>Teddine</td>\n",
       "      <td>Laptop</td>\n",
       "      <td>None</td>\n",
       "      <td>Second Hand</td>\n",
       "    </tr>\n",
       "    <tr>\n",
       "      <th>2</th>\n",
       "      <td>Store 3</td>\n",
       "      <td>January</td>\n",
       "      <td>Car</td>\n",
       "      <td>None</td>\n",
       "      <td>Second Hand</td>\n",
       "    </tr>\n",
       "    <tr>\n",
       "      <th>3</th>\n",
       "      <td>Store 4</td>\n",
       "      <td>Gaspard</td>\n",
       "      <td>SmartPhone</td>\n",
       "      <td>None</td>\n",
       "      <td>Second Hand</td>\n",
       "    </tr>\n",
       "    <tr>\n",
       "      <th>4</th>\n",
       "      <td>Store 5</td>\n",
       "      <td>Jerome</td>\n",
       "      <td>Vehicle</td>\n",
       "      <td>None</td>\n",
       "      <td>Second Hand</td>\n",
       "    </tr>\n",
       "  </tbody>\n",
       "</table>\n",
       "</div>"
      ],
      "text/plain": [
       "     index     Name        Good Location         Type\n",
       "0  Store 1     Jhon         Pen     None  Second Hand\n",
       "1  Store 2  Teddine      Laptop     None  Second Hand\n",
       "2  Store 3  January         Car     None  Second Hand\n",
       "3  Store 4  Gaspard  SmartPhone     None  Second Hand\n",
       "4  Store 5   Jerome     Vehicle     None  Second Hand"
      ]
     },
     "execution_count": 88,
     "metadata": {},
     "output_type": "execute_result"
    }
   ],
   "source": [
    "df.head()"
   ]
  },
  {
   "cell_type": "raw",
   "metadata": {},
   "source": [
    "display the names of the columns of the DataFrame"
   ]
  },
  {
   "cell_type": "code",
   "execution_count": 89,
   "metadata": {},
   "outputs": [
    {
     "name": "stdout",
     "output_type": "stream",
     "text": [
      "Index(['index', 'Name', 'Good', 'Location', 'Type'], dtype='object')\n"
     ]
    }
   ],
   "source": [
    "print(df.columns)"
   ]
  },
  {
   "cell_type": "raw",
   "metadata": {},
   "source": [
    "Set the column as the inex with set_index"
   ]
  },
  {
   "cell_type": "code",
   "execution_count": 90,
   "metadata": {},
   "outputs": [],
   "source": [
    "df=df.set_index('Name')"
   ]
  },
  {
   "cell_type": "code",
   "execution_count": 91,
   "metadata": {},
   "outputs": [
    {
     "data": {
      "text/html": [
       "<div>\n",
       "<style scoped>\n",
       "    .dataframe tbody tr th:only-of-type {\n",
       "        vertical-align: middle;\n",
       "    }\n",
       "\n",
       "    .dataframe tbody tr th {\n",
       "        vertical-align: top;\n",
       "    }\n",
       "\n",
       "    .dataframe thead th {\n",
       "        text-align: right;\n",
       "    }\n",
       "</style>\n",
       "<table border=\"1\" class=\"dataframe\">\n",
       "  <thead>\n",
       "    <tr style=\"text-align: right;\">\n",
       "      <th></th>\n",
       "      <th>index</th>\n",
       "      <th>Good</th>\n",
       "      <th>Location</th>\n",
       "      <th>Type</th>\n",
       "    </tr>\n",
       "    <tr>\n",
       "      <th>Name</th>\n",
       "      <th></th>\n",
       "      <th></th>\n",
       "      <th></th>\n",
       "      <th></th>\n",
       "    </tr>\n",
       "  </thead>\n",
       "  <tbody>\n",
       "    <tr>\n",
       "      <th>Jhon</th>\n",
       "      <td>Store 1</td>\n",
       "      <td>Pen</td>\n",
       "      <td>None</td>\n",
       "      <td>Second Hand</td>\n",
       "    </tr>\n",
       "    <tr>\n",
       "      <th>Teddine</th>\n",
       "      <td>Store 2</td>\n",
       "      <td>Laptop</td>\n",
       "      <td>None</td>\n",
       "      <td>Second Hand</td>\n",
       "    </tr>\n",
       "    <tr>\n",
       "      <th>January</th>\n",
       "      <td>Store 3</td>\n",
       "      <td>Car</td>\n",
       "      <td>None</td>\n",
       "      <td>Second Hand</td>\n",
       "    </tr>\n",
       "    <tr>\n",
       "      <th>Gaspard</th>\n",
       "      <td>Store 4</td>\n",
       "      <td>SmartPhone</td>\n",
       "      <td>None</td>\n",
       "      <td>Second Hand</td>\n",
       "    </tr>\n",
       "    <tr>\n",
       "      <th>Jerome</th>\n",
       "      <td>Store 5</td>\n",
       "      <td>Vehicle</td>\n",
       "      <td>None</td>\n",
       "      <td>Second Hand</td>\n",
       "    </tr>\n",
       "  </tbody>\n",
       "</table>\n",
       "</div>"
      ],
      "text/plain": [
       "           index        Good Location         Type\n",
       "Name                                              \n",
       "Jhon     Store 1         Pen     None  Second Hand\n",
       "Teddine  Store 2      Laptop     None  Second Hand\n",
       "January  Store 3         Car     None  Second Hand\n",
       "Gaspard  Store 4  SmartPhone     None  Second Hand\n",
       "Jerome   Store 5     Vehicle     None  Second Hand"
      ]
     },
     "execution_count": 91,
     "metadata": {},
     "output_type": "execute_result"
    }
   ],
   "source": [
    "df.head()"
   ]
  },
  {
   "cell_type": "raw",
   "metadata": {},
   "source": [
    "Save the DataFrame into a CSV file called \"Table\""
   ]
  },
  {
   "cell_type": "code",
   "execution_count": 94,
   "metadata": {},
   "outputs": [],
   "source": [
    "df.to_csv('Table.csv')"
   ]
  },
  {
   "cell_type": "raw",
   "metadata": {},
   "source": [
    "Import data from a CSV file from our computer local drive"
   ]
  },
  {
   "cell_type": "code",
   "execution_count": 97,
   "metadata": {},
   "outputs": [],
   "source": [
    "data=pd.read_csv(\"Table.csv\",index_col=0)"
   ]
  },
  {
   "cell_type": "code",
   "execution_count": 98,
   "metadata": {},
   "outputs": [
    {
     "data": {
      "text/html": [
       "<div>\n",
       "<style scoped>\n",
       "    .dataframe tbody tr th:only-of-type {\n",
       "        vertical-align: middle;\n",
       "    }\n",
       "\n",
       "    .dataframe tbody tr th {\n",
       "        vertical-align: top;\n",
       "    }\n",
       "\n",
       "    .dataframe thead th {\n",
       "        text-align: right;\n",
       "    }\n",
       "</style>\n",
       "<table border=\"1\" class=\"dataframe\">\n",
       "  <thead>\n",
       "    <tr style=\"text-align: right;\">\n",
       "      <th></th>\n",
       "      <th>index</th>\n",
       "      <th>Good</th>\n",
       "      <th>Location</th>\n",
       "      <th>Type</th>\n",
       "    </tr>\n",
       "    <tr>\n",
       "      <th>Name</th>\n",
       "      <th></th>\n",
       "      <th></th>\n",
       "      <th></th>\n",
       "      <th></th>\n",
       "    </tr>\n",
       "  </thead>\n",
       "  <tbody>\n",
       "    <tr>\n",
       "      <th>Jhon</th>\n",
       "      <td>Store 1</td>\n",
       "      <td>Pen</td>\n",
       "      <td>NaN</td>\n",
       "      <td>Second Hand</td>\n",
       "    </tr>\n",
       "    <tr>\n",
       "      <th>Teddine</th>\n",
       "      <td>Store 2</td>\n",
       "      <td>Laptop</td>\n",
       "      <td>NaN</td>\n",
       "      <td>Second Hand</td>\n",
       "    </tr>\n",
       "    <tr>\n",
       "      <th>January</th>\n",
       "      <td>Store 3</td>\n",
       "      <td>Car</td>\n",
       "      <td>NaN</td>\n",
       "      <td>Second Hand</td>\n",
       "    </tr>\n",
       "    <tr>\n",
       "      <th>Gaspard</th>\n",
       "      <td>Store 4</td>\n",
       "      <td>SmartPhone</td>\n",
       "      <td>NaN</td>\n",
       "      <td>Second Hand</td>\n",
       "    </tr>\n",
       "    <tr>\n",
       "      <th>Jerome</th>\n",
       "      <td>Store 5</td>\n",
       "      <td>Vehicle</td>\n",
       "      <td>NaN</td>\n",
       "      <td>Second Hand</td>\n",
       "    </tr>\n",
       "  </tbody>\n",
       "</table>\n",
       "</div>"
      ],
      "text/plain": [
       "           index        Good  Location         Type\n",
       "Name                                               \n",
       "Jhon     Store 1         Pen       NaN  Second Hand\n",
       "Teddine  Store 2      Laptop       NaN  Second Hand\n",
       "January  Store 3         Car       NaN  Second Hand\n",
       "Gaspard  Store 4  SmartPhone       NaN  Second Hand\n",
       "Jerome   Store 5     Vehicle       NaN  Second Hand"
      ]
     },
     "execution_count": 98,
     "metadata": {},
     "output_type": "execute_result"
    }
   ],
   "source": [
    "data.head()"
   ]
  },
  {
   "cell_type": "markdown",
   "metadata": {},
   "source": [
    "# Thank You!!!"
   ]
  }
 ],
 "metadata": {
  "kernelspec": {
   "display_name": "Python 3 (ipykernel)",
   "language": "python",
   "name": "python3"
  },
  "language_info": {
   "codemirror_mode": {
    "name": "ipython",
    "version": 3
   },
   "file_extension": ".py",
   "mimetype": "text/x-python",
   "name": "python",
   "nbconvert_exporter": "python",
   "pygments_lexer": "ipython3",
   "version": "3.9.6"
  }
 },
 "nbformat": 4,
 "nbformat_minor": 4
}
