{
 "cells": [
  {
   "cell_type": "markdown",
   "id": "7da39d25",
   "metadata": {},
   "source": [
    "# CONTROL STATEMENTS"
   ]
  },
  {
   "cell_type": "markdown",
   "id": "bb945c02",
   "metadata": {},
   "source": [
    "IF Statemenrs"
   ]
  },
  {
   "cell_type": "markdown",
   "id": "63de4be0",
   "metadata": {},
   "source": [
    "you will want to execute a certain line of codes if a condition is satisfied, and a different set of code incase it is not. In Python, you have the if, elif and the else statements for this purpose. In this tutorial, you will work with an example to learn about the simple if statement and gradually move on to if-else and then the if-elif-else statements."
   ]
  },
  {
   "cell_type": "markdown",
   "id": "3328d61b",
   "metadata": {},
   "source": [
    "https://www.datacamp.com/community/tutorials/python-if-elif-else?utm_source=adwords_ppc&utm_campaignid=1455363063&utm_adgroupid=65083631748&utm_device=c&utm_keyword=&utm_matchtype=b&utm_network=g&utm_adpostion=&utm_creative=332602034364&utm_targetid=aud-299261629574:dsa-429603003980&utm_loc_interest_ms=&utm_loc_physical_ms=1012087&gclid=CjwKCAjwkvWKBhB4EiwA-GHjFuqtwZVmv9EwlpQshed1HbgWl43SwvIF5ke31Xt_K6tnFhumPIEYaBoCld4QAvD_BwE\n",
    "        "
   ]
  },
  {
   "cell_type": "code",
   "execution_count": 1,
   "id": "da38d9fb",
   "metadata": {},
   "outputs": [],
   "source": [
    "#if expression:\n",
    "    #statements to executed once espression is matched"
   ]
  },
  {
   "cell_type": "code",
   "execution_count": 3,
   "id": "71dd52f4",
   "metadata": {},
   "outputs": [
    {
     "name": "stdout",
     "output_type": "stream",
     "text": [
      "A is greater than B\n"
     ]
    }
   ],
   "source": [
    "a=20\n",
    "b=50\n",
    "if a<b:\n",
    "    print(\"A is greater than B\")\n",
    "    \n"
   ]
  },
  {
   "cell_type": "code",
   "execution_count": 5,
   "id": "b1b3ba31",
   "metadata": {},
   "outputs": [
    {
     "name": "stdout",
     "output_type": "stream",
     "text": [
      "Enter A:   23\n",
      "Enter B:   78\n"
     ]
    }
   ],
   "source": [
    "A=input(\"Enter A:   \")\n",
    "B=input(\"Enter B:   \")\n",
    "if A>B:\n",
    "    print(\"A is greater than B\")"
   ]
  },
  {
   "cell_type": "code",
   "execution_count": 6,
   "id": "e1b32bcc",
   "metadata": {},
   "outputs": [
    {
     "name": "stdout",
     "output_type": "stream",
     "text": [
      "Enter A:   34\n",
      "Enter B:   78\n",
      "B is greater than A\n"
     ]
    }
   ],
   "source": [
    "A=input(\"Enter A:   \")\n",
    "B=input(\"Enter B:   \")\n",
    "if A>B:\n",
    "    print(\"A is greater than B\")\n",
    "else:\n",
    "    print(\"B is greater than A\")"
   ]
  },
  {
   "cell_type": "code",
   "execution_count": 11,
   "id": "103f84f7",
   "metadata": {},
   "outputs": [
    {
     "name": "stdout",
     "output_type": "stream",
     "text": [
      "Enter your age:   23\n",
      "You are still young\n"
     ]
    }
   ],
   "source": [
    "age=int(input(\"Enter your age:   \"))\n",
    "\n",
    "if age>=50:\n",
    "    print(\"You are old enough\")\n",
    "elif age>=30 and age<50:\n",
    "    print(\"You are mature enough\")\n",
    "else:\n",
    "    print(\"You are still young\")\n",
    "    "
   ]
  },
  {
   "cell_type": "markdown",
   "id": "ce6ee462",
   "metadata": {},
   "source": [
    "#THANK YOU!!!"
   ]
  },
  {
   "cell_type": "code",
   "execution_count": null,
   "id": "e78e6087",
   "metadata": {},
   "outputs": [],
   "source": []
  }
 ],
 "metadata": {
  "kernelspec": {
   "display_name": "Python 3 (ipykernel)",
   "language": "python",
   "name": "python3"
  },
  "language_info": {
   "codemirror_mode": {
    "name": "ipython",
    "version": 3
   },
   "file_extension": ".py",
   "mimetype": "text/x-python",
   "name": "python",
   "nbconvert_exporter": "python",
   "pygments_lexer": "ipython3",
   "version": "3.9.6"
  }
 },
 "nbformat": 4,
 "nbformat_minor": 5
}
