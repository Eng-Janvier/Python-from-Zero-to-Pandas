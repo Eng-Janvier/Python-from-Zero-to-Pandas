{
 "cells": [
  {
   "cell_type": "markdown",
   "id": "2f38fda5",
   "metadata": {},
   "source": [
    "# PYTHON CLASS"
   ]
  },
  {
   "cell_type": "markdown",
   "id": "f457dd92",
   "metadata": {},
   "source": [
    "A Class is like an object constructor, or a \"blueprint\" for creating objects."
   ]
  },
  {
   "cell_type": "markdown",
   "id": "c8d98934",
   "metadata": {},
   "source": [
    "#Class# − A user-defined prototype for an object that defines a set of attributes that characterize any object of the class. The attributes are class variables and instance variables and methods, accessed via dot notation."
   ]
  },
  {
   "cell_type": "markdown",
   "id": "6288a137",
   "metadata": {},
   "source": [
    "#Class variable# − A variable that is shared by all instances of a class. Class variables are defined within a class but outside any of the class's methods."
   ]
  },
  {
   "cell_type": "markdown",
   "id": "23b92b6f",
   "metadata": {},
   "source": [
    "#Instance variable# − A variable that is defined inside a method and belongs only to the current instance of a clas"
   ]
  },
  {
   "cell_type": "markdown",
   "id": "05017a9a",
   "metadata": {},
   "source": [
    "#Inheritance# − The transfer of the characteristics of a class to other classes "
   ]
  },
  {
   "cell_type": "markdown",
   "id": "5496d8c7",
   "metadata": {},
   "source": [
    "#Instance# − An individual object of a certain class."
   ]
  },
  {
   "cell_type": "markdown",
   "id": "49ebaa93",
   "metadata": {},
   "source": [
    "#Method# − A special kind of function that is defined in a class definition."
   ]
  },
  {
   "cell_type": "markdown",
   "id": "3c5ec744",
   "metadata": {},
   "source": [
    "https://www.tutorialspoint.com/python/python_classes_objects.htm"
   ]
  },
  {
   "cell_type": "markdown",
   "id": "ccf4c8ca",
   "metadata": {},
   "source": [
    "# 1. Creating Python Class"
   ]
  },
  {
   "cell_type": "markdown",
   "id": "c36a098e",
   "metadata": {},
   "source": [
    "The class statement creates a new class definition. The name of the class immediately follows the keyword class followed by a colon as follows"
   ]
  },
  {
   "cell_type": "raw",
   "id": "39700474",
   "metadata": {},
   "source": [
    "class ClassName:\n",
    "   'Optional class documentation string'\n",
    "   class_suite"
   ]
  },
  {
   "cell_type": "code",
   "execution_count": 30,
   "id": "3f3dd218",
   "metadata": {},
   "outputs": [],
   "source": [
    "class Student:\n",
    "    \"\"\"The common base class creation , this the first class I created\"\"\"\n",
    "    studentCount=0\n",
    "    def __init__(self,name,marks,Age):\n",
    "        self.name=name\n",
    "        self.Age=Age\n",
    "        self.marks=marks\n",
    "        Student.studentCount+=1\n",
    "    def studentnumber(self):\n",
    "        print(\"The number of students ={} \".format(Student.studentCount))\n",
    "    def students_display(self):\n",
    "        print(\"Name: {} ,Age: {} , Marks: {}\".format(self.name,self.Age,self.marks))\n"
   ]
  },
  {
   "cell_type": "markdown",
   "id": "a06fdfa1",
   "metadata": {},
   "source": [
    "The variable studentCount is a class variable whose value is shared among all instances of a this class. This can be accessed as Student.studentCount from inside the class or outside the class."
   ]
  },
  {
   "cell_type": "code",
   "execution_count": 31,
   "id": "7835ed6c",
   "metadata": {},
   "outputs": [],
   "source": [
    "#The class has a documentation string, which can be accessed via ClassName.__doc__."
   ]
  },
  {
   "cell_type": "code",
   "execution_count": 32,
   "id": "2ee5b000",
   "metadata": {},
   "outputs": [
    {
     "name": "stdout",
     "output_type": "stream",
     "text": [
      "The common base class creation , this the first class I created\n"
     ]
    }
   ],
   "source": [
    "print(Student.__doc__)"
   ]
  },
  {
   "cell_type": "markdown",
   "id": "2d651e4d",
   "metadata": {},
   "source": [
    "# 3. Creating Instance Objects"
   ]
  },
  {
   "cell_type": "markdown",
   "id": "602c6f45",
   "metadata": {},
   "source": [
    "To create instances of a class, you call the class using class name and pass in whatever arguments its __init__ method accepts."
   ]
  },
  {
   "cell_type": "code",
   "execution_count": 34,
   "id": "ddf013ac",
   "metadata": {},
   "outputs": [],
   "source": [
    "student1=Student(\"Janvier\",45,95)\n",
    "student2=Student(\"Teddy\",25,89)\n",
    "student3=Student(\"Peter\",65,75)"
   ]
  },
  {
   "cell_type": "markdown",
   "id": "9c80dfcd",
   "metadata": {},
   "source": [
    "# 4. Accessing Attributes"
   ]
  },
  {
   "cell_type": "markdown",
   "id": "c4c9d413",
   "metadata": {},
   "source": [
    "You access the object's attributes using the dot operator with object. Class variable would be accessed using class name as follows "
   ]
  },
  {
   "cell_type": "code",
   "execution_count": 36,
   "id": "95a52548",
   "metadata": {},
   "outputs": [
    {
     "name": "stdout",
     "output_type": "stream",
     "text": [
      "The number of students =3 \n"
     ]
    }
   ],
   "source": [
    "student2.studentnumber()"
   ]
  },
  {
   "cell_type": "code",
   "execution_count": 39,
   "id": "a1a319a6",
   "metadata": {},
   "outputs": [
    {
     "name": "stdout",
     "output_type": "stream",
     "text": [
      "Name: Janvier ,Age: 95 , Marks: 45\n",
      "Name: Teddy ,Age: 89 , Marks: 25\n",
      "Name: Peter ,Age: 75 , Marks: 65\n"
     ]
    }
   ],
   "source": [
    "student1.students_display()\n",
    "student2.students_display()\n",
    "student3.students_display()"
   ]
  },
  {
   "cell_type": "code",
   "execution_count": 40,
   "id": "a560199c",
   "metadata": {},
   "outputs": [
    {
     "name": "stdout",
     "output_type": "stream",
     "text": [
      "The number of students is equals to : 3\n"
     ]
    }
   ],
   "source": [
    "print(\"The number of students is equals to : {}\".format(Student.studentCount))"
   ]
  },
  {
   "cell_type": "code",
   "execution_count": 42,
   "id": "d5ef3425",
   "metadata": {},
   "outputs": [],
   "source": [
    "student4=Student(\"Eric\",42,96)\n",
    "student5=Student(\"Xavier\",23,85)"
   ]
  },
  {
   "cell_type": "code",
   "execution_count": 43,
   "id": "642afd5d",
   "metadata": {},
   "outputs": [
    {
     "name": "stdout",
     "output_type": "stream",
     "text": [
      "The number of students is equals to : 5\n"
     ]
    }
   ],
   "source": [
    "print(\"The number of students is equals to : {}\".format(Student.studentCount))"
   ]
  },
  {
   "cell_type": "markdown",
   "id": "5ce43ab1",
   "metadata": {},
   "source": [
    "# 5. Let putting all the concepts together "
   ]
  },
  {
   "cell_type": "code",
   "execution_count": 44,
   "id": "a635b3f3",
   "metadata": {},
   "outputs": [
    {
     "name": "stdout",
     "output_type": "stream",
     "text": [
      "The common base class creation , this the first class I created\n",
      "Name: Janvier ,Age: 95 , Marks: 45\n",
      "Name: Teddy ,Age: 89 , Marks: 25\n",
      "Name: Peter ,Age: 75 , Marks: 65\n",
      "Name: Xavier ,Age: 85 , Marks: 23\n",
      "Name: Xavier ,Age: 85 , Marks: 23\n",
      "The number of students is equals to : 5\n"
     ]
    }
   ],
   "source": [
    "class Student:\n",
    "    \"\"\"The common base class creation , this the first class I created\"\"\"\n",
    "    studentCount=0\n",
    "    def __init__(self,name,marks,Age):\n",
    "        self.name=name\n",
    "        self.Age=Age\n",
    "        self.marks=marks\n",
    "        Student.studentCount+=1\n",
    "    def studentnumber(self):\n",
    "        print(\"The number of students ={} \".format(Student.studentCount))\n",
    "    def students_display(self):\n",
    "        print(\"Name: {} ,Age: {} , Marks: {}\".format(self.name,self.Age,self.marks))\n",
    "print(Student.__doc__)\n",
    "student1=Student(\"Janvier\",45,95)\n",
    "student2=Student(\"Teddy\",25,89)\n",
    "student3=Student(\"Peter\",65,75)\n",
    "student4=Student(\"Eric\",42,96)\n",
    "student5=Student(\"Xavier\",23,85)\n",
    "\n",
    "student1.students_display()\n",
    "student2.students_display()\n",
    "student3.students_display()\n",
    "student5.students_display()\n",
    "student5.students_display()\n",
    "print(\"The number of students is equals to : {}\".format(Student.studentCount))"
   ]
  },
  {
   "cell_type": "markdown",
   "id": "0214cc76",
   "metadata": {},
   "source": [
    "You can add, remove, or modify attributes of classes and objects at any time"
   ]
  },
  {
   "cell_type": "code",
   "execution_count": 45,
   "id": "20bb3227",
   "metadata": {},
   "outputs": [],
   "source": [
    "student1.Classname='Class B'"
   ]
  },
  {
   "cell_type": "code",
   "execution_count": 46,
   "id": "0d898326",
   "metadata": {},
   "outputs": [],
   "source": [
    "student1.Classname= 'Class A'"
   ]
  },
  {
   "cell_type": "code",
   "execution_count": 47,
   "id": "b962f651",
   "metadata": {},
   "outputs": [],
   "source": [
    "del student1.Classname"
   ]
  },
  {
   "cell_type": "code",
   "execution_count": null,
   "id": "6dbcdac8",
   "metadata": {},
   "outputs": [],
   "source": [
    "Thank you!!!"
   ]
  }
 ],
 "metadata": {
  "kernelspec": {
   "display_name": "Python 3 (ipykernel)",
   "language": "python",
   "name": "python3"
  },
  "language_info": {
   "codemirror_mode": {
    "name": "ipython",
    "version": 3
   },
   "file_extension": ".py",
   "mimetype": "text/x-python",
   "name": "python",
   "nbconvert_exporter": "python",
   "pygments_lexer": "ipython3",
   "version": "3.8.11"
  }
 },
 "nbformat": 4,
 "nbformat_minor": 5
}
