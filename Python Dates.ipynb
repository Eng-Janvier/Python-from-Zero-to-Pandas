{
 "cells": [
  {
   "cell_type": "markdown",
   "id": "790700ef",
   "metadata": {},
   "source": [
    "# The Python Programming Language: Dates and Times"
   ]
  },
  {
   "cell_type": "code",
   "execution_count": 5,
   "id": "774b3db3",
   "metadata": {},
   "outputs": [],
   "source": [
    "#import date module from datetime"
   ]
  },
  {
   "cell_type": "code",
   "execution_count": 12,
   "id": "5d4ae819",
   "metadata": {},
   "outputs": [],
   "source": [
    "from datetime import datetime"
   ]
  },
  {
   "cell_type": "code",
   "execution_count": 13,
   "id": "877b51dc",
   "metadata": {
    "scrolled": true
   },
   "outputs": [
    {
     "name": "stdout",
     "output_type": "stream",
     "text": [
      "2021-10-21 14:56:35.091279\n"
     ]
    }
   ],
   "source": [
    "#Check the current date\n",
    "date=datetime.today()\n",
    "print(date)"
   ]
  },
  {
   "cell_type": "code",
   "execution_count": 14,
   "id": "b832fee7",
   "metadata": {},
   "outputs": [
    {
     "name": "stdout",
     "output_type": "stream",
     "text": [
      "2021\n"
     ]
    }
   ],
   "source": [
    "#check the current year\n",
    "print(date.year)"
   ]
  },
  {
   "cell_type": "code",
   "execution_count": 15,
   "id": "66af1997",
   "metadata": {},
   "outputs": [
    {
     "name": "stdout",
     "output_type": "stream",
     "text": [
      "10\n"
     ]
    }
   ],
   "source": [
    "##Check the current month\n",
    "print(date.month)"
   ]
  },
  {
   "cell_type": "code",
   "execution_count": 9,
   "id": "80b99d19",
   "metadata": {},
   "outputs": [],
   "source": [
    "##Check the current day"
   ]
  },
  {
   "cell_type": "code",
   "execution_count": 16,
   "id": "cc795a9d",
   "metadata": {},
   "outputs": [
    {
     "name": "stdout",
     "output_type": "stream",
     "text": [
      "21\n"
     ]
    }
   ],
   "source": [
    "print(date.day)"
   ]
  },
  {
   "cell_type": "code",
   "execution_count": 22,
   "id": "f6c013cc",
   "metadata": {},
   "outputs": [
    {
     "name": "stdout",
     "output_type": "stream",
     "text": [
      "hour: 14, minutes: 56 and seconds: 35\n"
     ]
    }
   ],
   "source": [
    "##Check the current time\n",
    "print(\"hour: {}, minutes: {} and seconds: {}\".format(date.hour,date.minute,date.second))"
   ]
  },
  {
   "cell_type": "code",
   "execution_count": 4,
   "id": "0a732c6e",
   "metadata": {},
   "outputs": [],
   "source": [
    "#time duration with timedelta"
   ]
  },
  {
   "cell_type": "code",
   "execution_count": 42,
   "id": "cacc240d",
   "metadata": {},
   "outputs": [],
   "source": [
    "import datetime\n",
    "duration=datetime.timedelta(days=10)"
   ]
  },
  {
   "cell_type": "code",
   "execution_count": 43,
   "id": "b56958da",
   "metadata": {},
   "outputs": [],
   "source": [
    "#Check the previous date"
   ]
  },
  {
   "cell_type": "code",
   "execution_count": 44,
   "id": "88311ab6",
   "metadata": {},
   "outputs": [
    {
     "name": "stdout",
     "output_type": "stream",
     "text": [
      "2021-10-21 14:56:35.091279\n"
     ]
    }
   ],
   "source": [
    "print(date)"
   ]
  },
  {
   "cell_type": "code",
   "execution_count": 45,
   "id": "bce77d29",
   "metadata": {},
   "outputs": [
    {
     "name": "stdout",
     "output_type": "stream",
     "text": [
      "2021-10-11 14:56:35.091279\n"
     ]
    }
   ],
   "source": [
    "print(date-duration)"
   ]
  },
  {
   "cell_type": "code",
   "execution_count": 46,
   "id": "93e5e881",
   "metadata": {},
   "outputs": [],
   "source": [
    "#Check the future date"
   ]
  },
  {
   "cell_type": "code",
   "execution_count": 47,
   "id": "28abdeca",
   "metadata": {},
   "outputs": [
    {
     "name": "stdout",
     "output_type": "stream",
     "text": [
      "2021-10-31 14:56:35.091279\n"
     ]
    }
   ],
   "source": [
    "print(date+duration)"
   ]
  },
  {
   "cell_type": "markdown",
   "id": "50fe4771",
   "metadata": {},
   "source": [
    "# Thank you!!!"
   ]
  },
  {
   "cell_type": "code",
   "execution_count": null,
   "id": "8b12f6f0",
   "metadata": {},
   "outputs": [],
   "source": []
  }
 ],
 "metadata": {
  "kernelspec": {
   "display_name": "Python 3 (ipykernel)",
   "language": "python",
   "name": "python3"
  },
  "language_info": {
   "codemirror_mode": {
    "name": "ipython",
    "version": 3
   },
   "file_extension": ".py",
   "mimetype": "text/x-python",
   "name": "python",
   "nbconvert_exporter": "python",
   "pygments_lexer": "ipython3",
   "version": "3.9.6"
  }
 },
 "nbformat": 4,
 "nbformat_minor": 5
}
